{
 "metadata": {
  "kernelspec": {
   "language": "python",
   "display_name": "Python 3",
   "name": "python3"
  },
  "language_info": {
   "name": "python",
   "version": "3.10.13",
   "mimetype": "text/x-python",
   "codemirror_mode": {
    "name": "ipython",
    "version": 3
   },
   "pygments_lexer": "ipython3",
   "nbconvert_exporter": "python",
   "file_extension": ".py"
  },
  "kaggle": {
   "accelerator": "nvidiaTeslaT4",
   "dataSources": [
    {
     "sourceId": 3136,
     "databundleVersionId": 26502,
     "sourceType": "competition"
    }
   ],
   "dockerImageVersionId": 30665,
   "isInternetEnabled": true,
   "language": "python",
   "sourceType": "notebook",
   "isGpuEnabled": true
  }
 },
 "nbformat_minor": 4,
 "nbformat": 4,
 "cells": [
  {
   "cell_type": "code",
   "source": [
    "\"\"\"\n",
    "PassengerId：用户id\n",
    "survival：是否生还，0-否，1-是\n",
    "pclass：舱位，1-头等舱，2-二等，3-三等\n",
    "name：姓名\n",
    "sex：性别\n",
    "Age：年龄\n",
    "sibsp：在船上的兄弟/配偶数\n",
    "parch：在船上父母/孩子数\n",
    "ticket：票号\n",
    "fare：票价\n",
    "cabin：Cabin number；客舱号\n",
    "embarked：登船地点\n",
    "\"\"\""
   ],
   "metadata": {
    "execution": {
     "iopub.status.busy": "2024-02-28T03:39:38.820062Z",
     "iopub.execute_input": "2024-02-28T03:39:38.820452Z",
     "iopub.status.idle": "2024-02-28T03:39:38.836603Z",
     "shell.execute_reply.started": "2024-02-28T03:39:38.820405Z",
     "shell.execute_reply": "2024-02-28T03:39:38.835567Z"
    },
    "trusted": true
   },
   "execution_count": 1,
   "outputs": [
    {
     "execution_count": 1,
     "output_type": "execute_result",
     "data": {
      "text/plain": "'\\nPassengerId：用户id\\nsurvival：是否生还，0-否，1-是\\npclass：舱位，1-头等舱，2-二等，3-三等\\nname：姓名\\nsex：性别\\nAge：年龄\\nsibsp：在船上的兄弟/配偶数\\nparch：在船上父母/孩子数\\nticket：票号\\nfare：票价\\ncabin：Cabin number；客舱号\\nembarked：登船地点\\n'"
     },
     "metadata": {}
    }
   ]
  },
  {
   "cell_type": "code",
   "source": [
    "import numpy as np\n",
    "import pandas as pd\n",
    "import sklearn.preprocessing as preprocessing\n",
    "from sklearn.compose import ColumnTransformer\n",
    "from sklearn.ensemble import RandomForestClassifier, GradientBoostingClassifier, ExtraTreesClassifier\n",
    "from sklearn.discriminant_analysis import LinearDiscriminantAnalysis\n",
    "from sklearn.linear_model import LogisticRegression\n",
    "from sklearn.neighbors import KNeighborsClassifier\n",
    "from sklearn.tree import DecisionTreeClassifier\n",
    "from sklearn.svm import SVC\n",
    "from sklearn.model_selection import GridSearchCV, cross_val_score, StratifiedKFold"
   ],
   "metadata": {
    "execution": {
     "iopub.status.busy": "2024-02-28T03:39:38.838712Z",
     "iopub.execute_input": "2024-02-28T03:39:38.838997Z",
     "iopub.status.idle": "2024-02-28T03:39:40.167350Z",
     "shell.execute_reply.started": "2024-02-28T03:39:38.838973Z",
     "shell.execute_reply": "2024-02-28T03:39:40.166386Z"
    },
    "trusted": true
   },
   "execution_count": 2,
   "outputs": []
  },
  {
   "cell_type": "code",
   "source": [
    "train_data = pd.read_csv(\"/kaggle/input/titanic/train.csv\")\n",
    "test_data = pd.read_csv(\"/kaggle/input/titanic/test.csv\")"
   ],
   "metadata": {
    "execution": {
     "iopub.status.busy": "2024-02-28T03:39:40.168533Z",
     "iopub.execute_input": "2024-02-28T03:39:40.169041Z",
     "iopub.status.idle": "2024-02-28T03:39:40.197563Z",
     "shell.execute_reply.started": "2024-02-28T03:39:40.169009Z",
     "shell.execute_reply": "2024-02-28T03:39:40.196615Z"
    },
    "trusted": true
   },
   "execution_count": 3,
   "outputs": []
  },
  {
   "cell_type": "code",
   "source": [
    "train_data.info()"
   ],
   "metadata": {
    "execution": {
     "iopub.status.busy": "2024-02-28T03:39:40.198792Z",
     "iopub.execute_input": "2024-02-28T03:39:40.199198Z",
     "iopub.status.idle": "2024-02-28T03:39:40.231725Z",
     "shell.execute_reply.started": "2024-02-28T03:39:40.199162Z",
     "shell.execute_reply": "2024-02-28T03:39:40.230877Z"
    },
    "trusted": true
   },
   "execution_count": 4,
   "outputs": [
    {
     "name": "stdout",
     "text": "<class 'pandas.core.frame.DataFrame'>\nRangeIndex: 891 entries, 0 to 890\nData columns (total 12 columns):\n #   Column       Non-Null Count  Dtype  \n---  ------       --------------  -----  \n 0   PassengerId  891 non-null    int64  \n 1   Survived     891 non-null    int64  \n 2   Pclass       891 non-null    int64  \n 3   Name         891 non-null    object \n 4   Sex          891 non-null    object \n 5   Age          714 non-null    float64\n 6   SibSp        891 non-null    int64  \n 7   Parch        891 non-null    int64  \n 8   Ticket       891 non-null    object \n 9   Fare         891 non-null    float64\n 10  Cabin        204 non-null    object \n 11  Embarked     889 non-null    object \ndtypes: float64(2), int64(5), object(5)\nmemory usage: 83.7+ KB\n",
     "output_type": "stream"
    }
   ]
  },
  {
   "cell_type": "code",
   "source": [
    "train_data['Survived'].value_counts()"
   ],
   "metadata": {
    "execution": {
     "iopub.status.busy": "2024-02-28T03:39:40.234818Z",
     "iopub.execute_input": "2024-02-28T03:39:40.235157Z",
     "iopub.status.idle": "2024-02-28T03:39:40.244590Z",
     "shell.execute_reply.started": "2024-02-28T03:39:40.235122Z",
     "shell.execute_reply": "2024-02-28T03:39:40.243512Z"
    },
    "trusted": true
   },
   "execution_count": 5,
   "outputs": [
    {
     "execution_count": 5,
     "output_type": "execute_result",
     "data": {
      "text/plain": "Survived\n0    549\n1    342\nName: count, dtype: int64"
     },
     "metadata": {}
    }
   ]
  },
  {
   "cell_type": "code",
   "source": [
    "test_data.info()"
   ],
   "metadata": {
    "execution": {
     "iopub.status.busy": "2024-02-28T03:39:40.245918Z",
     "iopub.execute_input": "2024-02-28T03:39:40.246353Z",
     "iopub.status.idle": "2024-02-28T03:39:40.259175Z",
     "shell.execute_reply.started": "2024-02-28T03:39:40.246321Z",
     "shell.execute_reply": "2024-02-28T03:39:40.258271Z"
    },
    "trusted": true
   },
   "execution_count": 6,
   "outputs": [
    {
     "name": "stdout",
     "text": "<class 'pandas.core.frame.DataFrame'>\nRangeIndex: 418 entries, 0 to 417\nData columns (total 11 columns):\n #   Column       Non-Null Count  Dtype  \n---  ------       --------------  -----  \n 0   PassengerId  418 non-null    int64  \n 1   Pclass       418 non-null    int64  \n 2   Name         418 non-null    object \n 3   Sex          418 non-null    object \n 4   Age          332 non-null    float64\n 5   SibSp        418 non-null    int64  \n 6   Parch        418 non-null    int64  \n 7   Ticket       418 non-null    object \n 8   Fare         417 non-null    float64\n 9   Cabin        91 non-null     object \n 10  Embarked     418 non-null    object \ndtypes: float64(2), int64(4), object(5)\nmemory usage: 36.0+ KB\n",
     "output_type": "stream"
    }
   ]
  },
  {
   "cell_type": "code",
   "source": [
    "full_data = pd.concat([train_data, test_data], ignore_index=True)"
   ],
   "metadata": {
    "execution": {
     "iopub.status.busy": "2024-02-28T03:39:40.262019Z",
     "iopub.execute_input": "2024-02-28T03:39:40.262306Z",
     "iopub.status.idle": "2024-02-28T03:39:40.269933Z",
     "shell.execute_reply.started": "2024-02-28T03:39:40.262276Z",
     "shell.execute_reply": "2024-02-28T03:39:40.268957Z"
    },
    "trusted": true
   },
   "execution_count": 7,
   "outputs": []
  },
  {
   "cell_type": "code",
   "source": [
    "full_data.info()"
   ],
   "metadata": {
    "execution": {
     "iopub.status.busy": "2024-02-28T03:39:40.271075Z",
     "iopub.execute_input": "2024-02-28T03:39:40.271396Z",
     "iopub.status.idle": "2024-02-28T03:39:40.285839Z",
     "shell.execute_reply.started": "2024-02-28T03:39:40.271362Z",
     "shell.execute_reply": "2024-02-28T03:39:40.284783Z"
    },
    "trusted": true
   },
   "execution_count": 8,
   "outputs": [
    {
     "name": "stdout",
     "text": "<class 'pandas.core.frame.DataFrame'>\nRangeIndex: 1309 entries, 0 to 1308\nData columns (total 12 columns):\n #   Column       Non-Null Count  Dtype  \n---  ------       --------------  -----  \n 0   PassengerId  1309 non-null   int64  \n 1   Survived     891 non-null    float64\n 2   Pclass       1309 non-null   int64  \n 3   Name         1309 non-null   object \n 4   Sex          1309 non-null   object \n 5   Age          1046 non-null   float64\n 6   SibSp        1309 non-null   int64  \n 7   Parch        1309 non-null   int64  \n 8   Ticket       1309 non-null   object \n 9   Fare         1308 non-null   float64\n 10  Cabin        295 non-null    object \n 11  Embarked     1307 non-null   object \ndtypes: float64(3), int64(4), object(5)\nmemory usage: 122.8+ KB\n",
     "output_type": "stream"
    }
   ]
  },
  {
   "cell_type": "code",
   "source": [
    "# 1.填充缺失值\n",
    "# Embarked登船地点\n",
    "print(full_data[full_data['Embarked'].isnull()])  # 查看缺失值对应的数据"
   ],
   "metadata": {
    "execution": {
     "iopub.status.busy": "2024-02-28T03:39:40.287063Z",
     "iopub.execute_input": "2024-02-28T03:39:40.287362Z",
     "iopub.status.idle": "2024-02-28T03:39:40.308580Z",
     "shell.execute_reply.started": "2024-02-28T03:39:40.287338Z",
     "shell.execute_reply": "2024-02-28T03:39:40.307633Z"
    },
    "trusted": true
   },
   "execution_count": 9,
   "outputs": [
    {
     "name": "stdout",
     "text": "     PassengerId  Survived  Pclass                                       Name  \\\n61            62       1.0       1                        Icard, Miss. Amelie   \n829          830       1.0       1  Stone, Mrs. George Nelson (Martha Evelyn)   \n\n        Sex   Age  SibSp  Parch  Ticket  Fare Cabin Embarked  \n61   female  38.0      0      0  113572  80.0   B28      NaN  \n829  female  62.0      0      0  113572  80.0   B28      NaN  \n",
     "output_type": "stream"
    }
   ]
  },
  {
   "cell_type": "code",
   "source": [
    "full_data['Embarked'] = full_data.Embarked.fillna('C')  # Pclass=1，Fare=80，Embarked=C"
   ],
   "metadata": {
    "execution": {
     "iopub.status.busy": "2024-02-28T03:39:40.309833Z",
     "iopub.execute_input": "2024-02-28T03:39:40.310351Z",
     "iopub.status.idle": "2024-02-28T03:39:40.316127Z",
     "shell.execute_reply.started": "2024-02-28T03:39:40.310320Z",
     "shell.execute_reply": "2024-02-28T03:39:40.315084Z"
    },
    "trusted": true
   },
   "execution_count": 10,
   "outputs": []
  },
  {
   "cell_type": "code",
   "source": [
    "# Age年龄\n",
    "full_data['Age'] = full_data.Age.fillna(full_data.Age.mean())  # 用平均值填充\n",
    "# Fare票价\n",
    "full_data['Fare'] = full_data.Fare.fillna(full_data.Fare.mean())  # 用平均值填充"
   ],
   "metadata": {
    "execution": {
     "iopub.status.busy": "2024-02-28T03:39:40.317449Z",
     "iopub.execute_input": "2024-02-28T03:39:40.317860Z",
     "iopub.status.idle": "2024-02-28T03:39:40.325616Z",
     "shell.execute_reply.started": "2024-02-28T03:39:40.317825Z",
     "shell.execute_reply": "2024-02-28T03:39:40.324699Z"
    },
    "trusted": true
   },
   "execution_count": 11,
   "outputs": []
  },
  {
   "cell_type": "code",
   "source": [
    "# 2.生成新特征\n",
    "# 生成Title特征\n",
    "full_data['Title'] = full_data.Name.apply(lambda x: x.split(',')[1].split('.')[0].strip())"
   ],
   "metadata": {
    "execution": {
     "iopub.status.busy": "2024-02-28T03:39:40.326781Z",
     "iopub.execute_input": "2024-02-28T03:39:40.330293Z",
     "iopub.status.idle": "2024-02-28T03:39:40.337765Z",
     "shell.execute_reply.started": "2024-02-28T03:39:40.330260Z",
     "shell.execute_reply": "2024-02-28T03:39:40.336945Z"
    },
    "trusted": true
   },
   "execution_count": 12,
   "outputs": []
  },
  {
   "cell_type": "code",
   "source": [
    "Title_Dictionary = {\n",
    "    \"Capt\": \"Officer\",\n",
    "    \"Col\": \"Officer\",\n",
    "    \"Major\": \"Officer\",\n",
    "    \"Jonkheer\": \"Royalty\",\n",
    "    \"Don\": \"Royalty\",\n",
    "    \"Sir\": \"Royalty\",\n",
    "    \"Dr\": \"Officer\",\n",
    "    \"Rev\": \"Officer\",\n",
    "    \"the Countess\": \"Royalty\",\n",
    "    \"Dona\": \"Royalty\",\n",
    "    \"Mme\": \"Mrs\",\n",
    "    \"Mlle\": \"Miss\",\n",
    "    \"Ms\": \"Mrs\",\n",
    "    \"Mr\": \"Mr\",\n",
    "    \"Mrs\": \"Mrs\",\n",
    "    \"Miss\": \"Miss\",\n",
    "    \"Master\": \"Master\",\n",
    "    \"Lady\": \"Royalty\"\n",
    "}"
   ],
   "metadata": {
    "execution": {
     "iopub.status.busy": "2024-02-28T03:39:40.338622Z",
     "iopub.execute_input": "2024-02-28T03:39:40.338855Z",
     "iopub.status.idle": "2024-02-28T03:39:40.361509Z",
     "shell.execute_reply.started": "2024-02-28T03:39:40.338834Z",
     "shell.execute_reply": "2024-02-28T03:39:40.360687Z"
    },
    "trusted": true
   },
   "execution_count": 13,
   "outputs": []
  },
  {
   "cell_type": "code",
   "source": [
    "full_data['Title'] = full_data['Title'].map(Title_Dictionary)"
   ],
   "metadata": {
    "execution": {
     "iopub.status.busy": "2024-02-28T03:39:40.367159Z",
     "iopub.execute_input": "2024-02-28T03:39:40.367510Z",
     "iopub.status.idle": "2024-02-28T03:39:40.374291Z",
     "shell.execute_reply.started": "2024-02-28T03:39:40.367485Z",
     "shell.execute_reply": "2024-02-28T03:39:40.373388Z"
    },
    "trusted": true
   },
   "execution_count": 14,
   "outputs": []
  },
  {
   "cell_type": "code",
   "source": [
    "print(full_data['Title'].value_counts())"
   ],
   "metadata": {
    "execution": {
     "iopub.status.busy": "2024-02-28T03:39:40.375339Z",
     "iopub.execute_input": "2024-02-28T03:39:40.375609Z",
     "iopub.status.idle": "2024-02-28T03:39:40.385532Z",
     "shell.execute_reply.started": "2024-02-28T03:39:40.375588Z",
     "shell.execute_reply": "2024-02-28T03:39:40.384629Z"
    },
    "trusted": true
   },
   "execution_count": 15,
   "outputs": [
    {
     "name": "stdout",
     "text": "Title\nMr         757\nMiss       262\nMrs        200\nMaster      61\nOfficer     23\nRoyalty      6\nName: count, dtype: int64\n",
     "output_type": "stream"
    }
   ]
  },
  {
   "cell_type": "code",
   "source": [
    "# 生成FamilySize特征\n",
    "full_data['familyNum'] = full_data['Parch'] + full_data['SibSp'] + 1"
   ],
   "metadata": {
    "execution": {
     "iopub.status.busy": "2024-02-28T03:39:40.386539Z",
     "iopub.execute_input": "2024-02-28T03:39:40.386811Z",
     "iopub.status.idle": "2024-02-28T03:39:40.395015Z",
     "shell.execute_reply.started": "2024-02-28T03:39:40.386788Z",
     "shell.execute_reply": "2024-02-28T03:39:40.394263Z"
    },
    "trusted": true
   },
   "execution_count": 16,
   "outputs": []
  },
  {
   "cell_type": "code",
   "source": [
    "# 我们按照家庭成员人数多少，将家庭规模分为“小、中、大”三类：\n",
    "def family_size(family_num):\n",
    "    if family_num == 1:\n",
    "        return 0\n",
    "    elif (family_num >= 2) & (family_num <= 4):\n",
    "        return 1\n",
    "    else:\n",
    "        return 2"
   ],
   "metadata": {
    "execution": {
     "iopub.status.busy": "2024-02-28T03:39:40.396031Z",
     "iopub.execute_input": "2024-02-28T03:39:40.396300Z",
     "iopub.status.idle": "2024-02-28T03:39:40.406205Z",
     "shell.execute_reply.started": "2024-02-28T03:39:40.396279Z",
     "shell.execute_reply": "2024-02-28T03:39:40.405466Z"
    },
    "trusted": true
   },
   "execution_count": 17,
   "outputs": []
  },
  {
   "cell_type": "code",
   "source": [
    "full_data['familySize'] = full_data['familyNum'].map(family_size)"
   ],
   "metadata": {
    "execution": {
     "iopub.status.busy": "2024-02-28T03:39:40.407116Z",
     "iopub.execute_input": "2024-02-28T03:39:40.407493Z",
     "iopub.status.idle": "2024-02-28T03:39:40.416751Z",
     "shell.execute_reply.started": "2024-02-28T03:39:40.407469Z",
     "shell.execute_reply": "2024-02-28T03:39:40.415872Z"
    },
    "trusted": true
   },
   "execution_count": 18,
   "outputs": []
  },
  {
   "cell_type": "code",
   "source": [
    "print(full_data['familySize'].value_counts())"
   ],
   "metadata": {
    "execution": {
     "iopub.status.busy": "2024-02-28T03:39:40.417907Z",
     "iopub.execute_input": "2024-02-28T03:39:40.418460Z",
     "iopub.status.idle": "2024-02-28T03:39:40.427985Z",
     "shell.execute_reply.started": "2024-02-28T03:39:40.418430Z",
     "shell.execute_reply": "2024-02-28T03:39:40.427147Z"
    },
    "trusted": true
   },
   "execution_count": 19,
   "outputs": [
    {
     "name": "stdout",
     "text": "familySize\n0    790\n1    437\n2     82\nName: count, dtype: int64\n",
     "output_type": "stream"
    }
   ]
  },
  {
   "cell_type": "code",
   "source": [
    "# 取Cabin首字符作为相关特征\n",
    "full_data['Cabin'] = full_data.Cabin.fillna('U')\n",
    "full_data['Cabin'] = full_data['Cabin'].map(lambda c: c[0])"
   ],
   "metadata": {
    "execution": {
     "iopub.status.busy": "2024-02-28T03:39:40.429100Z",
     "iopub.execute_input": "2024-02-28T03:39:40.429646Z",
     "iopub.status.idle": "2024-02-28T03:39:40.438612Z",
     "shell.execute_reply.started": "2024-02-28T03:39:40.429617Z",
     "shell.execute_reply": "2024-02-28T03:39:40.437608Z"
    },
    "trusted": true
   },
   "execution_count": 20,
   "outputs": []
  },
  {
   "cell_type": "code",
   "source": [
    "full_data.info()"
   ],
   "metadata": {
    "execution": {
     "iopub.status.busy": "2024-02-28T03:39:40.439600Z",
     "iopub.execute_input": "2024-02-28T03:39:40.439919Z",
     "iopub.status.idle": "2024-02-28T03:39:40.455960Z",
     "shell.execute_reply.started": "2024-02-28T03:39:40.439890Z",
     "shell.execute_reply": "2024-02-28T03:39:40.454978Z"
    },
    "trusted": true
   },
   "execution_count": 21,
   "outputs": [
    {
     "name": "stdout",
     "text": "<class 'pandas.core.frame.DataFrame'>\nRangeIndex: 1309 entries, 0 to 1308\nData columns (total 15 columns):\n #   Column       Non-Null Count  Dtype  \n---  ------       --------------  -----  \n 0   PassengerId  1309 non-null   int64  \n 1   Survived     891 non-null    float64\n 2   Pclass       1309 non-null   int64  \n 3   Name         1309 non-null   object \n 4   Sex          1309 non-null   object \n 5   Age          1309 non-null   float64\n 6   SibSp        1309 non-null   int64  \n 7   Parch        1309 non-null   int64  \n 8   Ticket       1309 non-null   object \n 9   Fare         1309 non-null   float64\n 10  Cabin        1309 non-null   object \n 11  Embarked     1309 non-null   object \n 12  Title        1309 non-null   object \n 13  familyNum    1309 non-null   int64  \n 14  familySize   1309 non-null   int64  \ndtypes: float64(3), int64(6), object(6)\nmemory usage: 153.5+ KB\n",
     "output_type": "stream"
    }
   ]
  },
  {
   "cell_type": "code",
   "source": [
    "full_data.to_csv(\"/kaggle/working/prepare_data.csv\")"
   ],
   "metadata": {
    "execution": {
     "iopub.status.busy": "2024-02-28T03:39:40.457090Z",
     "iopub.execute_input": "2024-02-28T03:39:40.457718Z",
     "iopub.status.idle": "2024-02-28T03:39:40.480338Z",
     "shell.execute_reply.started": "2024-02-28T03:39:40.457686Z",
     "shell.execute_reply": "2024-02-28T03:39:40.479562Z"
    },
    "trusted": true
   },
   "execution_count": 22,
   "outputs": []
  },
  {
   "cell_type": "code",
   "source": [
    "full_data.head()"
   ],
   "metadata": {
    "execution": {
     "iopub.status.busy": "2024-02-28T03:39:40.481379Z",
     "iopub.execute_input": "2024-02-28T03:39:40.482003Z",
     "iopub.status.idle": "2024-02-28T03:39:40.500060Z",
     "shell.execute_reply.started": "2024-02-28T03:39:40.481973Z",
     "shell.execute_reply": "2024-02-28T03:39:40.499323Z"
    },
    "trusted": true
   },
   "execution_count": 23,
   "outputs": [
    {
     "execution_count": 23,
     "output_type": "execute_result",
     "data": {
      "text/plain": "   PassengerId  Survived  Pclass  \\\n0            1       0.0       3   \n1            2       1.0       1   \n2            3       1.0       3   \n3            4       1.0       1   \n4            5       0.0       3   \n\n                                                Name     Sex   Age  SibSp  \\\n0                            Braund, Mr. Owen Harris    male  22.0      1   \n1  Cumings, Mrs. John Bradley (Florence Briggs Th...  female  38.0      1   \n2                             Heikkinen, Miss. Laina  female  26.0      0   \n3       Futrelle, Mrs. Jacques Heath (Lily May Peel)  female  35.0      1   \n4                           Allen, Mr. William Henry    male  35.0      0   \n\n   Parch            Ticket     Fare Cabin Embarked Title  familyNum  \\\n0      0         A/5 21171   7.2500     U        S    Mr          2   \n1      0          PC 17599  71.2833     C        C   Mrs          2   \n2      0  STON/O2. 3101282   7.9250     U        S  Miss          1   \n3      0            113803  53.1000     C        S   Mrs          2   \n4      0            373450   8.0500     U        S    Mr          1   \n\n   familySize  \n0           1  \n1           1  \n2           0  \n3           1  \n4           0  ",
      "text/html": "<div>\n<style scoped>\n    .dataframe tbody tr th:only-of-type {\n        vertical-align: middle;\n    }\n\n    .dataframe tbody tr th {\n        vertical-align: top;\n    }\n\n    .dataframe thead th {\n        text-align: right;\n    }\n</style>\n<table border=\"1\" class=\"dataframe\">\n  <thead>\n    <tr style=\"text-align: right;\">\n      <th></th>\n      <th>PassengerId</th>\n      <th>Survived</th>\n      <th>Pclass</th>\n      <th>Name</th>\n      <th>Sex</th>\n      <th>Age</th>\n      <th>SibSp</th>\n      <th>Parch</th>\n      <th>Ticket</th>\n      <th>Fare</th>\n      <th>Cabin</th>\n      <th>Embarked</th>\n      <th>Title</th>\n      <th>familyNum</th>\n      <th>familySize</th>\n    </tr>\n  </thead>\n  <tbody>\n    <tr>\n      <th>0</th>\n      <td>1</td>\n      <td>0.0</td>\n      <td>3</td>\n      <td>Braund, Mr. Owen Harris</td>\n      <td>male</td>\n      <td>22.0</td>\n      <td>1</td>\n      <td>0</td>\n      <td>A/5 21171</td>\n      <td>7.2500</td>\n      <td>U</td>\n      <td>S</td>\n      <td>Mr</td>\n      <td>2</td>\n      <td>1</td>\n    </tr>\n    <tr>\n      <th>1</th>\n      <td>2</td>\n      <td>1.0</td>\n      <td>1</td>\n      <td>Cumings, Mrs. John Bradley (Florence Briggs Th...</td>\n      <td>female</td>\n      <td>38.0</td>\n      <td>1</td>\n      <td>0</td>\n      <td>PC 17599</td>\n      <td>71.2833</td>\n      <td>C</td>\n      <td>C</td>\n      <td>Mrs</td>\n      <td>2</td>\n      <td>1</td>\n    </tr>\n    <tr>\n      <th>2</th>\n      <td>3</td>\n      <td>1.0</td>\n      <td>3</td>\n      <td>Heikkinen, Miss. Laina</td>\n      <td>female</td>\n      <td>26.0</td>\n      <td>0</td>\n      <td>0</td>\n      <td>STON/O2. 3101282</td>\n      <td>7.9250</td>\n      <td>U</td>\n      <td>S</td>\n      <td>Miss</td>\n      <td>1</td>\n      <td>0</td>\n    </tr>\n    <tr>\n      <th>3</th>\n      <td>4</td>\n      <td>1.0</td>\n      <td>1</td>\n      <td>Futrelle, Mrs. Jacques Heath (Lily May Peel)</td>\n      <td>female</td>\n      <td>35.0</td>\n      <td>1</td>\n      <td>0</td>\n      <td>113803</td>\n      <td>53.1000</td>\n      <td>C</td>\n      <td>S</td>\n      <td>Mrs</td>\n      <td>2</td>\n      <td>1</td>\n    </tr>\n    <tr>\n      <th>4</th>\n      <td>5</td>\n      <td>0.0</td>\n      <td>3</td>\n      <td>Allen, Mr. William Henry</td>\n      <td>male</td>\n      <td>35.0</td>\n      <td>0</td>\n      <td>0</td>\n      <td>373450</td>\n      <td>8.0500</td>\n      <td>U</td>\n      <td>S</td>\n      <td>Mr</td>\n      <td>1</td>\n      <td>0</td>\n    </tr>\n  </tbody>\n</table>\n</div>"
     },
     "metadata": {}
    }
   ]
  },
  {
   "cell_type": "code",
   "source": [
    "# 3.删除无用特征\n",
    "test_new_data_with_id = full_data.iloc[891:, :].copy()\n",
    "full_data = full_data.drop(['PassengerId', 'Name', 'SibSp', 'Parch', 'Ticket', 'familyNum'], axis=1)"
   ],
   "metadata": {
    "execution": {
     "iopub.status.busy": "2024-02-28T03:39:40.500930Z",
     "iopub.execute_input": "2024-02-28T03:39:40.501170Z",
     "iopub.status.idle": "2024-02-28T03:39:40.508876Z",
     "shell.execute_reply.started": "2024-02-28T03:39:40.501148Z",
     "shell.execute_reply": "2024-02-28T03:39:40.508052Z"
    },
    "trusted": true
   },
   "execution_count": 24,
   "outputs": []
  },
  {
   "cell_type": "code",
   "source": [
    "full_data.head()"
   ],
   "metadata": {
    "execution": {
     "iopub.status.busy": "2024-02-28T03:39:40.510067Z",
     "iopub.execute_input": "2024-02-28T03:39:40.510366Z",
     "iopub.status.idle": "2024-02-28T03:39:40.527756Z",
     "shell.execute_reply.started": "2024-02-28T03:39:40.510344Z",
     "shell.execute_reply": "2024-02-28T03:39:40.526728Z"
    },
    "trusted": true
   },
   "execution_count": 25,
   "outputs": [
    {
     "execution_count": 25,
     "output_type": "execute_result",
     "data": {
      "text/plain": "   Survived  Pclass     Sex   Age     Fare Cabin Embarked Title  familySize\n0       0.0       3    male  22.0   7.2500     U        S    Mr           1\n1       1.0       1  female  38.0  71.2833     C        C   Mrs           1\n2       1.0       3  female  26.0   7.9250     U        S  Miss           0\n3       1.0       1  female  35.0  53.1000     C        S   Mrs           1\n4       0.0       3    male  35.0   8.0500     U        S    Mr           0",
      "text/html": "<div>\n<style scoped>\n    .dataframe tbody tr th:only-of-type {\n        vertical-align: middle;\n    }\n\n    .dataframe tbody tr th {\n        vertical-align: top;\n    }\n\n    .dataframe thead th {\n        text-align: right;\n    }\n</style>\n<table border=\"1\" class=\"dataframe\">\n  <thead>\n    <tr style=\"text-align: right;\">\n      <th></th>\n      <th>Survived</th>\n      <th>Pclass</th>\n      <th>Sex</th>\n      <th>Age</th>\n      <th>Fare</th>\n      <th>Cabin</th>\n      <th>Embarked</th>\n      <th>Title</th>\n      <th>familySize</th>\n    </tr>\n  </thead>\n  <tbody>\n    <tr>\n      <th>0</th>\n      <td>0.0</td>\n      <td>3</td>\n      <td>male</td>\n      <td>22.0</td>\n      <td>7.2500</td>\n      <td>U</td>\n      <td>S</td>\n      <td>Mr</td>\n      <td>1</td>\n    </tr>\n    <tr>\n      <th>1</th>\n      <td>1.0</td>\n      <td>1</td>\n      <td>female</td>\n      <td>38.0</td>\n      <td>71.2833</td>\n      <td>C</td>\n      <td>C</td>\n      <td>Mrs</td>\n      <td>1</td>\n    </tr>\n    <tr>\n      <th>2</th>\n      <td>1.0</td>\n      <td>3</td>\n      <td>female</td>\n      <td>26.0</td>\n      <td>7.9250</td>\n      <td>U</td>\n      <td>S</td>\n      <td>Miss</td>\n      <td>0</td>\n    </tr>\n    <tr>\n      <th>3</th>\n      <td>1.0</td>\n      <td>1</td>\n      <td>female</td>\n      <td>35.0</td>\n      <td>53.1000</td>\n      <td>C</td>\n      <td>S</td>\n      <td>Mrs</td>\n      <td>1</td>\n    </tr>\n    <tr>\n      <th>4</th>\n      <td>0.0</td>\n      <td>3</td>\n      <td>male</td>\n      <td>35.0</td>\n      <td>8.0500</td>\n      <td>U</td>\n      <td>S</td>\n      <td>Mr</td>\n      <td>0</td>\n    </tr>\n  </tbody>\n</table>\n</div>"
     },
     "metadata": {}
    }
   ]
  },
  {
   "cell_type": "code",
   "source": [
    "# 划分训练集和测试集\n",
    "train_new_data = full_data.iloc[:891, :]\n",
    "test_new_data = full_data.iloc[891:, :]\n",
    "train_x = train_new_data.drop(['Survived'], axis=1)\n",
    "train_y = train_new_data['Survived']\n",
    "test_x = test_new_data.drop(['Survived'], axis=1)"
   ],
   "metadata": {
    "execution": {
     "iopub.status.busy": "2024-02-28T03:39:40.528929Z",
     "iopub.execute_input": "2024-02-28T03:39:40.529293Z",
     "iopub.status.idle": "2024-02-28T03:39:40.538443Z",
     "shell.execute_reply.started": "2024-02-28T03:39:40.529262Z",
     "shell.execute_reply": "2024-02-28T03:39:40.537643Z"
    },
    "trusted": true
   },
   "execution_count": 26,
   "outputs": []
  },
  {
   "cell_type": "code",
   "source": [
    "# 创建OrdinalEncoder实例\n",
    "encoder = preprocessing.OrdinalEncoder()\n",
    "# 创建StandardScaler实例\n",
    "scaler = preprocessing.StandardScaler()\n",
    "# 定义需要进行编码的列\n",
    "columns_to_encode = ['Sex', 'Embarked', 'Cabin', 'Title']"
   ],
   "metadata": {
    "execution": {
     "iopub.status.busy": "2024-02-28T03:39:40.539605Z",
     "iopub.execute_input": "2024-02-28T03:39:40.540258Z",
     "iopub.status.idle": "2024-02-28T03:39:40.548134Z",
     "shell.execute_reply.started": "2024-02-28T03:39:40.540207Z",
     "shell.execute_reply": "2024-02-28T03:39:40.547250Z"
    },
    "trusted": true
   },
   "execution_count": 27,
   "outputs": []
  },
  {
   "cell_type": "code",
   "source": [
    "# 创建ColumnTransformer实例，用于对指定列进行转换\n",
    "column_transformer = ColumnTransformer(\n",
    "    transformers=[\n",
    "        ('encoder', encoder, columns_to_encode)\n",
    "    ],\n",
    "    remainder='passthrough'  # 保留未指定的列\n",
    ")"
   ],
   "metadata": {
    "execution": {
     "iopub.status.busy": "2024-02-28T03:39:40.549253Z",
     "iopub.execute_input": "2024-02-28T03:39:40.549541Z",
     "iopub.status.idle": "2024-02-28T03:39:40.557894Z",
     "shell.execute_reply.started": "2024-02-28T03:39:40.549507Z",
     "shell.execute_reply": "2024-02-28T03:39:40.556994Z"
    },
    "trusted": true
   },
   "execution_count": 28,
   "outputs": []
  },
  {
   "cell_type": "code",
   "source": [
    "train_x_encoded = column_transformer.fit_transform(train_x)\n",
    "test_x_encoded = column_transformer.transform(test_x)"
   ],
   "metadata": {
    "execution": {
     "iopub.status.busy": "2024-02-28T03:39:40.559105Z",
     "iopub.execute_input": "2024-02-28T03:39:40.559546Z",
     "iopub.status.idle": "2024-02-28T03:39:40.581469Z",
     "shell.execute_reply.started": "2024-02-28T03:39:40.559520Z",
     "shell.execute_reply": "2024-02-28T03:39:40.580574Z"
    },
    "trusted": true
   },
   "execution_count": 29,
   "outputs": []
  },
  {
   "cell_type": "code",
   "source": [
    "train_x_encoded_std = scaler.fit_transform(train_x_encoded)\n",
    "test_x_encoded_std = scaler.transform(test_x_encoded)"
   ],
   "metadata": {
    "execution": {
     "iopub.status.busy": "2024-02-28T03:39:40.582486Z",
     "iopub.execute_input": "2024-02-28T03:39:40.582763Z",
     "iopub.status.idle": "2024-02-28T03:39:40.589108Z",
     "shell.execute_reply.started": "2024-02-28T03:39:40.582731Z",
     "shell.execute_reply": "2024-02-28T03:39:40.588208Z"
    },
    "trusted": true
   },
   "execution_count": 30,
   "outputs": []
  },
  {
   "cell_type": "code",
   "source": [
    "train_x_encoded_std[0]"
   ],
   "metadata": {
    "execution": {
     "iopub.status.busy": "2024-02-28T03:39:40.590230Z",
     "iopub.execute_input": "2024-02-28T03:39:40.590944Z",
     "iopub.status.idle": "2024-02-28T03:39:40.600027Z",
     "shell.execute_reply.started": "2024-02-28T03:39:40.590909Z",
     "shell.execute_reply": "2024-02-28T03:39:40.598960Z"
    },
    "trusted": true
   },
   "execution_count": 31,
   "outputs": [
    {
     "execution_count": 31,
     "output_type": "execute_result",
     "data": {
      "text/plain": "array([ 0.73769513,  0.58937471,  0.52206745,  0.11966255,  0.82737724,\n       -0.59525389, -0.50244517,  0.8557739 ])"
     },
     "metadata": {}
    }
   ]
  },
  {
   "cell_type": "code",
   "source": [
    "test_x_encoded_std[0]"
   ],
   "metadata": {
    "execution": {
     "iopub.status.busy": "2024-02-28T03:39:40.601571Z",
     "iopub.execute_input": "2024-02-28T03:39:40.601902Z",
     "iopub.status.idle": "2024-02-28T03:39:40.610492Z",
     "shell.execute_reply.started": "2024-02-28T03:39:40.601872Z",
     "shell.execute_reply": "2024-02-28T03:39:40.609436Z"
    },
    "trusted": true
   },
   "execution_count": 32,
   "outputs": [
    {
     "execution_count": 32,
     "output_type": "execute_result",
     "data": {
      "text/plain": "array([ 0.73769513, -0.66993673,  0.52206745,  0.11966255,  0.82737724,\n        0.36666048, -0.49078316, -0.74947777])"
     },
     "metadata": {}
    }
   ]
  },
  {
   "cell_type": "code",
   "source": [
    "# 4.模型训练\n",
    "# 设置kfold，交叉采样法拆分数据集\n",
    "kfold = StratifiedKFold(n_splits=10)"
   ],
   "metadata": {
    "execution": {
     "iopub.status.busy": "2024-02-28T03:39:40.611637Z",
     "iopub.execute_input": "2024-02-28T03:39:40.611929Z",
     "iopub.status.idle": "2024-02-28T03:39:40.620356Z",
     "shell.execute_reply.started": "2024-02-28T03:39:40.611904Z",
     "shell.execute_reply": "2024-02-28T03:39:40.619169Z"
    },
    "trusted": true
   },
   "execution_count": 33,
   "outputs": []
  },
  {
   "cell_type": "code",
   "source": [
    "# 汇总不同模型算法\n",
    "classifiers = [SVC(), DecisionTreeClassifier(), RandomForestClassifier(), ExtraTreesClassifier(),\n",
    "               GradientBoostingClassifier(), KNeighborsClassifier(), LogisticRegression(), LinearDiscriminantAnalysis()]"
   ],
   "metadata": {
    "execution": {
     "iopub.status.busy": "2024-02-28T03:39:40.621581Z",
     "iopub.execute_input": "2024-02-28T03:39:40.621900Z",
     "iopub.status.idle": "2024-02-28T03:39:40.630172Z",
     "shell.execute_reply.started": "2024-02-28T03:39:40.621875Z",
     "shell.execute_reply": "2024-02-28T03:39:40.629388Z"
    },
    "trusted": true
   },
   "execution_count": 34,
   "outputs": []
  },
  {
   "cell_type": "code",
   "source": [
    "# 不同机器学习交叉验证结果汇总\n",
    "cv_results = []\n",
    "for classifier in classifiers:\n",
    "    cv_results.append(cross_val_score(classifier, train_x_encoded_std, train_y,\n",
    "                                      scoring='accuracy', cv=kfold, n_jobs=-1))"
   ],
   "metadata": {
    "execution": {
     "iopub.status.busy": "2024-02-28T03:39:40.631358Z",
     "iopub.execute_input": "2024-02-28T03:39:40.631671Z",
     "iopub.status.idle": "2024-02-28T03:39:45.691710Z",
     "shell.execute_reply.started": "2024-02-28T03:39:40.631633Z",
     "shell.execute_reply": "2024-02-28T03:39:45.690786Z"
    },
    "trusted": true
   },
   "execution_count": 35,
   "outputs": []
  },
  {
   "cell_type": "code",
   "source": [
    "# 求出模型得分的均值和标准差\n",
    "cv_means = []\n",
    "cv_std = []\n",
    "for cv_result in cv_results:\n",
    "    cv_means.append(cv_result.mean())\n",
    "    cv_std.append(cv_result.std())"
   ],
   "metadata": {
    "execution": {
     "iopub.status.busy": "2024-02-28T03:39:45.692948Z",
     "iopub.execute_input": "2024-02-28T03:39:45.693307Z",
     "iopub.status.idle": "2024-02-28T03:39:45.702078Z",
     "shell.execute_reply.started": "2024-02-28T03:39:45.693269Z",
     "shell.execute_reply": "2024-02-28T03:39:45.701249Z"
    },
    "trusted": true
   },
   "execution_count": 36,
   "outputs": []
  },
  {
   "cell_type": "code",
   "source": [
    "# 汇总数据\n",
    "cvResDf = pd.DataFrame({'cv_mean': cv_means,\n",
    "                        'cv_std': cv_std,\n",
    "                        'algorithm': ['SVC', 'DecisionTreeCla', 'RandomForestCla', 'ExtraTreesCla',\n",
    "                                      'GradientBoostingCla', 'KNN', 'LR', 'LinearDiscrimiAna']})\n",
    "print(cvResDf)"
   ],
   "metadata": {
    "execution": {
     "iopub.status.busy": "2024-02-28T03:39:45.703456Z",
     "iopub.execute_input": "2024-02-28T03:39:45.703862Z",
     "iopub.status.idle": "2024-02-28T03:39:45.719741Z",
     "shell.execute_reply.started": "2024-02-28T03:39:45.703832Z",
     "shell.execute_reply": "2024-02-28T03:39:45.718801Z"
    },
    "trusted": true
   },
   "execution_count": 37,
   "outputs": [
    {
     "name": "stdout",
     "text": "    cv_mean    cv_std            algorithm\n0  0.836142  0.037652                  SVC\n1  0.793583  0.057081      DecisionTreeCla\n2  0.824969  0.037009      RandomForestCla\n3  0.808127  0.040376        ExtraTreesCla\n4  0.842921  0.043580  GradientBoostingCla\n5  0.823820  0.035747                  KNN\n6  0.786729  0.017690                   LR\n7  0.796829  0.028353    LinearDiscrimiAna\n",
     "output_type": "stream"
    }
   ]
  },
  {
   "cell_type": "code",
   "source": [
    "GBC = GradientBoostingClassifier()\n",
    "gb_param_grid = {'loss': ['exponential', 'log_loss'],\n",
    "                 'n_estimators': [100, 200, 300],\n",
    "                 'learning_rate': [0.1, 0.05, 0.01],\n",
    "                 'max_depth': [4, 8],\n",
    "                 'min_samples_leaf': [100, 150],\n",
    "                 'max_features': [0.3, 0.1]\n",
    "                 }\n",
    "model_GBC = GridSearchCV(GBC, param_grid=gb_param_grid, cv=kfold,\n",
    "                         scoring=\"accuracy\")\n",
    "model_GBC.fit(train_x_encoded_std, train_y)\n",
    "print(f\"GradientBoostingClassifier模型得分：{model_GBC.best_score_}\")\n",
    "print(f\"GradientBoostingClassifier最优参数：{model_GBC.best_params_}\")"
   ],
   "metadata": {
    "execution": {
     "iopub.status.busy": "2024-02-28T03:39:45.721280Z",
     "iopub.execute_input": "2024-02-28T03:39:45.721579Z",
     "iopub.status.idle": "2024-02-28T03:44:02.866496Z",
     "shell.execute_reply.started": "2024-02-28T03:39:45.721551Z",
     "shell.execute_reply": "2024-02-28T03:44:02.865532Z"
    },
    "trusted": true
   },
   "execution_count": 38,
   "outputs": [
    {
     "name": "stdout",
     "text": "GradientBoostingClassifier模型得分：0.826067415730337\nGradientBoostingClassifier最优参数：{'learning_rate': 0.1, 'loss': 'log_loss', 'max_depth': 8, 'max_features': 0.3, 'min_samples_leaf': 100, 'n_estimators': 300}\n",
     "output_type": "stream"
    }
   ]
  },
  {
   "cell_type": "code",
   "source": [
    "best_model = model_GBC.best_estimator_\n",
    "pred_test_y = best_model.predict(test_x_encoded_std)"
   ],
   "metadata": {
    "execution": {
     "iopub.status.busy": "2024-02-28T03:45:32.356990Z",
     "iopub.execute_input": "2024-02-28T03:45:32.357343Z",
     "iopub.status.idle": "2024-02-28T03:45:32.365893Z",
     "shell.execute_reply.started": "2024-02-28T03:45:32.357314Z",
     "shell.execute_reply": "2024-02-28T03:45:32.364614Z"
    },
    "trusted": true
   },
   "execution_count": 39,
   "outputs": []
  },
  {
   "cell_type": "code",
   "source": [
    "output = pd.DataFrame(\n",
    "    {\"PassengerId\": test_new_data_with_id[\"PassengerId\"], \"Survived\": pred_test_y.astype(\"int64\")}\n",
    ")"
   ],
   "metadata": {
    "execution": {
     "iopub.status.busy": "2024-02-28T03:45:50.697451Z",
     "iopub.execute_input": "2024-02-28T03:45:50.698099Z",
     "iopub.status.idle": "2024-02-28T03:45:50.704790Z",
     "shell.execute_reply.started": "2024-02-28T03:45:50.698066Z",
     "shell.execute_reply": "2024-02-28T03:45:50.703876Z"
    },
    "trusted": true
   },
   "execution_count": 40,
   "outputs": []
  },
  {
   "cell_type": "code",
   "source": [
    "output.to_csv(\"/kaggle/working/titanic_gbc_submission.csv\", index=False)"
   ],
   "metadata": {
    "execution": {
     "iopub.status.busy": "2024-02-28T03:46:35.637139Z",
     "iopub.execute_input": "2024-02-28T03:46:35.637863Z",
     "iopub.status.idle": "2024-02-28T03:46:35.644199Z",
     "shell.execute_reply.started": "2024-02-28T03:46:35.637831Z",
     "shell.execute_reply": "2024-02-28T03:46:35.643200Z"
    },
    "trusted": true
   },
   "execution_count": 41,
   "outputs": []
  }
 ]
}

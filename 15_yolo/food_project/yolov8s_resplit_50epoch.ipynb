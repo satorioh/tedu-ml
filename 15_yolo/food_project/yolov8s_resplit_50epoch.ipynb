{
 "cells": [
  {
   "cell_type": "code",
   "execution_count": 1,
   "id": "65c88369-c63c-4e4a-a919-38cbba4e2ca6",
   "metadata": {},
   "outputs": [
    {
     "name": "stdout",
     "output_type": "stream",
     "text": [
      "Tue Mar 26 01:32:15 2024       \n",
      "+---------------------------------------------------------------------------------------+\n",
      "| NVIDIA-SMI 535.161.07             Driver Version: 535.161.07   CUDA Version: 12.2     |\n",
      "|-----------------------------------------+----------------------+----------------------+\n",
      "| GPU  Name                 Persistence-M | Bus-Id        Disp.A | Volatile Uncorr. ECC |\n",
      "| Fan  Temp   Perf          Pwr:Usage/Cap |         Memory-Usage | GPU-Util  Compute M. |\n",
      "|                                         |                      |               MIG M. |\n",
      "|=========================================+======================+======================|\n",
      "|   0  NVIDIA RTX A4000               On  | 00000000:1A:00.0 Off |                  Off |\n",
      "| 41%   39C    P8              17W / 140W |      1MiB / 16376MiB |      0%      Default |\n",
      "|                                         |                      |                  N/A |\n",
      "+-----------------------------------------+----------------------+----------------------+\n",
      "                                                                                         \n",
      "+---------------------------------------------------------------------------------------+\n",
      "| Processes:                                                                            |\n",
      "|  GPU   GI   CI        PID   Type   Process name                            GPU Memory |\n",
      "|        ID   ID                                                             Usage      |\n",
      "|=======================================================================================|\n",
      "|  No running processes found                                                           |\n",
      "+---------------------------------------------------------------------------------------+\n"
     ]
    }
   ],
   "source": [
    "# to check and monitoring of NVIDIA GPU devices.\n",
    "!nvidia-smi"
   ]
  },
  {
   "cell_type": "code",
   "execution_count": 2,
   "id": "e0afa7ed-9b38-4966-b236-ac93f4f9afda",
   "metadata": {},
   "outputs": [
    {
     "name": "stderr",
     "output_type": "stream",
     "text": [
      "Ultralytics YOLOv8.0.186 🚀 Python-3.10.13 torch-2.2.0 CUDA:0 (NVIDIA RTX A4000, 16109MiB)\n",
      "Setup complete ✅ (28 CPUs, 125.5 GB RAM, 1.6/50.0 GB disk)\n"
     ]
    }
   ],
   "source": [
    "!pip install --upgrade ultralytics==8.0.186\n",
    "import ultralytics\n",
    "ultralytics.checks()"
   ]
  },
  {
   "cell_type": "code",
   "execution_count": 3,
   "id": "f1e3d3e5-a0b0-42f9-96f8-45622ce9dfeb",
   "metadata": {},
   "outputs": [
    {
     "name": "stdout",
     "output_type": "stream",
     "text": [
      "{'settings_version': '0.0.4', 'datasets_dir': '/workspace/datasets', 'weights_dir': 'weights', 'runs_dir': 'runs', 'uuid': 'af86e989f891cbd0cd78de981596cc553f47f4a708b5ec210405ae2024cb9aec', 'sync': True, 'api_key': '', 'clearml': True, 'comet': True, 'dvc': True, 'hub': True, 'mlflow': True, 'neptune': True, 'raytune': True, 'tensorboard': True, 'wandb': True}\n"
     ]
    }
   ],
   "source": [
    "from ultralytics import settings, YOLO\n",
    "\n",
    "print(settings)"
   ]
  },
  {
   "cell_type": "code",
   "execution_count": 4,
   "id": "3180436b-eca2-45bd-a16a-3fcef5c04693",
   "metadata": {},
   "outputs": [
    {
     "name": "stdout",
     "output_type": "stream",
     "text": [
      "\u001b[33mWARNING: Running pip as the 'root' user can result in broken permissions and conflicting behaviour with the system package manager. It is recommended to use a virtual environment instead: https://pip.pypa.io/warnings/venv\u001b[0m\u001b[33m\n",
      "\u001b[0m"
     ]
    },
    {
     "name": "stderr",
     "output_type": "stream",
     "text": [
      "Failed to detect the name of this notebook, you can set it manually with the WANDB_NOTEBOOK_NAME environment variable to enable code saving.\n",
      "\u001b[34m\u001b[1mwandb\u001b[0m: Logging into wandb.ai. (Learn how to deploy a W&B server locally: https://wandb.me/wandb-server)\n",
      "\u001b[34m\u001b[1mwandb\u001b[0m: You can find your API key in your browser here: https://wandb.ai/authorize\n",
      "\u001b[34m\u001b[1mwandb\u001b[0m: Paste an API key from your profile and hit enter, or press ctrl+c to quit:"
     ]
    },
    {
     "name": "stdin",
     "output_type": "stream",
     "text": [
      "  ········\n"
     ]
    },
    {
     "name": "stderr",
     "output_type": "stream",
     "text": [
      "\u001b[34m\u001b[1mwandb\u001b[0m: Appending key for api.wandb.ai to your netrc file: /root/.netrc\n"
     ]
    },
    {
     "data": {
      "text/plain": [
       "True"
      ]
     },
     "execution_count": 4,
     "metadata": {},
     "output_type": "execute_result"
    }
   ],
   "source": [
    "!pip install wandb -qU\n",
    "import wandb\n",
    "wandb.login()"
   ]
  },
  {
   "cell_type": "code",
   "execution_count": 5,
   "id": "f6097be1-f1ae-4b69-baf4-a14a44dbd87e",
   "metadata": {},
   "outputs": [
    {
     "name": "stderr",
     "output_type": "stream",
     "text": [
      "\u001b[34m\u001b[1mwandb\u001b[0m: Currently logged in as: \u001b[33mwangbinxp\u001b[0m. Use \u001b[1m`wandb login --relogin`\u001b[0m to force relogin\n"
     ]
    },
    {
     "data": {
      "text/html": [
       "Tracking run with wandb version 0.16.5"
      ],
      "text/plain": [
       "<IPython.core.display.HTML object>"
      ]
     },
     "metadata": {},
     "output_type": "display_data"
    },
    {
     "data": {
      "text/html": [
       "Run data is saved locally in <code>/workspace/wandb/run-20240326_014247-jz6fc982</code>"
      ],
      "text/plain": [
       "<IPython.core.display.HTML object>"
      ]
     },
     "metadata": {},
     "output_type": "display_data"
    },
    {
     "data": {
      "text/html": [
       "Syncing run <strong><a href='https://wandb.ai/wangbinxp/yolov8_food/runs/jz6fc982/workspace' target=\"_blank\">peachy-sun-5</a></strong> to <a href='https://wandb.ai/wangbinxp/yolov8_food' target=\"_blank\">Weights & Biases</a> (<a href='https://wandb.me/run' target=\"_blank\">docs</a>)<br/>"
      ],
      "text/plain": [
       "<IPython.core.display.HTML object>"
      ]
     },
     "metadata": {},
     "output_type": "display_data"
    },
    {
     "data": {
      "text/html": [
       " View project at <a href='https://wandb.ai/wangbinxp/yolov8_food' target=\"_blank\">https://wandb.ai/wangbinxp/yolov8_food</a>"
      ],
      "text/plain": [
       "<IPython.core.display.HTML object>"
      ]
     },
     "metadata": {},
     "output_type": "display_data"
    },
    {
     "data": {
      "text/html": [
       " View run at <a href='https://wandb.ai/wangbinxp/yolov8_food/runs/jz6fc982/workspace' target=\"_blank\">https://wandb.ai/wangbinxp/yolov8_food/runs/jz6fc982/workspace</a>"
      ],
      "text/plain": [
       "<IPython.core.display.HTML object>"
      ]
     },
     "metadata": {},
     "output_type": "display_data"
    },
    {
     "data": {
      "text/html": [
       "<button onClick=\"this.nextSibling.style.display='block';this.style.display='none';\">Display W&B run</button><iframe src='https://wandb.ai/wangbinxp/yolov8_food/runs/jz6fc982?jupyter=true' style='border:none;width:100%;height:420px;display:none;'></iframe>"
      ],
      "text/plain": [
       "<wandb.sdk.wandb_run.Run at 0x7f23b6019390>"
      ]
     },
     "execution_count": 5,
     "metadata": {},
     "output_type": "execute_result"
    }
   ],
   "source": [
    "wandb.init(project=\"yolov8_food\", job_type=\"training\")"
   ]
  },
  {
   "cell_type": "code",
   "execution_count": 6,
   "id": "c8db964c-387e-4656-9d3e-5bc9dd28bcb8",
   "metadata": {},
   "outputs": [
    {
     "name": "stderr",
     "output_type": "stream",
     "text": [
      "Downloading https://github.com/ultralytics/assets/releases/download/v0.0.0/yolov8s.pt to 'yolov8s.pt'...\n",
      "100%|██████████| 21.5M/21.5M [00:07<00:00, 3.12MB/s]\n"
     ]
    }
   ],
   "source": [
    "# Load a model\n",
    "model = YOLO('yolov8s.pt')  # load a pretrained model (recommended for training)"
   ]
  },
  {
   "cell_type": "code",
   "execution_count": null,
   "id": "b556089f-0a25-46f4-9d3c-c886bb945651",
   "metadata": {},
   "outputs": [],
   "source": [
    "from wandb.integration.ultralytics import add_wandb_callback\n",
    "\n",
    "add_wandb_callback(model, enable_model_checkpointing=True)"
   ]
  },
  {
   "cell_type": "code",
   "execution_count": 9,
   "id": "df14265d-4618-4112-964d-ec0713cb3029",
   "metadata": {},
   "outputs": [
    {
     "name": "stderr",
     "output_type": "stream",
     "text": [
      "New https://pypi.org/project/ultralytics/8.1.34 available 😃 Update with 'pip install -U ultralytics'\n",
      "Ultralytics YOLOv8.0.186 🚀 Python-3.10.13 torch-2.2.0 CUDA:0 (NVIDIA RTX A4000, 16109MiB)\n",
      "\u001b[34m\u001b[1mengine/trainer: \u001b[0mtask=detect, mode=train, model=yolov8s.pt, data=./datasets/unimib2016.yaml, epochs=50, patience=50, batch=16, imgsz=640, save=True, save_period=-1, cache=False, device=None, workers=8, project=yolov8_food, name=None, exist_ok=False, pretrained=True, optimizer=auto, verbose=True, seed=0, deterministic=True, single_cls=False, rect=False, cos_lr=False, close_mosaic=10, resume=False, amp=True, fraction=1.0, profile=False, freeze=None, overlap_mask=True, mask_ratio=4, dropout=0.0, val=True, split=val, save_json=False, save_hybrid=False, conf=None, iou=0.7, max_det=300, half=False, dnn=False, plots=True, source=None, show=False, save_txt=False, save_conf=False, save_crop=False, show_labels=True, show_conf=True, vid_stride=1, stream_buffer=False, line_width=None, visualize=False, augment=False, agnostic_nms=False, classes=None, retina_masks=False, boxes=True, format=torchscript, keras=False, optimize=False, int8=False, dynamic=False, simplify=False, opset=None, workspace=4, nms=False, lr0=0.01, lrf=0.01, momentum=0.937, weight_decay=0.0005, warmup_epochs=3.0, warmup_momentum=0.8, warmup_bias_lr=0.1, box=7.5, cls=0.5, dfl=1.5, pose=12.0, kobj=1.0, label_smoothing=0.0, nbs=64, hsv_h=0.015, hsv_s=0.7, hsv_v=0.4, degrees=0.0, translate=0.1, scale=0.5, shear=0.0, perspective=0.0, flipud=0.0, fliplr=0.5, mosaic=1.0, mixup=0.0, copy_paste=0.0, cfg=None, tracker=botsort.yaml, save_dir=yolov8_food/train2\n",
      "Downloading https://ultralytics.com/assets/Arial.ttf to '/root/.config/Ultralytics/Arial.ttf'...\n",
      "100%|██████████| 755k/755k [00:00<00:00, 2.22MB/s]\n",
      "Overriding model.yaml nc=80 with nc=73\n",
      "\n",
      "                   from  n    params  module                                       arguments                     \n",
      "  0                  -1  1       928  ultralytics.nn.modules.conv.Conv             [3, 32, 3, 2]                 \n",
      "  1                  -1  1     18560  ultralytics.nn.modules.conv.Conv             [32, 64, 3, 2]                \n",
      "  2                  -1  1     29056  ultralytics.nn.modules.block.C2f             [64, 64, 1, True]             \n",
      "  3                  -1  1     73984  ultralytics.nn.modules.conv.Conv             [64, 128, 3, 2]               \n",
      "  4                  -1  2    197632  ultralytics.nn.modules.block.C2f             [128, 128, 2, True]           \n",
      "  5                  -1  1    295424  ultralytics.nn.modules.conv.Conv             [128, 256, 3, 2]              \n",
      "  6                  -1  2    788480  ultralytics.nn.modules.block.C2f             [256, 256, 2, True]           \n",
      "  7                  -1  1   1180672  ultralytics.nn.modules.conv.Conv             [256, 512, 3, 2]              \n",
      "  8                  -1  1   1838080  ultralytics.nn.modules.block.C2f             [512, 512, 1, True]           \n",
      "  9                  -1  1    656896  ultralytics.nn.modules.block.SPPF            [512, 512, 5]                 \n",
      " 10                  -1  1         0  torch.nn.modules.upsampling.Upsample         [None, 2, 'nearest']          \n",
      " 11             [-1, 6]  1         0  ultralytics.nn.modules.conv.Concat           [1]                           \n",
      " 12                  -1  1    591360  ultralytics.nn.modules.block.C2f             [768, 256, 1]                 \n",
      " 13                  -1  1         0  torch.nn.modules.upsampling.Upsample         [None, 2, 'nearest']          \n",
      " 14             [-1, 4]  1         0  ultralytics.nn.modules.conv.Concat           [1]                           \n",
      " 15                  -1  1    148224  ultralytics.nn.modules.block.C2f             [384, 128, 1]                 \n",
      " 16                  -1  1    147712  ultralytics.nn.modules.conv.Conv             [128, 128, 3, 2]              \n",
      " 17            [-1, 12]  1         0  ultralytics.nn.modules.conv.Concat           [1]                           \n",
      " 18                  -1  1    493056  ultralytics.nn.modules.block.C2f             [384, 256, 1]                 \n",
      " 19                  -1  1    590336  ultralytics.nn.modules.conv.Conv             [256, 256, 3, 2]              \n",
      " 20             [-1, 9]  1         0  ultralytics.nn.modules.conv.Concat           [1]                           \n",
      " 21                  -1  1   1969152  ultralytics.nn.modules.block.C2f             [768, 512, 1]                 \n",
      " 22        [15, 18, 21]  1   2144299  ultralytics.nn.modules.head.Detect           [73, [128, 256, 512]]         \n",
      "Model summary: 225 layers, 11163851 parameters, 11163835 gradients\n",
      "\n",
      "Transferred 349/355 items from pretrained weights\n",
      "Freezing layer 'model.22.dfl.conv.weight'\n",
      "\u001b[34m\u001b[1mAMP: \u001b[0mrunning Automatic Mixed Precision (AMP) checks with YOLOv8n...\n",
      "Downloading https://github.com/ultralytics/assets/releases/download/v0.0.0/yolov8n.pt to 'yolov8n.pt'...\n",
      "100%|██████████| 6.23M/6.23M [00:07<00:00, 875kB/s] \n",
      "\u001b[34m\u001b[1mAMP: \u001b[0mchecks passed ✅\n",
      "\u001b[34m\u001b[1mtrain: \u001b[0mScanning /workspace/datasets/unimib2016/labels/train... 822 images, 0 backgrounds, 0 corrupt: 100%|██████████| 822/822 [00:00<00:00, 1080.28it/s]\n",
      "\u001b[34m\u001b[1mtrain: \u001b[0mNew cache created: /workspace/datasets/unimib2016/labels/train.cache\n",
      "\u001b[34m\u001b[1mval: \u001b[0mScanning /workspace/datasets/unimib2016/labels/val... 205 images, 0 backgrounds, 0 corrupt: 100%|██████████| 205/205 [00:00<00:00, 623.78it/s]\n",
      "\u001b[34m\u001b[1mval: \u001b[0mNew cache created: /workspace/datasets/unimib2016/labels/val.cache\n",
      "Plotting labels to yolov8_food/train2/labels.jpg... \n",
      "\u001b[34m\u001b[1moptimizer:\u001b[0m 'optimizer=auto' found, ignoring 'lr0=0.01' and 'momentum=0.937' and determining best 'optimizer', 'lr0' and 'momentum' automatically... \n",
      "\u001b[34m\u001b[1moptimizer:\u001b[0m AdamW(lr=0.00013, momentum=0.9) with parameter groups 57 weight(decay=0.0), 64 weight(decay=0.0005), 63 bias(decay=0.0)\n",
      "Image sizes 640 train, 640 val\n",
      "Using 8 dataloader workers\n",
      "Logging results to \u001b[1myolov8_food/train2\u001b[0m\n",
      "Starting training for 50 epochs...\n",
      "\n",
      "      Epoch    GPU_mem   box_loss   cls_loss   dfl_loss  Instances       Size\n",
      "       1/50      4.24G     0.7745      4.742      1.161         53        640: 100%|██████████| 52/52 [00:20<00:00,  2.57it/s]\n",
      "                 Class     Images  Instances      Box(P          R      mAP50  mAP50-95): 100%|██████████| 7/7 [00:06<00:00,  1.15it/s]\n",
      "                   all        205        713      0.572       0.11      0.102     0.0876\n"
     ]
    },
    {
     "data": {
      "application/vnd.jupyter.widget-view+json": {
       "model_id": "205000c238b44b578f07455ce3dfc1e6",
       "version_major": 2,
       "version_minor": 0
      },
      "text/plain": [
       "Generating Visualizations for batch-1/1:   0%|          | 0/32 [00:00<?, ?it/s]"
      ]
     },
     "metadata": {},
     "output_type": "display_data"
    },
    {
     "name": "stderr",
     "output_type": "stream",
     "text": [
      "\n",
      "      Epoch    GPU_mem   box_loss   cls_loss   dfl_loss  Instances       Size\n",
      "       2/50      4.37G     0.6174       2.42      1.037         26        640: 100%|██████████| 52/52 [00:10<00:00,  5.15it/s]\n",
      "                 Class     Images  Instances      Box(P          R      mAP50  mAP50-95): 100%|██████████| 7/7 [00:05<00:00,  1.31it/s]\n",
      "                   all        205        713      0.714      0.381      0.387      0.352\n"
     ]
    },
    {
     "data": {
      "application/vnd.jupyter.widget-view+json": {
       "model_id": "67ec91aa51ac4a87aa1f5b7ef372581b",
       "version_major": 2,
       "version_minor": 0
      },
      "text/plain": [
       "Generating Visualizations for batch-1/1:   0%|          | 0/32 [00:00<?, ?it/s]"
      ]
     },
     "metadata": {},
     "output_type": "display_data"
    },
    {
     "name": "stderr",
     "output_type": "stream",
     "text": [
      "\n",
      "      Epoch    GPU_mem   box_loss   cls_loss   dfl_loss  Instances       Size\n",
      "       3/50      4.61G     0.5523      1.646     0.9935         41        640: 100%|██████████| 52/52 [00:10<00:00,  5.05it/s]\n",
      "                 Class     Images  Instances      Box(P          R      mAP50  mAP50-95): 100%|██████████| 7/7 [00:05<00:00,  1.40it/s]\n",
      "                   all        205        713      0.746      0.492      0.536      0.497\n"
     ]
    },
    {
     "data": {
      "application/vnd.jupyter.widget-view+json": {
       "model_id": "34174f6f3a584fba8b1e5fd29b0a2033",
       "version_major": 2,
       "version_minor": 0
      },
      "text/plain": [
       "Generating Visualizations for batch-1/1:   0%|          | 0/32 [00:00<?, ?it/s]"
      ]
     },
     "metadata": {},
     "output_type": "display_data"
    },
    {
     "name": "stderr",
     "output_type": "stream",
     "text": [
      "\n",
      "      Epoch    GPU_mem   box_loss   cls_loss   dfl_loss  Instances       Size\n",
      "       4/50      4.68G     0.5242      1.294     0.9688         41        640: 100%|██████████| 52/52 [00:10<00:00,  5.04it/s]\n",
      "                 Class     Images  Instances      Box(P          R      mAP50  mAP50-95): 100%|██████████| 7/7 [00:04<00:00,  1.66it/s]\n",
      "                   all        205        713      0.761      0.566      0.624      0.578\n"
     ]
    },
    {
     "data": {
      "application/vnd.jupyter.widget-view+json": {
       "model_id": "1f9f585548ec453c90d361df7569872d",
       "version_major": 2,
       "version_minor": 0
      },
      "text/plain": [
       "Generating Visualizations for batch-1/1:   0%|          | 0/32 [00:00<?, ?it/s]"
      ]
     },
     "metadata": {},
     "output_type": "display_data"
    },
    {
     "name": "stderr",
     "output_type": "stream",
     "text": [
      "\n",
      "      Epoch    GPU_mem   box_loss   cls_loss   dfl_loss  Instances       Size\n",
      "       5/50      4.74G      0.493       1.07     0.9473         41        640: 100%|██████████| 52/52 [00:10<00:00,  4.89it/s]\n",
      "                 Class     Images  Instances      Box(P          R      mAP50  mAP50-95): 100%|██████████| 7/7 [00:02<00:00,  2.94it/s]\n",
      "                   all        205        713      0.736      0.619      0.675      0.629\n"
     ]
    },
    {
     "data": {
      "application/vnd.jupyter.widget-view+json": {
       "model_id": "d5a16cb702724a499e661dc3606580cf",
       "version_major": 2,
       "version_minor": 0
      },
      "text/plain": [
       "Generating Visualizations for batch-1/1:   0%|          | 0/32 [00:00<?, ?it/s]"
      ]
     },
     "metadata": {},
     "output_type": "display_data"
    },
    {
     "name": "stderr",
     "output_type": "stream",
     "text": [
      "\n",
      "      Epoch    GPU_mem   box_loss   cls_loss   dfl_loss  Instances       Size\n",
      "       6/50      4.82G     0.4884     0.9385     0.9481         42        640: 100%|██████████| 52/52 [00:09<00:00,  5.44it/s]\n",
      "                 Class     Images  Instances      Box(P          R      mAP50  mAP50-95): 100%|██████████| 7/7 [00:02<00:00,  3.02it/s]\n",
      "                   all        205        713      0.726      0.726      0.751      0.697\n"
     ]
    },
    {
     "data": {
      "application/vnd.jupyter.widget-view+json": {
       "model_id": "5a50a896c5c149d98b014e6f70582116",
       "version_major": 2,
       "version_minor": 0
      },
      "text/plain": [
       "Generating Visualizations for batch-1/1:   0%|          | 0/32 [00:00<?, ?it/s]"
      ]
     },
     "metadata": {},
     "output_type": "display_data"
    },
    {
     "name": "stderr",
     "output_type": "stream",
     "text": [
      "\n",
      "      Epoch    GPU_mem   box_loss   cls_loss   dfl_loss  Instances       Size\n",
      "       7/50      4.88G     0.4796     0.8368     0.9338         45        640: 100%|██████████| 52/52 [00:09<00:00,  5.26it/s]\n",
      "                 Class     Images  Instances      Box(P          R      mAP50  mAP50-95): 100%|██████████| 7/7 [00:01<00:00,  3.52it/s]\n",
      "                   all        205        713      0.694      0.728      0.771      0.711\n"
     ]
    },
    {
     "data": {
      "application/vnd.jupyter.widget-view+json": {
       "model_id": "9fa457462082402db84ebd27a60f06ef",
       "version_major": 2,
       "version_minor": 0
      },
      "text/plain": [
       "Generating Visualizations for batch-1/1:   0%|          | 0/13 [00:00<?, ?it/s]"
      ]
     },
     "metadata": {},
     "output_type": "display_data"
    },
    {
     "name": "stderr",
     "output_type": "stream",
     "text": [
      "\n",
      "      Epoch    GPU_mem   box_loss   cls_loss   dfl_loss  Instances       Size\n",
      "       8/50      4.95G     0.4673     0.7647     0.9318         44        640: 100%|██████████| 52/52 [00:09<00:00,  5.32it/s]\n",
      "                 Class     Images  Instances      Box(P          R      mAP50  mAP50-95): 100%|██████████| 7/7 [00:01<00:00,  3.56it/s]\n",
      "                   all        205        713       0.82      0.695      0.807      0.739\n"
     ]
    },
    {
     "data": {
      "application/vnd.jupyter.widget-view+json": {
       "model_id": "b375bda76c5c4018ad433075acb8d589",
       "version_major": 2,
       "version_minor": 0
      },
      "text/plain": [
       "Generating Visualizations for batch-1/1:   0%|          | 0/32 [00:00<?, ?it/s]"
      ]
     },
     "metadata": {},
     "output_type": "display_data"
    },
    {
     "name": "stderr",
     "output_type": "stream",
     "text": [
      "\n",
      "      Epoch    GPU_mem   box_loss   cls_loss   dfl_loss  Instances       Size\n",
      "       9/50      5.03G     0.4555     0.7109     0.9197         42        640: 100%|██████████| 52/52 [00:09<00:00,  5.31it/s]\n",
      "                 Class     Images  Instances      Box(P          R      mAP50  mAP50-95): 100%|██████████| 7/7 [00:02<00:00,  3.21it/s]\n",
      "                   all        205        713      0.822      0.726      0.849       0.78\n"
     ]
    },
    {
     "data": {
      "application/vnd.jupyter.widget-view+json": {
       "model_id": "878269f080204359be0d2495b00d9c0b",
       "version_major": 2,
       "version_minor": 0
      },
      "text/plain": [
       "Generating Visualizations for batch-1/1:   0%|          | 0/32 [00:00<?, ?it/s]"
      ]
     },
     "metadata": {},
     "output_type": "display_data"
    },
    {
     "name": "stderr",
     "output_type": "stream",
     "text": [
      "\n",
      "      Epoch    GPU_mem   box_loss   cls_loss   dfl_loss  Instances       Size\n",
      "      10/50      5.11G       0.44     0.6469      0.917         35        640: 100%|██████████| 52/52 [00:10<00:00,  5.03it/s]\n",
      "                 Class     Images  Instances      Box(P          R      mAP50  mAP50-95): 100%|██████████| 7/7 [00:01<00:00,  4.84it/s]\n",
      "                   all        205        713      0.803      0.796      0.885      0.822\n"
     ]
    },
    {
     "data": {
      "application/vnd.jupyter.widget-view+json": {
       "model_id": "4eac322016c14e61974096e85432ffeb",
       "version_major": 2,
       "version_minor": 0
      },
      "text/plain": [
       "Generating Visualizations for batch-1/1:   0%|          | 0/32 [00:00<?, ?it/s]"
      ]
     },
     "metadata": {},
     "output_type": "display_data"
    },
    {
     "name": "stderr",
     "output_type": "stream",
     "text": [
      "\n",
      "      Epoch    GPU_mem   box_loss   cls_loss   dfl_loss  Instances       Size\n",
      "      11/50      5.15G     0.4362     0.6057     0.9128         36        640: 100%|██████████| 52/52 [00:09<00:00,  5.35it/s]\n",
      "                 Class     Images  Instances      Box(P          R      mAP50  mAP50-95): 100%|██████████| 7/7 [00:02<00:00,  3.32it/s]\n",
      "                   all        205        713      0.785      0.768      0.844      0.785\n"
     ]
    },
    {
     "data": {
      "application/vnd.jupyter.widget-view+json": {
       "model_id": "aa9136c9488248d5904fe2561b3926b4",
       "version_major": 2,
       "version_minor": 0
      },
      "text/plain": [
       "Generating Visualizations for batch-1/1:   0%|          | 0/32 [00:00<?, ?it/s]"
      ]
     },
     "metadata": {},
     "output_type": "display_data"
    },
    {
     "name": "stderr",
     "output_type": "stream",
     "text": [
      "\n",
      "      Epoch    GPU_mem   box_loss   cls_loss   dfl_loss  Instances       Size\n",
      "      12/50      5.24G     0.4292     0.5691     0.9068         38        640: 100%|██████████| 52/52 [00:09<00:00,  5.39it/s]\n",
      "                 Class     Images  Instances      Box(P          R      mAP50  mAP50-95): 100%|██████████| 7/7 [00:02<00:00,  3.05it/s]\n",
      "                   all        205        713       0.72      0.824      0.865      0.804\n"
     ]
    },
    {
     "data": {
      "application/vnd.jupyter.widget-view+json": {
       "model_id": "cf74136b4ff146dab13a014e9e08d988",
       "version_major": 2,
       "version_minor": 0
      },
      "text/plain": [
       "Generating Visualizations for batch-1/1:   0%|          | 0/32 [00:00<?, ?it/s]"
      ]
     },
     "metadata": {},
     "output_type": "display_data"
    },
    {
     "name": "stderr",
     "output_type": "stream",
     "text": [
      "\n",
      "      Epoch    GPU_mem   box_loss   cls_loss   dfl_loss  Instances       Size\n",
      "      13/50      5.31G     0.4138     0.5458     0.8993         36        640: 100%|██████████| 52/52 [00:10<00:00,  5.06it/s]\n",
      "                 Class     Images  Instances      Box(P          R      mAP50  mAP50-95): 100%|██████████| 7/7 [00:01<00:00,  3.83it/s]\n",
      "                   all        205        713      0.808      0.792      0.869      0.811\n"
     ]
    },
    {
     "data": {
      "application/vnd.jupyter.widget-view+json": {
       "model_id": "6a29f584aca5414e9341b623e73dd124",
       "version_major": 2,
       "version_minor": 0
      },
      "text/plain": [
       "Generating Visualizations for batch-1/1:   0%|          | 0/32 [00:00<?, ?it/s]"
      ]
     },
     "metadata": {},
     "output_type": "display_data"
    },
    {
     "name": "stderr",
     "output_type": "stream",
     "text": [
      "\n",
      "      Epoch    GPU_mem   box_loss   cls_loss   dfl_loss  Instances       Size\n",
      "      14/50      5.38G     0.4243     0.5312      0.908         42        640: 100%|██████████| 52/52 [00:10<00:00,  5.08it/s]\n",
      "                 Class     Images  Instances      Box(P          R      mAP50  mAP50-95): 100%|██████████| 7/7 [00:01<00:00,  3.52it/s]\n",
      "                   all        205        713      0.862      0.779      0.909      0.839\n"
     ]
    },
    {
     "data": {
      "application/vnd.jupyter.widget-view+json": {
       "model_id": "2d25cb086e524034a9805a90ffb07943",
       "version_major": 2,
       "version_minor": 0
      },
      "text/plain": [
       "Generating Visualizations for batch-1/1:   0%|          | 0/13 [00:00<?, ?it/s]"
      ]
     },
     "metadata": {},
     "output_type": "display_data"
    },
    {
     "name": "stderr",
     "output_type": "stream",
     "text": [
      "\n",
      "      Epoch    GPU_mem   box_loss   cls_loss   dfl_loss  Instances       Size\n",
      "      15/50      5.44G     0.4185      0.503     0.9066         37        640: 100%|██████████| 52/52 [00:10<00:00,  5.18it/s]\n",
      "                 Class     Images  Instances      Box(P          R      mAP50  mAP50-95): 100%|██████████| 7/7 [00:02<00:00,  2.81it/s]\n",
      "                   all        205        713      0.844      0.804      0.916      0.841\n"
     ]
    },
    {
     "data": {
      "application/vnd.jupyter.widget-view+json": {
       "model_id": "931b8a3b402e4f3eb115696c3c413a1e",
       "version_major": 2,
       "version_minor": 0
      },
      "text/plain": [
       "Generating Visualizations for batch-1/1:   0%|          | 0/32 [00:00<?, ?it/s]"
      ]
     },
     "metadata": {},
     "output_type": "display_data"
    },
    {
     "name": "stderr",
     "output_type": "stream",
     "text": [
      "\n",
      "      Epoch    GPU_mem   box_loss   cls_loss   dfl_loss  Instances       Size\n",
      "      16/50      5.35G     0.4143     0.4926     0.8965         31        640: 100%|██████████| 52/52 [00:09<00:00,  5.37it/s]\n",
      "                 Class     Images  Instances      Box(P          R      mAP50  mAP50-95): 100%|██████████| 7/7 [00:02<00:00,  3.32it/s]\n",
      "                   all        205        713      0.815      0.814      0.905      0.837\n"
     ]
    },
    {
     "data": {
      "application/vnd.jupyter.widget-view+json": {
       "model_id": "e232c99e63044515a9fa2778ed9ef598",
       "version_major": 2,
       "version_minor": 0
      },
      "text/plain": [
       "Generating Visualizations for batch-1/1:   0%|          | 0/32 [00:00<?, ?it/s]"
      ]
     },
     "metadata": {},
     "output_type": "display_data"
    },
    {
     "name": "stderr",
     "output_type": "stream",
     "text": [
      "\n",
      "      Epoch    GPU_mem   box_loss   cls_loss   dfl_loss  Instances       Size\n",
      "      17/50      5.43G     0.4101     0.4738     0.8991         37        640: 100%|██████████| 52/52 [00:09<00:00,  5.28it/s]\n",
      "                 Class     Images  Instances      Box(P          R      mAP50  mAP50-95): 100%|██████████| 7/7 [00:02<00:00,  3.34it/s]\n",
      "                   all        205        713      0.779      0.892      0.907      0.835\n"
     ]
    },
    {
     "data": {
      "application/vnd.jupyter.widget-view+json": {
       "model_id": "9c6750106885442891eb95c66aef575a",
       "version_major": 2,
       "version_minor": 0
      },
      "text/plain": [
       "Generating Visualizations for batch-1/1:   0%|          | 0/32 [00:00<?, ?it/s]"
      ]
     },
     "metadata": {},
     "output_type": "display_data"
    },
    {
     "name": "stderr",
     "output_type": "stream",
     "text": [
      "\n",
      "      Epoch    GPU_mem   box_loss   cls_loss   dfl_loss  Instances       Size\n",
      "      18/50       5.5G     0.4015     0.4499     0.8991         29        640: 100%|██████████| 52/52 [00:10<00:00,  5.18it/s]\n",
      "                 Class     Images  Instances      Box(P          R      mAP50  mAP50-95): 100%|██████████| 7/7 [00:01<00:00,  3.69it/s]\n",
      "                   all        205        713      0.842      0.852      0.919       0.85\n"
     ]
    },
    {
     "data": {
      "application/vnd.jupyter.widget-view+json": {
       "model_id": "9bea8fffd26f4c3d9c509ca3fd8fcb5a",
       "version_major": 2,
       "version_minor": 0
      },
      "text/plain": [
       "Generating Visualizations for batch-1/1:   0%|          | 0/32 [00:00<?, ?it/s]"
      ]
     },
     "metadata": {},
     "output_type": "display_data"
    },
    {
     "name": "stderr",
     "output_type": "stream",
     "text": [
      "\n",
      "      Epoch    GPU_mem   box_loss   cls_loss   dfl_loss  Instances       Size\n",
      "      19/50      5.56G     0.3996     0.4373     0.8942         45        640: 100%|██████████| 52/52 [00:10<00:00,  5.17it/s]\n",
      "                 Class     Images  Instances      Box(P          R      mAP50  mAP50-95): 100%|██████████| 7/7 [00:02<00:00,  3.32it/s]\n",
      "                   all        205        713      0.808      0.832      0.909      0.846\n"
     ]
    },
    {
     "data": {
      "application/vnd.jupyter.widget-view+json": {
       "model_id": "4cb0ae7f1b7a47e3ac69ecabd35cd01e",
       "version_major": 2,
       "version_minor": 0
      },
      "text/plain": [
       "Generating Visualizations for batch-1/1:   0%|          | 0/32 [00:00<?, ?it/s]"
      ]
     },
     "metadata": {},
     "output_type": "display_data"
    },
    {
     "name": "stderr",
     "output_type": "stream",
     "text": [
      "\n",
      "      Epoch    GPU_mem   box_loss   cls_loss   dfl_loss  Instances       Size\n",
      "      20/50      5.63G     0.4013     0.4369      0.894         41        640: 100%|██████████| 52/52 [00:09<00:00,  5.21it/s]\n",
      "                 Class     Images  Instances      Box(P          R      mAP50  mAP50-95): 100%|██████████| 7/7 [00:02<00:00,  3.50it/s]\n",
      "                   all        205        713      0.867      0.819      0.906      0.842\n"
     ]
    },
    {
     "data": {
      "application/vnd.jupyter.widget-view+json": {
       "model_id": "0eed350aa27142f4a5b3b9001818a530",
       "version_major": 2,
       "version_minor": 0
      },
      "text/plain": [
       "Generating Visualizations for batch-1/1:   0%|          | 0/32 [00:00<?, ?it/s]"
      ]
     },
     "metadata": {},
     "output_type": "display_data"
    },
    {
     "name": "stderr",
     "output_type": "stream",
     "text": [
      "\n",
      "      Epoch    GPU_mem   box_loss   cls_loss   dfl_loss  Instances       Size\n",
      "      21/50       5.7G     0.3928     0.4215     0.8943         57        640: 100%|██████████| 52/52 [00:09<00:00,  5.46it/s]\n",
      "                 Class     Images  Instances      Box(P          R      mAP50  mAP50-95): 100%|██████████| 7/7 [00:02<00:00,  3.32it/s]\n",
      "                   all        205        713      0.768       0.88      0.926      0.855\n"
     ]
    },
    {
     "data": {
      "application/vnd.jupyter.widget-view+json": {
       "model_id": "45afcdf7ba4e46caba97e241c77b3609",
       "version_major": 2,
       "version_minor": 0
      },
      "text/plain": [
       "Generating Visualizations for batch-1/1:   0%|          | 0/13 [00:00<?, ?it/s]"
      ]
     },
     "metadata": {},
     "output_type": "display_data"
    },
    {
     "name": "stderr",
     "output_type": "stream",
     "text": [
      "\n",
      "      Epoch    GPU_mem   box_loss   cls_loss   dfl_loss  Instances       Size\n",
      "      22/50      5.77G     0.3877     0.4122     0.8895         50        640: 100%|██████████| 52/52 [00:09<00:00,  5.24it/s]\n",
      "                 Class     Images  Instances      Box(P          R      mAP50  mAP50-95): 100%|██████████| 7/7 [00:01<00:00,  3.67it/s]\n",
      "                   all        205        713      0.877      0.807      0.933      0.867\n"
     ]
    },
    {
     "data": {
      "application/vnd.jupyter.widget-view+json": {
       "model_id": "e94cc68239fa4c59b4ae4ba207c95d8f",
       "version_major": 2,
       "version_minor": 0
      },
      "text/plain": [
       "Generating Visualizations for batch-1/1:   0%|          | 0/32 [00:00<?, ?it/s]"
      ]
     },
     "metadata": {},
     "output_type": "display_data"
    },
    {
     "name": "stderr",
     "output_type": "stream",
     "text": [
      "\n",
      "      Epoch    GPU_mem   box_loss   cls_loss   dfl_loss  Instances       Size\n",
      "      23/50      5.84G     0.3822     0.3969     0.8877         40        640: 100%|██████████| 52/52 [00:10<00:00,  5.10it/s]\n",
      "                 Class     Images  Instances      Box(P          R      mAP50  mAP50-95): 100%|██████████| 7/7 [00:01<00:00,  3.90it/s]\n",
      "                   all        205        713       0.83      0.842      0.916      0.851\n"
     ]
    },
    {
     "data": {
      "application/vnd.jupyter.widget-view+json": {
       "model_id": "22295a88a0c245b5b9f59c0796933f0c",
       "version_major": 2,
       "version_minor": 0
      },
      "text/plain": [
       "Generating Visualizations for batch-1/1:   0%|          | 0/32 [00:00<?, ?it/s]"
      ]
     },
     "metadata": {},
     "output_type": "display_data"
    },
    {
     "name": "stderr",
     "output_type": "stream",
     "text": [
      "\n",
      "      Epoch    GPU_mem   box_loss   cls_loss   dfl_loss  Instances       Size\n",
      "      24/50      5.91G     0.3852     0.4032     0.8896         47        640: 100%|██████████| 52/52 [00:09<00:00,  5.23it/s]\n",
      "                 Class     Images  Instances      Box(P          R      mAP50  mAP50-95): 100%|██████████| 7/7 [00:02<00:00,  3.19it/s]\n",
      "                   all        205        713       0.85      0.828      0.924      0.866\n"
     ]
    },
    {
     "data": {
      "application/vnd.jupyter.widget-view+json": {
       "model_id": "81bf580a59c84b4bb4175810990f4b53",
       "version_major": 2,
       "version_minor": 0
      },
      "text/plain": [
       "Generating Visualizations for batch-1/1:   0%|          | 0/32 [00:00<?, ?it/s]"
      ]
     },
     "metadata": {},
     "output_type": "display_data"
    },
    {
     "name": "stderr",
     "output_type": "stream",
     "text": [
      "\n",
      "      Epoch    GPU_mem   box_loss   cls_loss   dfl_loss  Instances       Size\n",
      "      25/50      5.97G     0.3835     0.3868     0.8843         48        640: 100%|██████████| 52/52 [00:09<00:00,  5.30it/s]\n",
      "                 Class     Images  Instances      Box(P          R      mAP50  mAP50-95): 100%|██████████| 7/7 [00:02<00:00,  3.07it/s]\n",
      "                   all        205        713      0.844      0.853      0.923      0.862\n"
     ]
    },
    {
     "data": {
      "application/vnd.jupyter.widget-view+json": {
       "model_id": "c5f46203322f4514b17039bbb901f410",
       "version_major": 2,
       "version_minor": 0
      },
      "text/plain": [
       "Generating Visualizations for batch-1/1:   0%|          | 0/32 [00:00<?, ?it/s]"
      ]
     },
     "metadata": {},
     "output_type": "display_data"
    },
    {
     "name": "stderr",
     "output_type": "stream",
     "text": [
      "\n",
      "      Epoch    GPU_mem   box_loss   cls_loss   dfl_loss  Instances       Size\n",
      "      26/50      6.05G     0.3718     0.3801     0.8836         42        640: 100%|██████████| 52/52 [00:09<00:00,  5.23it/s]\n",
      "                 Class     Images  Instances      Box(P          R      mAP50  mAP50-95): 100%|██████████| 7/7 [00:02<00:00,  3.35it/s]\n",
      "                   all        205        713      0.827      0.833       0.92      0.856\n"
     ]
    },
    {
     "data": {
      "application/vnd.jupyter.widget-view+json": {
       "model_id": "d07d88f7f4744af58fda6a5b0440e25a",
       "version_major": 2,
       "version_minor": 0
      },
      "text/plain": [
       "Generating Visualizations for batch-1/1:   0%|          | 0/32 [00:00<?, ?it/s]"
      ]
     },
     "metadata": {},
     "output_type": "display_data"
    },
    {
     "name": "stderr",
     "output_type": "stream",
     "text": [
      "\n",
      "      Epoch    GPU_mem   box_loss   cls_loss   dfl_loss  Instances       Size\n",
      "      27/50      6.13G     0.3732     0.3648     0.8888         28        640: 100%|██████████| 52/52 [00:09<00:00,  5.33it/s]\n",
      "                 Class     Images  Instances      Box(P          R      mAP50  mAP50-95): 100%|██████████| 7/7 [00:02<00:00,  3.47it/s]\n",
      "                   all        205        713      0.752      0.928      0.927       0.87\n"
     ]
    },
    {
     "data": {
      "application/vnd.jupyter.widget-view+json": {
       "model_id": "a59103988bc74f9b8c333e906322b284",
       "version_major": 2,
       "version_minor": 0
      },
      "text/plain": [
       "Generating Visualizations for batch-1/1:   0%|          | 0/32 [00:00<?, ?it/s]"
      ]
     },
     "metadata": {},
     "output_type": "display_data"
    },
    {
     "name": "stderr",
     "output_type": "stream",
     "text": [
      "\n",
      "      Epoch    GPU_mem   box_loss   cls_loss   dfl_loss  Instances       Size\n",
      "      28/50      6.19G     0.3738     0.3723     0.8852         32        640: 100%|██████████| 52/52 [00:09<00:00,  5.36it/s]\n",
      "                 Class     Images  Instances      Box(P          R      mAP50  mAP50-95): 100%|██████████| 7/7 [00:02<00:00,  3.32it/s]\n",
      "                   all        205        713       0.85      0.852      0.935       0.88\n"
     ]
    },
    {
     "data": {
      "application/vnd.jupyter.widget-view+json": {
       "model_id": "f5190781d2074531ab30102ed15a7ccb",
       "version_major": 2,
       "version_minor": 0
      },
      "text/plain": [
       "Generating Visualizations for batch-1/1:   0%|          | 0/13 [00:00<?, ?it/s]"
      ]
     },
     "metadata": {},
     "output_type": "display_data"
    },
    {
     "name": "stderr",
     "output_type": "stream",
     "text": [
      "\n",
      "      Epoch    GPU_mem   box_loss   cls_loss   dfl_loss  Instances       Size\n",
      "      29/50      6.25G     0.3744     0.3623     0.8867         35        640: 100%|██████████| 52/52 [00:09<00:00,  5.24it/s]\n",
      "                 Class     Images  Instances      Box(P          R      mAP50  mAP50-95): 100%|██████████| 7/7 [00:02<00:00,  3.34it/s]\n",
      "                   all        205        713      0.799      0.885      0.939      0.877\n"
     ]
    },
    {
     "data": {
      "application/vnd.jupyter.widget-view+json": {
       "model_id": "f8f0b37936f243589f185e4b6026e472",
       "version_major": 2,
       "version_minor": 0
      },
      "text/plain": [
       "Generating Visualizations for batch-1/1:   0%|          | 0/32 [00:00<?, ?it/s]"
      ]
     },
     "metadata": {},
     "output_type": "display_data"
    },
    {
     "name": "stderr",
     "output_type": "stream",
     "text": [
      "\n",
      "      Epoch    GPU_mem   box_loss   cls_loss   dfl_loss  Instances       Size\n",
      "      30/50      6.47G     0.3571     0.3608     0.8748         40        640: 100%|██████████| 52/52 [00:10<00:00,  5.18it/s]\n",
      "                 Class     Images  Instances      Box(P          R      mAP50  mAP50-95): 100%|██████████| 7/7 [00:01<00:00,  3.54it/s]\n",
      "                   all        205        713      0.809       0.91      0.936      0.875\n"
     ]
    },
    {
     "data": {
      "application/vnd.jupyter.widget-view+json": {
       "model_id": "819085e8337c44a08afac7797f209c28",
       "version_major": 2,
       "version_minor": 0
      },
      "text/plain": [
       "Generating Visualizations for batch-1/1:   0%|          | 0/32 [00:00<?, ?it/s]"
      ]
     },
     "metadata": {},
     "output_type": "display_data"
    },
    {
     "name": "stderr",
     "output_type": "stream",
     "text": [
      "\n",
      "      Epoch    GPU_mem   box_loss   cls_loss   dfl_loss  Instances       Size\n",
      "      31/50      6.56G     0.3656     0.3527     0.8813         44        640: 100%|██████████| 52/52 [00:09<00:00,  5.33it/s]\n",
      "                 Class     Images  Instances      Box(P          R      mAP50  mAP50-95): 100%|██████████| 7/7 [00:02<00:00,  3.32it/s]\n",
      "                   all        205        713      0.895      0.825      0.946      0.887\n"
     ]
    },
    {
     "data": {
      "application/vnd.jupyter.widget-view+json": {
       "model_id": "fd56912a22864dcabc72d8d06f8869ab",
       "version_major": 2,
       "version_minor": 0
      },
      "text/plain": [
       "Generating Visualizations for batch-1/1:   0%|          | 0/32 [00:00<?, ?it/s]"
      ]
     },
     "metadata": {},
     "output_type": "display_data"
    },
    {
     "name": "stderr",
     "output_type": "stream",
     "text": [
      "\n",
      "      Epoch    GPU_mem   box_loss   cls_loss   dfl_loss  Instances       Size\n",
      "      32/50      6.62G     0.3549     0.3466      0.875         36        640: 100%|██████████| 52/52 [00:09<00:00,  5.33it/s]\n",
      "                 Class     Images  Instances      Box(P          R      mAP50  mAP50-95): 100%|██████████| 7/7 [00:02<00:00,  3.23it/s]\n",
      "                   all        205        713      0.876      0.837      0.939       0.87\n"
     ]
    },
    {
     "data": {
      "application/vnd.jupyter.widget-view+json": {
       "model_id": "fed053c391b1413884f3a5dde22790a2",
       "version_major": 2,
       "version_minor": 0
      },
      "text/plain": [
       "Generating Visualizations for batch-1/1:   0%|          | 0/32 [00:00<?, ?it/s]"
      ]
     },
     "metadata": {},
     "output_type": "display_data"
    },
    {
     "name": "stderr",
     "output_type": "stream",
     "text": [
      "\n",
      "      Epoch    GPU_mem   box_loss   cls_loss   dfl_loss  Instances       Size\n",
      "      33/50       6.7G     0.3636     0.3452     0.8826         23        640: 100%|██████████| 52/52 [00:09<00:00,  5.29it/s]\n",
      "                 Class     Images  Instances      Box(P          R      mAP50  mAP50-95): 100%|██████████| 7/7 [00:01<00:00,  3.51it/s]\n",
      "                   all        205        713      0.909      0.822      0.939      0.876\n"
     ]
    },
    {
     "data": {
      "application/vnd.jupyter.widget-view+json": {
       "model_id": "ecaa4b0e5271478a82ac02400a8caf92",
       "version_major": 2,
       "version_minor": 0
      },
      "text/plain": [
       "Generating Visualizations for batch-1/1:   0%|          | 0/32 [00:00<?, ?it/s]"
      ]
     },
     "metadata": {},
     "output_type": "display_data"
    },
    {
     "name": "stderr",
     "output_type": "stream",
     "text": [
      "\n",
      "      Epoch    GPU_mem   box_loss   cls_loss   dfl_loss  Instances       Size\n",
      "      34/50      6.76G     0.3504     0.3395     0.8729         38        640: 100%|██████████| 52/52 [00:10<00:00,  5.08it/s]\n",
      "                 Class     Images  Instances      Box(P          R      mAP50  mAP50-95): 100%|██████████| 7/7 [00:01<00:00,  3.87it/s]\n",
      "                   all        205        713      0.905       0.82       0.94      0.868\n"
     ]
    },
    {
     "data": {
      "application/vnd.jupyter.widget-view+json": {
       "model_id": "47c32447e7f643e086cf0196b7a30fbe",
       "version_major": 2,
       "version_minor": 0
      },
      "text/plain": [
       "Generating Visualizations for batch-1/1:   0%|          | 0/32 [00:00<?, ?it/s]"
      ]
     },
     "metadata": {},
     "output_type": "display_data"
    },
    {
     "name": "stderr",
     "output_type": "stream",
     "text": [
      "\n",
      "      Epoch    GPU_mem   box_loss   cls_loss   dfl_loss  Instances       Size\n",
      "      35/50      6.83G     0.3526     0.3346      0.872         50        640: 100%|██████████| 52/52 [00:09<00:00,  5.22it/s]\n",
      "                 Class     Images  Instances      Box(P          R      mAP50  mAP50-95): 100%|██████████| 7/7 [00:02<00:00,  3.20it/s]\n",
      "                   all        205        713       0.83      0.899      0.953      0.889\n"
     ]
    },
    {
     "data": {
      "application/vnd.jupyter.widget-view+json": {
       "model_id": "fbb91eabc1994d279438718e58f6b44b",
       "version_major": 2,
       "version_minor": 0
      },
      "text/plain": [
       "Generating Visualizations for batch-1/1:   0%|          | 0/13 [00:00<?, ?it/s]"
      ]
     },
     "metadata": {},
     "output_type": "display_data"
    },
    {
     "name": "stderr",
     "output_type": "stream",
     "text": [
      "\n",
      "      Epoch    GPU_mem   box_loss   cls_loss   dfl_loss  Instances       Size\n",
      "      36/50      6.91G     0.3522     0.3316     0.8751         37        640: 100%|██████████| 52/52 [00:09<00:00,  5.36it/s]\n",
      "                 Class     Images  Instances      Box(P          R      mAP50  mAP50-95): 100%|██████████| 7/7 [00:02<00:00,  3.49it/s]\n",
      "                   all        205        713      0.852      0.885      0.946      0.888\n"
     ]
    },
    {
     "data": {
      "application/vnd.jupyter.widget-view+json": {
       "model_id": "95fd5d05cbd647a7a47d97cd7299c824",
       "version_major": 2,
       "version_minor": 0
      },
      "text/plain": [
       "Generating Visualizations for batch-1/1:   0%|          | 0/32 [00:00<?, ?it/s]"
      ]
     },
     "metadata": {},
     "output_type": "display_data"
    },
    {
     "name": "stderr",
     "output_type": "stream",
     "text": [
      "\n",
      "      Epoch    GPU_mem   box_loss   cls_loss   dfl_loss  Instances       Size\n",
      "      37/50      6.96G     0.3481     0.3161     0.8748         50        640: 100%|██████████| 52/52 [00:09<00:00,  5.35it/s]\n",
      "                 Class     Images  Instances      Box(P          R      mAP50  mAP50-95): 100%|██████████| 7/7 [00:02<00:00,  3.17it/s]\n",
      "                   all        205        713      0.882      0.841       0.93      0.872\n"
     ]
    },
    {
     "data": {
      "application/vnd.jupyter.widget-view+json": {
       "model_id": "bbe90a3f3e8e4630801a10720012b246",
       "version_major": 2,
       "version_minor": 0
      },
      "text/plain": [
       "Generating Visualizations for batch-1/1:   0%|          | 0/32 [00:00<?, ?it/s]"
      ]
     },
     "metadata": {},
     "output_type": "display_data"
    },
    {
     "name": "stderr",
     "output_type": "stream",
     "text": [
      "\n",
      "      Epoch    GPU_mem   box_loss   cls_loss   dfl_loss  Instances       Size\n",
      "      38/50      7.04G     0.3452     0.3134     0.8741         33        640: 100%|██████████| 52/52 [00:09<00:00,  5.22it/s]\n",
      "                 Class     Images  Instances      Box(P          R      mAP50  mAP50-95): 100%|██████████| 7/7 [00:02<00:00,  3.21it/s]\n",
      "                   all        205        713      0.878      0.831      0.939       0.88\n"
     ]
    },
    {
     "data": {
      "application/vnd.jupyter.widget-view+json": {
       "model_id": "7edbdf270f924608804245fbfe897db1",
       "version_major": 2,
       "version_minor": 0
      },
      "text/plain": [
       "Generating Visualizations for batch-1/1:   0%|          | 0/32 [00:00<?, ?it/s]"
      ]
     },
     "metadata": {},
     "output_type": "display_data"
    },
    {
     "name": "stderr",
     "output_type": "stream",
     "text": [
      "\n",
      "      Epoch    GPU_mem   box_loss   cls_loss   dfl_loss  Instances       Size\n",
      "      39/50      7.12G     0.3572      0.328     0.8818         44        640: 100%|██████████| 52/52 [00:10<00:00,  5.11it/s]\n",
      "                 Class     Images  Instances      Box(P          R      mAP50  mAP50-95): 100%|██████████| 7/7 [00:01<00:00,  3.69it/s]\n",
      "                   all        205        713      0.858      0.867      0.921      0.864\n"
     ]
    },
    {
     "data": {
      "application/vnd.jupyter.widget-view+json": {
       "model_id": "232189b2a4e44275a9edb52cc1c42b18",
       "version_major": 2,
       "version_minor": 0
      },
      "text/plain": [
       "Generating Visualizations for batch-1/1:   0%|          | 0/32 [00:00<?, ?it/s]"
      ]
     },
     "metadata": {},
     "output_type": "display_data"
    },
    {
     "name": "stderr",
     "output_type": "stream",
     "text": [
      "\n",
      "      Epoch    GPU_mem   box_loss   cls_loss   dfl_loss  Instances       Size\n",
      "      40/50      7.18G     0.3435     0.3164     0.8695         53        640: 100%|██████████| 52/52 [00:09<00:00,  5.27it/s]\n",
      "                 Class     Images  Instances      Box(P          R      mAP50  mAP50-95): 100%|██████████| 7/7 [00:02<00:00,  3.30it/s]\n",
      "                   all        205        713      0.843      0.887      0.938      0.882\n"
     ]
    },
    {
     "data": {
      "application/vnd.jupyter.widget-view+json": {
       "model_id": "f20d17859ce34b4ab35614adc38580f8",
       "version_major": 2,
       "version_minor": 0
      },
      "text/plain": [
       "Generating Visualizations for batch-1/1:   0%|          | 0/32 [00:00<?, ?it/s]"
      ]
     },
     "metadata": {},
     "output_type": "display_data"
    },
    {
     "name": "stderr",
     "output_type": "stream",
     "text": [
      "Closing dataloader mosaic\n",
      "\n",
      "      Epoch    GPU_mem   box_loss   cls_loss   dfl_loss  Instances       Size\n",
      "      41/50      7.26G     0.2695      0.296     0.8168         25        640: 100%|██████████| 52/52 [00:13<00:00,  3.92it/s]\n",
      "                 Class     Images  Instances      Box(P          R      mAP50  mAP50-95): 100%|██████████| 7/7 [00:01<00:00,  4.13it/s]\n",
      "                   all        205        713      0.868      0.826      0.912      0.849\n"
     ]
    },
    {
     "data": {
      "application/vnd.jupyter.widget-view+json": {
       "model_id": "785b7f5ccc3840eb92e04adc638a2e80",
       "version_major": 2,
       "version_minor": 0
      },
      "text/plain": [
       "Generating Visualizations for batch-1/1:   0%|          | 0/32 [00:00<?, ?it/s]"
      ]
     },
     "metadata": {},
     "output_type": "display_data"
    },
    {
     "name": "stderr",
     "output_type": "stream",
     "text": [
      "\n",
      "      Epoch    GPU_mem   box_loss   cls_loss   dfl_loss  Instances       Size\n",
      "      42/50      7.33G      0.264     0.2664     0.8144         20        640: 100%|██████████| 52/52 [00:09<00:00,  5.29it/s]\n",
      "                 Class     Images  Instances      Box(P          R      mAP50  mAP50-95): 100%|██████████| 7/7 [00:02<00:00,  3.30it/s]\n",
      "                   all        205        713       0.92      0.805      0.933      0.869\n"
     ]
    },
    {
     "data": {
      "application/vnd.jupyter.widget-view+json": {
       "model_id": "e222775d4a2f46e3a96a371ce7583dff",
       "version_major": 2,
       "version_minor": 0
      },
      "text/plain": [
       "Generating Visualizations for batch-1/1:   0%|          | 0/13 [00:00<?, ?it/s]"
      ]
     },
     "metadata": {},
     "output_type": "display_data"
    },
    {
     "name": "stderr",
     "output_type": "stream",
     "text": [
      "\n",
      "      Epoch    GPU_mem   box_loss   cls_loss   dfl_loss  Instances       Size\n",
      "      43/50      7.39G     0.2552     0.2485     0.8088         25        640: 100%|██████████| 52/52 [00:09<00:00,  5.36it/s]\n",
      "                 Class     Images  Instances      Box(P          R      mAP50  mAP50-95): 100%|██████████| 7/7 [00:02<00:00,  3.33it/s]\n",
      "                   all        205        713      0.851      0.858      0.931      0.863\n"
     ]
    },
    {
     "data": {
      "application/vnd.jupyter.widget-view+json": {
       "model_id": "fb633b69b88749a7b2f2f4e49b3d0508",
       "version_major": 2,
       "version_minor": 0
      },
      "text/plain": [
       "Generating Visualizations for batch-1/1:   0%|          | 0/32 [00:00<?, ?it/s]"
      ]
     },
     "metadata": {},
     "output_type": "display_data"
    },
    {
     "name": "stderr",
     "output_type": "stream",
     "text": [
      "\n",
      "      Epoch    GPU_mem   box_loss   cls_loss   dfl_loss  Instances       Size\n",
      "      44/50      7.46G     0.2502     0.2407     0.8075         19        640: 100%|██████████| 52/52 [00:09<00:00,  5.32it/s]\n",
      "                 Class     Images  Instances      Box(P          R      mAP50  mAP50-95): 100%|██████████| 7/7 [00:02<00:00,  3.33it/s]\n",
      "                   all        205        713      0.858      0.845      0.937      0.878\n"
     ]
    },
    {
     "data": {
      "application/vnd.jupyter.widget-view+json": {
       "model_id": "617bf7fb27f340b9b43b76017a8cf520",
       "version_major": 2,
       "version_minor": 0
      },
      "text/plain": [
       "Generating Visualizations for batch-1/1:   0%|          | 0/32 [00:00<?, ?it/s]"
      ]
     },
     "metadata": {},
     "output_type": "display_data"
    },
    {
     "name": "stderr",
     "output_type": "stream",
     "text": [
      "\n",
      "      Epoch    GPU_mem   box_loss   cls_loss   dfl_loss  Instances       Size\n",
      "      45/50      7.54G     0.2482     0.2346     0.8048         21        640: 100%|██████████| 52/52 [00:09<00:00,  5.29it/s]\n",
      "                 Class     Images  Instances      Box(P          R      mAP50  mAP50-95): 100%|██████████| 7/7 [00:02<00:00,  3.22it/s]\n",
      "                   all        205        713      0.871      0.877      0.944      0.883\n"
     ]
    },
    {
     "data": {
      "application/vnd.jupyter.widget-view+json": {
       "model_id": "587b5cfb6a3b4aa0b99a6b6006fb4b29",
       "version_major": 2,
       "version_minor": 0
      },
      "text/plain": [
       "Generating Visualizations for batch-1/1:   0%|          | 0/32 [00:00<?, ?it/s]"
      ]
     },
     "metadata": {},
     "output_type": "display_data"
    },
    {
     "name": "stderr",
     "output_type": "stream",
     "text": [
      "\n",
      "      Epoch    GPU_mem   box_loss   cls_loss   dfl_loss  Instances       Size\n",
      "      46/50       7.6G     0.2459     0.2272     0.8003         25        640: 100%|██████████| 52/52 [00:09<00:00,  5.28it/s]\n",
      "                 Class     Images  Instances      Box(P          R      mAP50  mAP50-95): 100%|██████████| 7/7 [00:01<00:00,  4.13it/s]\n",
      "                   all        205        713      0.817      0.909      0.938       0.88\n"
     ]
    },
    {
     "data": {
      "application/vnd.jupyter.widget-view+json": {
       "model_id": "d8f65b2692a8416a9dedf94673ab2d33",
       "version_major": 2,
       "version_minor": 0
      },
      "text/plain": [
       "Generating Visualizations for batch-1/1:   0%|          | 0/32 [00:00<?, ?it/s]"
      ]
     },
     "metadata": {},
     "output_type": "display_data"
    },
    {
     "name": "stderr",
     "output_type": "stream",
     "text": [
      "\n",
      "      Epoch    GPU_mem   box_loss   cls_loss   dfl_loss  Instances       Size\n",
      "      47/50      7.68G      0.245     0.2235     0.8063         20        640: 100%|██████████| 52/52 [00:09<00:00,  5.32it/s]\n",
      "                 Class     Images  Instances      Box(P          R      mAP50  mAP50-95): 100%|██████████| 7/7 [00:01<00:00,  4.30it/s]\n",
      "                   all        205        713      0.823      0.891      0.936      0.877\n"
     ]
    },
    {
     "data": {
      "application/vnd.jupyter.widget-view+json": {
       "model_id": "60d91f0e04f34dc8bab54631c1ff84af",
       "version_major": 2,
       "version_minor": 0
      },
      "text/plain": [
       "Generating Visualizations for batch-1/1:   0%|          | 0/32 [00:00<?, ?it/s]"
      ]
     },
     "metadata": {},
     "output_type": "display_data"
    },
    {
     "name": "stderr",
     "output_type": "stream",
     "text": [
      "\n",
      "      Epoch    GPU_mem   box_loss   cls_loss   dfl_loss  Instances       Size\n",
      "      48/50      7.73G     0.2463     0.2291     0.8076         21        640: 100%|██████████| 52/52 [00:09<00:00,  5.41it/s]\n",
      "                 Class     Images  Instances      Box(P          R      mAP50  mAP50-95): 100%|██████████| 7/7 [00:02<00:00,  3.32it/s]\n",
      "                   all        205        713      0.843      0.869      0.936      0.876\n"
     ]
    },
    {
     "data": {
      "application/vnd.jupyter.widget-view+json": {
       "model_id": "4128c24f03b2466ebbdcf6b202ce95ca",
       "version_major": 2,
       "version_minor": 0
      },
      "text/plain": [
       "Generating Visualizations for batch-1/1:   0%|          | 0/32 [00:00<?, ?it/s]"
      ]
     },
     "metadata": {},
     "output_type": "display_data"
    },
    {
     "name": "stderr",
     "output_type": "stream",
     "text": [
      "\n",
      "      Epoch    GPU_mem   box_loss   cls_loss   dfl_loss  Instances       Size\n",
      "      49/50       7.8G     0.2408     0.2256     0.8015         24        640: 100%|██████████| 52/52 [00:09<00:00,  5.31it/s]\n",
      "                 Class     Images  Instances      Box(P          R      mAP50  mAP50-95): 100%|██████████| 7/7 [00:02<00:00,  3.48it/s]\n",
      "                   all        205        713      0.815      0.891      0.941      0.883\n"
     ]
    },
    {
     "data": {
      "application/vnd.jupyter.widget-view+json": {
       "model_id": "8238e212a2d842168902448ebcc63a66",
       "version_major": 2,
       "version_minor": 0
      },
      "text/plain": [
       "Generating Visualizations for batch-1/1:   0%|          | 0/13 [00:00<?, ?it/s]"
      ]
     },
     "metadata": {},
     "output_type": "display_data"
    },
    {
     "name": "stderr",
     "output_type": "stream",
     "text": [
      "\n",
      "      Epoch    GPU_mem   box_loss   cls_loss   dfl_loss  Instances       Size\n",
      "      50/50      7.88G      0.244     0.2229     0.8019         19        640: 100%|██████████| 52/52 [00:09<00:00,  5.34it/s]\n",
      "                 Class     Images  Instances      Box(P          R      mAP50  mAP50-95): 100%|██████████| 7/7 [00:01<00:00,  3.91it/s]\n",
      "                   all        205        713      0.791      0.905      0.938      0.881\n"
     ]
    },
    {
     "data": {
      "application/vnd.jupyter.widget-view+json": {
       "model_id": "63d4def5f3b94aca90e4992e969dd8cd",
       "version_major": 2,
       "version_minor": 0
      },
      "text/plain": [
       "Generating Visualizations for batch-1/1:   0%|          | 0/32 [00:00<?, ?it/s]"
      ]
     },
     "metadata": {},
     "output_type": "display_data"
    },
    {
     "name": "stderr",
     "output_type": "stream",
     "text": [
      "\n",
      "50 epochs completed in 1.047 hours.\n",
      "Optimizer stripped from yolov8_food/train2/weights/last.pt, 22.6MB\n",
      "Optimizer stripped from yolov8_food/train2/weights/best.pt, 22.6MB\n",
      "\n",
      "Validating yolov8_food/train2/weights/best.pt...\n",
      "Ultralytics YOLOv8.0.186 🚀 Python-3.10.13 torch-2.2.0 CUDA:0 (NVIDIA RTX A4000, 16109MiB)\n",
      "Model summary (fused): 168 layers, 11153835 parameters, 0 gradients\n",
      "                 Class     Images  Instances      Box(P          R      mAP50  mAP50-95): 100%|██████████| 7/7 [00:01<00:00,  4.00it/s]\n",
      "                   all        205        713       0.83      0.899      0.953       0.89\n",
      "                  pane        205         95      0.974          1      0.995      0.985\n",
      "             mandarini        205         38       0.86      0.973      0.969       0.87\n",
      "                carote        205         17      0.959          1      0.995      0.987\n",
      "           patate/pure        205         16       0.65      0.875      0.872      0.872\n",
      "             cotoletta        205          9      0.882          1      0.995      0.984\n",
      "             fagiolini        205         12      0.874          1      0.983      0.974\n",
      "                yogurt        205         18      0.957          1      0.995      0.903\n",
      "                budino        205         13      0.944          1      0.995      0.942\n",
      "               spinaci        205         14      0.762          1      0.995      0.995\n",
      "            scaloppine        205         17          1      0.805      0.989      0.975\n",
      "                 pizza        205          9      0.891          1      0.995       0.91\n",
      "pasta_sugo_vegetariano        205         13      0.635      0.846      0.859      0.853\n",
      "                  mele        205         33       0.88       0.97      0.979      0.887\n",
      "pasta_pesto_besciamella_e_cornetti        205         11      0.844      0.909      0.959      0.836\n",
      "        zucchine_umido        205         16      0.955          1      0.995      0.987\n",
      "lasagna_alla_bolognese        205          8      0.672          1      0.995      0.977\n",
      "               arancia        205         16      0.893          1      0.995      0.916\n",
      "      pasta_sugo_pesce        205         11      0.938          1      0.995      0.986\n",
      "       patatine_fritte        205         11          1      0.904      0.988      0.909\n",
      " pasta_cozze_e_vongole        205         11      0.858      0.909      0.945      0.879\n",
      "               arrosto        205          5      0.804          1      0.995      0.995\n",
      "           riso_bianco        205          8      0.873      0.864      0.933      0.933\n",
      "   medaglioni_di_carne        205          9      0.876          1      0.995       0.84\n",
      "torta_salata_spinaci_e_ricotta        205         31      0.945          1      0.994      0.928\n",
      "pasta_zafferano_e_piselli        205          8      0.911          1      0.995      0.995\n",
      "patate/pure_prosciutto        205          6      0.797          1      0.972      0.953\n",
      "torta_salata_rustica_(zucchine)        205          9       0.92          1      0.995      0.978\n",
      "        insalata_mista        205          9      0.922          1      0.995      0.995\n",
      "    pasta_mare_e_monti        205          6      0.755          1      0.995      0.915\n",
      "     polpette_di_carne        205         10      0.777          1      0.928      0.854\n",
      "pasta_pancetta_e_zucchine        205          8      0.386          1      0.736      0.736\n",
      "pasta_ricotta_e_salsiccia        205          7      0.903          1      0.995      0.948\n",
      "    orecchiette_(ragu)        205          3      0.784          1      0.995      0.995\n",
      "    finocchi_gratinati        205         26      0.912          1      0.995      0.977\n",
      "                  pere        205          9      0.766          1      0.984      0.928\n",
      "           pasta_tonno        205          6          1      0.808      0.995      0.967\n",
      "             riso_sugo        205          1      0.563          1      0.995      0.895\n",
      " pasta_tonno_e_piselli        205          3          1      0.635      0.995      0.751\n",
      "               piselli        205          5      0.972          1      0.995      0.727\n",
      "        torta_salata_3        205          5      0.873          1      0.995      0.995\n",
      "torta_salata_(alla_valdostana)        205          5      0.913          1      0.995      0.925\n",
      "                banane        205          1      0.605          1      0.995      0.995\n",
      "salmone_(da_menu_sembra_spada_in_realta)        205          3      0.816          1      0.995      0.995\n",
      "     pesce_2_(filetto)        205          2      0.481      0.481      0.448      0.403\n",
      "              bruscitt        205         29      0.938      0.966      0.993        0.8\n",
      " guazzetto_di_calamari        205          2      0.736          1      0.995      0.995\n",
      "       pasta_e_fagioli        205          2      0.737          1      0.995      0.995\n",
      "            pasta_sugo        205          2      0.336          1      0.745      0.683\n",
      "    arrosto_di_vitello        205          2       0.34        0.5      0.695      0.695\n",
      "      stinco_di_maiale        205          2      0.595      0.784      0.828      0.549\n",
      "     minestra_lombarda        205          2      0.863          1      0.995      0.699\n",
      "     finocchi_in_umido        205          3       0.78          1      0.995      0.952\n",
      "          pasta_bianco        205          1          1          0      0.995      0.995\n",
      "   merluzzo_alle_olive        205          3          1      0.613      0.995      0.603\n",
      "     zucchine_impanate        205         29      0.973          1      0.995      0.918\n",
      "         torta_crema_2        205          2          1          0      0.638      0.598\n",
      "             roastbeef        205          1      0.913          1      0.995      0.796\n",
      "           torta_crema        205          1       0.71          1      0.995      0.995\n",
      "          pasta_e_ceci        205          1      0.605          1      0.995      0.995\n",
      "       focaccia_bianca        205          1          1          0      0.995      0.995\n",
      "              minestra        205         20      0.924          1      0.995      0.955\n",
      "               strudel        205         22      0.973      0.909      0.934      0.834\n",
      "insalata_2_(uova_mais)        205         15      0.866      0.859      0.846      0.774\n",
      "Speed: 0.1ms preprocess, 1.9ms inference, 0.0ms loss, 1.2ms postprocess per image\n",
      "Results saved to \u001b[1myolov8_food/train2\u001b[0m\n"
     ]
    }
   ],
   "source": [
    "# Train the model with 2 GPUs\n",
    "results = model.train(project=\"yolov8_food\", data='./datasets/unimib2016.yaml', epochs=50, imgsz=640)"
   ]
  },
  {
   "cell_type": "code",
   "execution_count": 10,
   "id": "da64e548-d10c-4b01-bd8f-9c9e342b45ba",
   "metadata": {},
   "outputs": [
    {
     "name": "stderr",
     "output_type": "stream",
     "text": [
      "Ultralytics YOLOv8.0.186 🚀 Python-3.10.13 torch-2.2.0 CUDA:0 (NVIDIA RTX A4000, 16109MiB)\n",
      "Model summary (fused): 168 layers, 11153835 parameters, 0 gradients\n",
      "\u001b[34m\u001b[1mval: \u001b[0mScanning /workspace/datasets/unimib2016/labels/val.cache... 205 images, 0 backgrounds, 0 corrupt: 100%|██████████| 205/205 [00:00<?, ?it/s]\n",
      "                 Class     Images  Instances      Box(P          R      mAP50  mAP50-95): 100%|██████████| 13/13 [00:04<00:00,  2.94it/s]\n",
      "                   all        205        713      0.829      0.899      0.953      0.889\n",
      "                  pane        205         95      0.974          1      0.995      0.986\n",
      "             mandarini        205         38      0.861      0.976      0.969      0.867\n",
      "                carote        205         17      0.959          1      0.995      0.987\n",
      "           patate/pure        205         16      0.649      0.875      0.872      0.872\n",
      "             cotoletta        205          9       0.88          1      0.995      0.984\n",
      "             fagiolini        205         12      0.874          1      0.983      0.974\n",
      "                yogurt        205         18      0.957          1      0.995      0.908\n",
      "                budino        205         13      0.944          1      0.995      0.962\n",
      "               spinaci        205         14      0.761          1      0.995      0.995\n",
      "            scaloppine        205         17          1       0.82      0.989      0.975\n",
      "                 pizza        205          9       0.89          1      0.995       0.91\n",
      "pasta_sugo_vegetariano        205         13      0.634      0.846      0.859      0.853\n",
      "                  mele        205         33       0.88       0.97      0.979      0.887\n",
      "pasta_pesto_besciamella_e_cornetti        205         11      0.844      0.909      0.959      0.847\n",
      "        zucchine_umido        205         16      0.955          1      0.995      0.981\n",
      "lasagna_alla_bolognese        205          8      0.672          1      0.995      0.977\n",
      "               arancia        205         16      0.892          1      0.995      0.908\n",
      "      pasta_sugo_pesce        205         11      0.938          1      0.995      0.978\n",
      "       patatine_fritte        205         11          1      0.904      0.988      0.909\n",
      " pasta_cozze_e_vongole        205         11      0.858      0.909      0.945      0.879\n",
      "               arrosto        205          5      0.803          1      0.995      0.995\n",
      "           riso_bianco        205          8      0.874      0.865      0.933      0.933\n",
      "   medaglioni_di_carne        205          9      0.874          1      0.995      0.857\n",
      "torta_salata_spinaci_e_ricotta        205         31      0.945          1      0.994      0.928\n",
      "pasta_zafferano_e_piselli        205          8      0.911          1      0.995      0.995\n",
      "patate/pure_prosciutto        205          6      0.797          1      0.972      0.943\n",
      "torta_salata_rustica_(zucchine)        205          9      0.921          1      0.995      0.978\n",
      "        insalata_mista        205          9      0.921          1      0.995      0.995\n",
      "    pasta_mare_e_monti        205          6      0.764          1      0.995      0.915\n",
      "     polpette_di_carne        205         10      0.776          1      0.928      0.854\n",
      "pasta_pancetta_e_zucchine        205          8      0.387          1      0.736      0.736\n",
      "pasta_ricotta_e_salsiccia        205          7      0.902          1      0.995      0.948\n",
      "    orecchiette_(ragu)        205          3      0.782          1      0.995      0.995\n",
      "    finocchi_gratinati        205         26      0.913          1      0.995      0.985\n",
      "                  pere        205          9      0.765          1      0.984      0.928\n",
      "           pasta_tonno        205          6          1       0.81      0.995      0.967\n",
      "             riso_sugo        205          1      0.562          1      0.995      0.895\n",
      " pasta_tonno_e_piselli        205          3          1      0.634      0.995      0.751\n",
      "               piselli        205          5      0.971          1      0.995      0.727\n",
      "        torta_salata_3        205          5      0.872          1      0.995      0.965\n",
      "torta_salata_(alla_valdostana)        205          5      0.911          1      0.995      0.916\n",
      "                banane        205          1      0.604          1      0.995      0.995\n",
      "salmone_(da_menu_sembra_spada_in_realta)        205          3      0.816          1      0.995      0.995\n",
      "     pesce_2_(filetto)        205          2      0.481      0.481      0.448      0.403\n",
      "              bruscitt        205         29      0.935      0.966      0.993      0.797\n",
      " guazzetto_di_calamari        205          2      0.735          1      0.995      0.995\n",
      "       pasta_e_fagioli        205          2      0.736          1      0.995      0.995\n",
      "            pasta_sugo        205          2      0.335          1      0.745      0.683\n",
      "    arrosto_di_vitello        205          2      0.339        0.5      0.695      0.695\n",
      "      stinco_di_maiale        205          2      0.596      0.788      0.828      0.549\n",
      "     minestra_lombarda        205          2      0.863          1      0.995      0.648\n",
      "     finocchi_in_umido        205          3      0.781          1      0.995      0.952\n",
      "          pasta_bianco        205          1          1          0      0.995      0.995\n",
      "   merluzzo_alle_olive        205          3          1      0.614      0.995      0.603\n",
      "     zucchine_impanate        205         29      0.973          1      0.995      0.912\n",
      "         torta_crema_2        205          2          1          0      0.638      0.598\n",
      "             roastbeef        205          1       0.91          1      0.995      0.796\n",
      "           torta_crema        205          1      0.707          1      0.995      0.995\n",
      "          pasta_e_ceci        205          1      0.604          1      0.995      0.995\n",
      "       focaccia_bianca        205          1          1          0      0.995      0.995\n",
      "              minestra        205         20      0.924          1      0.995      0.955\n",
      "               strudel        205         22      0.974      0.909      0.934      0.834\n",
      "insalata_2_(uova_mais)        205         15      0.866      0.859      0.846      0.774\n",
      "Speed: 0.2ms preprocess, 6.0ms inference, 0.0ms loss, 1.2ms postprocess per image\n",
      "Results saved to \u001b[1mruns/detect/val\u001b[0m\n"
     ]
    }
   ],
   "source": [
    "# load best model\n",
    "model = YOLO('./yolov8_food/train2/weights/best.pt')\n",
    "\n",
    "# Validate the model\n",
    "metrics = model.val()  # no arguments needed, dataset and settings remembered"
   ]
  },
  {
   "cell_type": "code",
   "execution_count": 11,
   "id": "5660ef92-e905-41f0-a2ed-1e94c7e139a5",
   "metadata": {},
   "outputs": [
    {
     "data": {
      "application/vnd.jupyter.widget-view+json": {
       "model_id": "",
       "version_major": 2,
       "version_minor": 0
      },
      "text/plain": [
       "VBox(children=(Label(value='6604.316 MB of 6604.316 MB uploaded\\r'), FloatProgress(value=1.0, max=1.0)))"
      ]
     },
     "metadata": {},
     "output_type": "display_data"
    },
    {
     "data": {
      "text/html": [
       "<style>\n",
       "    table.wandb td:nth-child(1) { padding: 0 10px; text-align: left ; width: auto;} td:nth-child(2) {text-align: left ; width: 100%}\n",
       "    .wandb-row { display: flex; flex-direction: row; flex-wrap: wrap; justify-content: flex-start; width: 100% }\n",
       "    .wandb-col { display: flex; flex-direction: column; flex-basis: 100%; flex: 1; padding: 10px; }\n",
       "    </style>\n",
       "<div class=\"wandb-row\"><div class=\"wandb-col\"><h3>Run history:</h3><br/><table class=\"wandb\"><tr><td>lr/pg0</td><td>▃▆████▇▇▇▇▇▇▆▆▆▆▅▅▅▅▅▅▄▄▄▄▄▃▃▃▃▃▂▂▂▂▂▁▁▁</td></tr><tr><td>lr/pg1</td><td>▃▆████▇▇▇▇▇▇▆▆▆▆▅▅▅▅▅▅▄▄▄▄▄▃▃▃▃▃▂▂▂▂▂▁▁▁</td></tr><tr><td>lr/pg2</td><td>▃▆████▇▇▇▇▇▇▆▆▆▆▅▅▅▅▅▅▄▄▄▄▄▃▃▃▃▃▂▂▂▂▂▁▁▁</td></tr><tr><td>metrics/mAP50(B)</td><td>▁▃▅▅▆▇▇▇▇▇▇█████████████████████████████</td></tr><tr><td>metrics/mAP50-95(B)</td><td>▁▃▅▅▆▆▇▇▇▇▇█████████████████████████████</td></tr><tr><td>metrics/precision(B)</td><td>▁▄▄▅▄▃▆▆▅▄▆▇▆▅▆▆▅▇▆▇▆▅▇▆▇▇██▇▇▇▇▇█▇▇▆▆▆▆</td></tr><tr><td>metrics/recall(B)</td><td>▁▃▄▅▆▆▆▆▇▇▇▇▇█▇▇█▇▇▇▇█▇█▇▇▇▇█▇▇▇▇▇▇▇████</td></tr><tr><td>model/GFLOPs</td><td>▁</td></tr><tr><td>model/parameters</td><td>▁</td></tr><tr><td>model/speed_PyTorch(ms)</td><td>▁</td></tr><tr><td>train/box_loss</td><td>█▆▅▅▄▄▄▄▄▃▃▃▃▃▃▃▃▃▃▃▃▃▃▃▃▂▃▂▂▂▂▂▁▁▁▁▁▁▁▁</td></tr><tr><td>train/cls_loss</td><td>█▄▃▃▂▂▂▂▂▂▂▁▁▁▁▁▁▁▁▁▁▁▁▁▁▁▁▁▁▁▁▁▁▁▁▁▁▁▁▁</td></tr><tr><td>train/dfl_loss</td><td>█▆▅▄▄▄▄▃▃▃▃▃▃▃▃▃▃▃▃▃▃▃▃▃▃▂▃▂▂▂▂▃▁▁▁▁▁▁▁▁</td></tr><tr><td>val/box_loss</td><td>█▅▄▄▃▃▂▂▂▂▂▂▂▂▂▂▂▂▂▂▂▁▁▁▁▁▁▁▁▁▁▁▁▁▁▁▁▁▁▁</td></tr><tr><td>val/cls_loss</td><td>█▄▃▃▂▂▂▂▂▁▁▁▁▁▁▁▁▁▁▁▁▁▁▁▁▁▁▁▁▁▁▁▁▁▁▁▁▁▁▁</td></tr><tr><td>val/dfl_loss</td><td>█▅▄▃▂▂▂▂▂▁▁▁▁▁▂▁▁▁▁▂▁▁▁▁▁▁▁▁▁▁▁▁▁▁▂▁▂▁▁▁</td></tr></table><br/></div><div class=\"wandb-col\"><h3>Run summary:</h3><br/><table class=\"wandb\"><tr><td>lr/pg0</td><td>1e-05</td></tr><tr><td>lr/pg1</td><td>1e-05</td></tr><tr><td>lr/pg2</td><td>1e-05</td></tr><tr><td>metrics/mAP50(B)</td><td>0.95263</td></tr><tr><td>metrics/mAP50-95(B)</td><td>0.89011</td></tr><tr><td>metrics/precision(B)</td><td>0.82972</td></tr><tr><td>metrics/recall(B)</td><td>0.89856</td></tr><tr><td>model/GFLOPs</td><td>0.0</td></tr><tr><td>model/parameters</td><td>11163851</td></tr><tr><td>model/speed_PyTorch(ms)</td><td>3.769</td></tr><tr><td>train/box_loss</td><td>0.24399</td></tr><tr><td>train/cls_loss</td><td>0.22288</td></tr><tr><td>train/dfl_loss</td><td>0.8019</td></tr><tr><td>val/box_loss</td><td>0.33385</td></tr><tr><td>val/cls_loss</td><td>0.34302</td></tr><tr><td>val/dfl_loss</td><td>0.86564</td></tr></table><br/></div></div>"
      ],
      "text/plain": [
       "<IPython.core.display.HTML object>"
      ]
     },
     "metadata": {},
     "output_type": "display_data"
    },
    {
     "data": {
      "text/html": [
       " View run <strong style=\"color:#cdcd00\">peachy-sun-5</strong> at: <a href='https://wandb.ai/wangbinxp/yolov8_food/runs/jz6fc982/workspace' target=\"_blank\">https://wandb.ai/wangbinxp/yolov8_food/runs/jz6fc982/workspace</a><br/>Synced 6 W&B file(s), 21 media file(s), 258 artifact file(s) and 0 other file(s)"
      ],
      "text/plain": [
       "<IPython.core.display.HTML object>"
      ]
     },
     "metadata": {},
     "output_type": "display_data"
    },
    {
     "data": {
      "text/html": [
       "Find logs at: <code>./wandb/run-20240326_014247-jz6fc982/logs</code>"
      ],
      "text/plain": [
       "<IPython.core.display.HTML object>"
      ]
     },
     "metadata": {},
     "output_type": "display_data"
    }
   ],
   "source": [
    "wandb.finish()"
   ]
  },
  {
   "cell_type": "code",
   "execution_count": null,
   "id": "bfd3b2a8-68c6-41f9-a640-9ff5c9fed8e7",
   "metadata": {},
   "outputs": [],
   "source": []
  }
 ],
 "metadata": {
  "kernelspec": {
   "display_name": "Python 3 (ipykernel)",
   "language": "python",
   "name": "python3"
  },
  "language_info": {
   "codemirror_mode": {
    "name": "ipython",
    "version": 3
   },
   "file_extension": ".py",
   "mimetype": "text/x-python",
   "name": "python",
   "nbconvert_exporter": "python",
   "pygments_lexer": "ipython3",
   "version": "3.10.13"
  }
 },
 "nbformat": 4,
 "nbformat_minor": 5
}

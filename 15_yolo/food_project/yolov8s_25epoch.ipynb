{
 "cells": [
  {
   "cell_type": "code",
   "execution_count": 1,
   "id": "119baca9-c02b-477c-acf4-19d3b7494d48",
   "metadata": {},
   "outputs": [
    {
     "name": "stdout",
     "output_type": "stream",
     "text": [
      "Mon Mar 25 06:41:55 2024       \n",
      "+---------------------------------------------------------------------------------------+\n",
      "| NVIDIA-SMI 535.161.07             Driver Version: 535.161.07   CUDA Version: 12.2     |\n",
      "|-----------------------------------------+----------------------+----------------------+\n",
      "| GPU  Name                 Persistence-M | Bus-Id        Disp.A | Volatile Uncorr. ECC |\n",
      "| Fan  Temp   Perf          Pwr:Usage/Cap |         Memory-Usage | GPU-Util  Compute M. |\n",
      "|                                         |                      |               MIG M. |\n",
      "|=========================================+======================+======================|\n",
      "|   0  NVIDIA RTX A4000               On  | 00000000:68:00.0 Off |                  Off |\n",
      "| 41%   38C    P8              16W / 140W |      1MiB / 16376MiB |      0%      Default |\n",
      "|                                         |                      |                  N/A |\n",
      "+-----------------------------------------+----------------------+----------------------+\n",
      "                                                                                         \n",
      "+---------------------------------------------------------------------------------------+\n",
      "| Processes:                                                                            |\n",
      "|  GPU   GI   CI        PID   Type   Process name                            GPU Memory |\n",
      "|        ID   ID                                                             Usage      |\n",
      "|=======================================================================================|\n",
      "|  No running processes found                                                           |\n",
      "+---------------------------------------------------------------------------------------+\n"
     ]
    }
   ],
   "source": [
    "# to check and monitoring of NVIDIA GPU devices.\n",
    "!nvidia-smi"
   ]
  },
  {
   "cell_type": "code",
   "execution_count": 5,
   "id": "9be9926a-d19c-4d83-9267-f4efeec0378d",
   "metadata": {},
   "outputs": [
    {
     "name": "stderr",
     "output_type": "stream",
     "text": [
      "Ultralytics YOLOv8.0.186 🚀 Python-3.10.13 torch-2.2.0 CUDA:0 (NVIDIA RTX A4000, 16106MiB)\n",
      "Setup complete ✅ (28 CPUs, 125.5 GB RAM, 1.6/16.0 GB disk)\n"
     ]
    }
   ],
   "source": [
    "!pip install --upgrade ultralytics==8.0.186\n",
    "import ultralytics\n",
    "ultralytics.checks()"
   ]
  },
  {
   "cell_type": "code",
   "execution_count": 6,
   "id": "129bcb08-d613-4b19-a242-351a39c7edb9",
   "metadata": {},
   "outputs": [
    {
     "name": "stdout",
     "output_type": "stream",
     "text": [
      "{'settings_version': '0.0.4', 'datasets_dir': '/datasets', 'weights_dir': 'weights', 'runs_dir': 'runs', 'uuid': '47dc55b504f844c507ea3a5235c3f239b398edb996961dce386951ca051e6205', 'sync': True, 'api_key': '', 'clearml': True, 'comet': True, 'dvc': True, 'hub': True, 'mlflow': True, 'neptune': True, 'raytune': True, 'tensorboard': True, 'wandb': True}\n"
     ]
    }
   ],
   "source": [
    "from ultralytics import settings, YOLO\n",
    "\n",
    "print(settings)"
   ]
  },
  {
   "cell_type": "code",
   "execution_count": 7,
   "id": "f4ae5ae1-4d47-4de4-8959-9fa183598ff0",
   "metadata": {},
   "outputs": [
    {
     "name": "stdout",
     "output_type": "stream",
     "text": [
      "\u001b[33mWARNING: Running pip as the 'root' user can result in broken permissions and conflicting behaviour with the system package manager. It is recommended to use a virtual environment instead: https://pip.pypa.io/warnings/venv\u001b[0m\u001b[33m\n",
      "\u001b[0m"
     ]
    },
    {
     "name": "stderr",
     "output_type": "stream",
     "text": [
      "Failed to detect the name of this notebook, you can set it manually with the WANDB_NOTEBOOK_NAME environment variable to enable code saving.\n",
      "\u001b[34m\u001b[1mwandb\u001b[0m: Logging into wandb.ai. (Learn how to deploy a W&B server locally: https://wandb.me/wandb-server)\n",
      "\u001b[34m\u001b[1mwandb\u001b[0m: You can find your API key in your browser here: https://wandb.ai/authorize\n",
      "\u001b[34m\u001b[1mwandb\u001b[0m: Paste an API key from your profile and hit enter, or press ctrl+c to quit:"
     ]
    },
    {
     "name": "stdin",
     "output_type": "stream",
     "text": [
      "  ········\n"
     ]
    },
    {
     "name": "stderr",
     "output_type": "stream",
     "text": [
      "\u001b[34m\u001b[1mwandb\u001b[0m: Appending key for api.wandb.ai to your netrc file: /root/.netrc\n"
     ]
    },
    {
     "data": {
      "text/plain": [
       "True"
      ]
     },
     "execution_count": 7,
     "metadata": {},
     "output_type": "execute_result"
    }
   ],
   "source": [
    "!pip install wandb -qU\n",
    "import wandb\n",
    "wandb.login()"
   ]
  },
  {
   "cell_type": "code",
   "execution_count": 8,
   "id": "b913bad8-c203-45e9-ae7c-fca5a4530c2e",
   "metadata": {},
   "outputs": [
    {
     "name": "stderr",
     "output_type": "stream",
     "text": [
      "\u001b[34m\u001b[1mwandb\u001b[0m: Currently logged in as: \u001b[33mwangbinxp\u001b[0m. Use \u001b[1m`wandb login --relogin`\u001b[0m to force relogin\n"
     ]
    },
    {
     "data": {
      "text/html": [
       "Tracking run with wandb version 0.16.4"
      ],
      "text/plain": [
       "<IPython.core.display.HTML object>"
      ]
     },
     "metadata": {},
     "output_type": "display_data"
    },
    {
     "data": {
      "text/html": [
       "Run data is saved locally in <code>/wandb/run-20240325_070516-5gg5b5mm</code>"
      ],
      "text/plain": [
       "<IPython.core.display.HTML object>"
      ]
     },
     "metadata": {},
     "output_type": "display_data"
    },
    {
     "data": {
      "text/html": [
       "Syncing run <strong><a href='https://wandb.ai/wangbinxp/yolov8_food/runs/5gg5b5mm' target=\"_blank\">avid-music-1</a></strong> to <a href='https://wandb.ai/wangbinxp/yolov8_food' target=\"_blank\">Weights & Biases</a> (<a href='https://wandb.me/run' target=\"_blank\">docs</a>)<br/>"
      ],
      "text/plain": [
       "<IPython.core.display.HTML object>"
      ]
     },
     "metadata": {},
     "output_type": "display_data"
    },
    {
     "data": {
      "text/html": [
       " View project at <a href='https://wandb.ai/wangbinxp/yolov8_food' target=\"_blank\">https://wandb.ai/wangbinxp/yolov8_food</a>"
      ],
      "text/plain": [
       "<IPython.core.display.HTML object>"
      ]
     },
     "metadata": {},
     "output_type": "display_data"
    },
    {
     "data": {
      "text/html": [
       " View run at <a href='https://wandb.ai/wangbinxp/yolov8_food/runs/5gg5b5mm' target=\"_blank\">https://wandb.ai/wangbinxp/yolov8_food/runs/5gg5b5mm</a>"
      ],
      "text/plain": [
       "<IPython.core.display.HTML object>"
      ]
     },
     "metadata": {},
     "output_type": "display_data"
    },
    {
     "data": {
      "text/html": [
       "<button onClick=\"this.nextSibling.style.display='block';this.style.display='none';\">Display W&B run</button><iframe src='https://wandb.ai/wangbinxp/yolov8_food/runs/5gg5b5mm?jupyter=true' style='border:none;width:100%;height:420px;display:none;'></iframe>"
      ],
      "text/plain": [
       "<wandb.sdk.wandb_run.Run at 0x7f75327a4670>"
      ]
     },
     "execution_count": 8,
     "metadata": {},
     "output_type": "execute_result"
    }
   ],
   "source": [
    "wandb.init(project=\"yolov8_food\", job_type=\"training\")"
   ]
  },
  {
   "cell_type": "code",
   "execution_count": 9,
   "id": "c7c4e620-1c29-4f69-bd83-fddd5b61e58c",
   "metadata": {},
   "outputs": [
    {
     "name": "stderr",
     "output_type": "stream",
     "text": [
      "Downloading https://github.com/ultralytics/assets/releases/download/v0.0.0/yolov8s.pt to 'yolov8s.pt'...\n",
      "100%|██████████| 21.5M/21.5M [00:15<00:00, 1.48MB/s]\n"
     ]
    }
   ],
   "source": [
    "# Load a model\n",
    "model = YOLO('yolov8s.pt')  # load a pretrained model (recommended for training)"
   ]
  },
  {
   "cell_type": "code",
   "execution_count": null,
   "id": "de305b5f-85c9-4aa1-96f5-1ff11b0a2555",
   "metadata": {},
   "outputs": [],
   "source": [
    "from wandb.integration.ultralytics import add_wandb_callback\n",
    "\n",
    "add_wandb_callback(model, enable_model_checkpointing=True)"
   ]
  },
  {
   "cell_type": "code",
   "execution_count": 11,
   "id": "6a1eae25-ad36-4e00-8c6c-640daa1b7aa2",
   "metadata": {},
   "outputs": [
    {
     "name": "stderr",
     "output_type": "stream",
     "text": [
      "New https://pypi.org/project/ultralytics/8.1.34 available 😃 Update with 'pip install -U ultralytics'\n",
      "Ultralytics YOLOv8.0.186 🚀 Python-3.10.13 torch-2.2.0 CUDA:0 (NVIDIA RTX A4000, 16106MiB)\n",
      "\u001b[34m\u001b[1mengine/trainer: \u001b[0mtask=detect, mode=train, model=yolov8s.pt, data=/datasets/unimib2016/unimib2016.yaml, epochs=25, patience=50, batch=16, imgsz=640, save=True, save_period=-1, cache=False, device=None, workers=8, project=yolov8_food, name=None, exist_ok=False, pretrained=True, optimizer=auto, verbose=True, seed=0, deterministic=True, single_cls=False, rect=False, cos_lr=False, close_mosaic=10, resume=False, amp=True, fraction=1.0, profile=False, freeze=None, overlap_mask=True, mask_ratio=4, dropout=0.0, val=True, split=val, save_json=False, save_hybrid=False, conf=None, iou=0.7, max_det=300, half=False, dnn=False, plots=True, source=None, show=False, save_txt=False, save_conf=False, save_crop=False, show_labels=True, show_conf=True, vid_stride=1, stream_buffer=False, line_width=None, visualize=False, augment=False, agnostic_nms=False, classes=None, retina_masks=False, boxes=True, format=torchscript, keras=False, optimize=False, int8=False, dynamic=False, simplify=False, opset=None, workspace=4, nms=False, lr0=0.01, lrf=0.01, momentum=0.937, weight_decay=0.0005, warmup_epochs=3.0, warmup_momentum=0.8, warmup_bias_lr=0.1, box=7.5, cls=0.5, dfl=1.5, pose=12.0, kobj=1.0, label_smoothing=0.0, nbs=64, hsv_h=0.015, hsv_s=0.7, hsv_v=0.4, degrees=0.0, translate=0.1, scale=0.5, shear=0.0, perspective=0.0, flipud=0.0, fliplr=0.5, mosaic=1.0, mixup=0.0, copy_paste=0.0, cfg=None, tracker=botsort.yaml, save_dir=yolov8_food/train\n",
      "Downloading https://ultralytics.com/assets/Arial.ttf to '/root/.config/Ultralytics/Arial.ttf'...\n",
      "100%|██████████| 755k/755k [00:00<00:00, 2.15MB/s]\n",
      "Overriding model.yaml nc=80 with nc=73\n",
      "\n",
      "                   from  n    params  module                                       arguments                     \n",
      "  0                  -1  1       928  ultralytics.nn.modules.conv.Conv             [3, 32, 3, 2]                 \n",
      "  1                  -1  1     18560  ultralytics.nn.modules.conv.Conv             [32, 64, 3, 2]                \n",
      "  2                  -1  1     29056  ultralytics.nn.modules.block.C2f             [64, 64, 1, True]             \n",
      "  3                  -1  1     73984  ultralytics.nn.modules.conv.Conv             [64, 128, 3, 2]               \n",
      "  4                  -1  2    197632  ultralytics.nn.modules.block.C2f             [128, 128, 2, True]           \n",
      "  5                  -1  1    295424  ultralytics.nn.modules.conv.Conv             [128, 256, 3, 2]              \n",
      "  6                  -1  2    788480  ultralytics.nn.modules.block.C2f             [256, 256, 2, True]           \n",
      "  7                  -1  1   1180672  ultralytics.nn.modules.conv.Conv             [256, 512, 3, 2]              \n",
      "  8                  -1  1   1838080  ultralytics.nn.modules.block.C2f             [512, 512, 1, True]           \n",
      "  9                  -1  1    656896  ultralytics.nn.modules.block.SPPF            [512, 512, 5]                 \n",
      " 10                  -1  1         0  torch.nn.modules.upsampling.Upsample         [None, 2, 'nearest']          \n",
      " 11             [-1, 6]  1         0  ultralytics.nn.modules.conv.Concat           [1]                           \n",
      " 12                  -1  1    591360  ultralytics.nn.modules.block.C2f             [768, 256, 1]                 \n",
      " 13                  -1  1         0  torch.nn.modules.upsampling.Upsample         [None, 2, 'nearest']          \n",
      " 14             [-1, 4]  1         0  ultralytics.nn.modules.conv.Concat           [1]                           \n",
      " 15                  -1  1    148224  ultralytics.nn.modules.block.C2f             [384, 128, 1]                 \n",
      " 16                  -1  1    147712  ultralytics.nn.modules.conv.Conv             [128, 128, 3, 2]              \n",
      " 17            [-1, 12]  1         0  ultralytics.nn.modules.conv.Concat           [1]                           \n",
      " 18                  -1  1    493056  ultralytics.nn.modules.block.C2f             [384, 256, 1]                 \n",
      " 19                  -1  1    590336  ultralytics.nn.modules.conv.Conv             [256, 256, 3, 2]              \n",
      " 20             [-1, 9]  1         0  ultralytics.nn.modules.conv.Concat           [1]                           \n",
      " 21                  -1  1   1969152  ultralytics.nn.modules.block.C2f             [768, 512, 1]                 \n",
      " 22        [15, 18, 21]  1   2144299  ultralytics.nn.modules.head.Detect           [73, [128, 256, 512]]         \n",
      "Model summary: 225 layers, 11163851 parameters, 11163835 gradients\n",
      "\n",
      "Transferred 349/355 items from pretrained weights\n",
      "Freezing layer 'model.22.dfl.conv.weight'\n",
      "\u001b[34m\u001b[1mAMP: \u001b[0mrunning Automatic Mixed Precision (AMP) checks with YOLOv8n...\n",
      "Downloading https://github.com/ultralytics/assets/releases/download/v0.0.0/yolov8n.pt to 'yolov8n.pt'...\n",
      "100%|██████████| 6.23M/6.23M [00:05<00:00, 1.27MB/s]\n",
      "\u001b[34m\u001b[1mAMP: \u001b[0mchecks passed ✅\n",
      "\u001b[34m\u001b[1mtrain: \u001b[0mScanning /datasets/unimib2016/labels/train... 719 images, 0 backgrounds, 0 corrupt: 100%|██████████| 719/719 [00:00<00:00, 1054.31it/s]\n",
      "\u001b[34m\u001b[1mtrain: \u001b[0mNew cache created: /datasets/unimib2016/labels/train.cache\n",
      "\u001b[34m\u001b[1mval: \u001b[0mScanning /datasets/unimib2016/labels/val... 205 images, 0 backgrounds, 0 corrupt: 100%|██████████| 205/205 [00:00<00:00, 832.65it/s]\n",
      "\u001b[34m\u001b[1mval: \u001b[0mNew cache created: /datasets/unimib2016/labels/val.cache\n",
      "Plotting labels to yolov8_food/train/labels.jpg... \n",
      "\u001b[34m\u001b[1moptimizer:\u001b[0m 'optimizer=auto' found, ignoring 'lr0=0.01' and 'momentum=0.937' and determining best 'optimizer', 'lr0' and 'momentum' automatically... \n",
      "\u001b[34m\u001b[1moptimizer:\u001b[0m AdamW(lr=0.00013, momentum=0.9) with parameter groups 57 weight(decay=0.0), 64 weight(decay=0.0005), 63 bias(decay=0.0)\n",
      "Image sizes 640 train, 640 val\n",
      "Using 8 dataloader workers\n",
      "Logging results to \u001b[1myolov8_food/train\u001b[0m\n",
      "Starting training for 25 epochs...\n",
      "\n",
      "      Epoch    GPU_mem   box_loss   cls_loss   dfl_loss  Instances       Size\n",
      "       1/25      4.24G     0.7917      4.871      1.171        121        640: 100%|██████████| 45/45 [00:14<00:00,  3.02it/s]\n",
      "                 Class     Images  Instances      Box(P          R      mAP50  mAP50-95): 100%|██████████| 7/7 [00:06<00:00,  1.02it/s]\n",
      "                   all        205        713      0.347      0.157     0.0872     0.0761\n"
     ]
    },
    {
     "data": {
      "application/vnd.jupyter.widget-view+json": {
       "model_id": "74c51f8f625247ffa08e4222e383ef2e",
       "version_major": 2,
       "version_minor": 0
      },
      "text/plain": [
       "Generating Visualizations for batch-1/1:   0%|          | 0/32 [00:00<?, ?it/s]"
      ]
     },
     "metadata": {},
     "output_type": "display_data"
    },
    {
     "name": "stderr",
     "output_type": "stream",
     "text": [
      "\n",
      "      Epoch    GPU_mem   box_loss   cls_loss   dfl_loss  Instances       Size\n",
      "       2/25      4.32G     0.6184      2.635       1.04         95        640: 100%|██████████| 45/45 [00:09<00:00,  5.00it/s]\n",
      "                 Class     Images  Instances      Box(P          R      mAP50  mAP50-95): 100%|██████████| 7/7 [00:04<00:00,  1.42it/s]\n",
      "                   all        205        713      0.581      0.338      0.317      0.291\n"
     ]
    },
    {
     "data": {
      "application/vnd.jupyter.widget-view+json": {
       "model_id": "782fe23dff8448b88a2ef4dadc5143a7",
       "version_major": 2,
       "version_minor": 0
      },
      "text/plain": [
       "Generating Visualizations for batch-1/1:   0%|          | 0/32 [00:00<?, ?it/s]"
      ]
     },
     "metadata": {},
     "output_type": "display_data"
    },
    {
     "name": "stderr",
     "output_type": "stream",
     "text": [
      "\n",
      "      Epoch    GPU_mem   box_loss   cls_loss   dfl_loss  Instances       Size\n",
      "       3/25      4.53G     0.5749      1.819      1.004         91        640: 100%|██████████| 45/45 [00:08<00:00,  5.24it/s]\n",
      "                 Class     Images  Instances      Box(P          R      mAP50  mAP50-95): 100%|██████████| 7/7 [00:05<00:00,  1.37it/s]\n",
      "                   all        205        713      0.805      0.406      0.487      0.452\n"
     ]
    },
    {
     "data": {
      "application/vnd.jupyter.widget-view+json": {
       "model_id": "427679fc34114bee898747215b55a99e",
       "version_major": 2,
       "version_minor": 0
      },
      "text/plain": [
       "Generating Visualizations for batch-1/1:   0%|          | 0/32 [00:00<?, ?it/s]"
      ]
     },
     "metadata": {},
     "output_type": "display_data"
    },
    {
     "name": "stderr",
     "output_type": "stream",
     "text": [
      "\n",
      "      Epoch    GPU_mem   box_loss   cls_loss   dfl_loss  Instances       Size\n",
      "       4/25      4.56G     0.5177      1.423     0.9617         74        640: 100%|██████████| 45/45 [00:08<00:00,  5.24it/s]\n",
      "                 Class     Images  Instances      Box(P          R      mAP50  mAP50-95): 100%|██████████| 7/7 [00:04<00:00,  1.56it/s]\n",
      "                   all        205        713      0.774      0.553      0.594       0.55\n"
     ]
    },
    {
     "data": {
      "application/vnd.jupyter.widget-view+json": {
       "model_id": "5e87b8c9443f4353b63a203aac1190df",
       "version_major": 2,
       "version_minor": 0
      },
      "text/plain": [
       "Generating Visualizations for batch-1/1:   0%|          | 0/32 [00:00<?, ?it/s]"
      ]
     },
     "metadata": {},
     "output_type": "display_data"
    },
    {
     "name": "stderr",
     "output_type": "stream",
     "text": [
      "\n",
      "      Epoch    GPU_mem   box_loss   cls_loss   dfl_loss  Instances       Size\n",
      "       5/25      4.39G     0.5012      1.153     0.9514         82        640: 100%|██████████| 45/45 [00:08<00:00,  5.18it/s]\n",
      "                 Class     Images  Instances      Box(P          R      mAP50  mAP50-95): 100%|██████████| 7/7 [00:03<00:00,  1.93it/s]\n",
      "                   all        205        713      0.691      0.599      0.627      0.582\n"
     ]
    },
    {
     "data": {
      "application/vnd.jupyter.widget-view+json": {
       "model_id": "c9d5cd091ee04ecc882b151afd9fc4ea",
       "version_major": 2,
       "version_minor": 0
      },
      "text/plain": [
       "Generating Visualizations for batch-1/1:   0%|          | 0/32 [00:00<?, ?it/s]"
      ]
     },
     "metadata": {},
     "output_type": "display_data"
    },
    {
     "name": "stderr",
     "output_type": "stream",
     "text": [
      "\n",
      "      Epoch    GPU_mem   box_loss   cls_loss   dfl_loss  Instances       Size\n",
      "       6/25      4.59G     0.4857     0.9931     0.9367        145        640: 100%|██████████| 45/45 [00:08<00:00,  5.23it/s]\n",
      "                 Class     Images  Instances      Box(P          R      mAP50  mAP50-95): 100%|██████████| 7/7 [00:02<00:00,  3.07it/s]\n",
      "                   all        205        713      0.751      0.652      0.696      0.643\n"
     ]
    },
    {
     "data": {
      "application/vnd.jupyter.widget-view+json": {
       "model_id": "6ed06a6f5dca4d17b87137e6aab46854",
       "version_major": 2,
       "version_minor": 0
      },
      "text/plain": [
       "Generating Visualizations for batch-1/1:   0%|          | 0/32 [00:00<?, ?it/s]"
      ]
     },
     "metadata": {},
     "output_type": "display_data"
    },
    {
     "name": "stderr",
     "output_type": "stream",
     "text": [
      "\n",
      "      Epoch    GPU_mem   box_loss   cls_loss   dfl_loss  Instances       Size\n",
      "       7/25      4.47G     0.4771      0.902     0.9417         79        640: 100%|██████████| 45/45 [00:08<00:00,  5.25it/s]\n",
      "                 Class     Images  Instances      Box(P          R      mAP50  mAP50-95): 100%|██████████| 7/7 [00:01<00:00,  3.64it/s]\n",
      "                   all        205        713      0.775      0.658      0.739      0.684\n"
     ]
    },
    {
     "data": {
      "application/vnd.jupyter.widget-view+json": {
       "model_id": "b3e6ce483bfb4e63b917693197cedf06",
       "version_major": 2,
       "version_minor": 0
      },
      "text/plain": [
       "Generating Visualizations for batch-1/1:   0%|          | 0/13 [00:00<?, ?it/s]"
      ]
     },
     "metadata": {},
     "output_type": "display_data"
    },
    {
     "name": "stderr",
     "output_type": "stream",
     "text": [
      "\n",
      "      Epoch    GPU_mem   box_loss   cls_loss   dfl_loss  Instances       Size\n",
      "       8/25      4.65G     0.4622     0.8135     0.9232        122        640: 100%|██████████| 45/45 [00:08<00:00,  5.22it/s]\n",
      "                 Class     Images  Instances      Box(P          R      mAP50  mAP50-95): 100%|██████████| 7/7 [00:02<00:00,  3.20it/s]\n",
      "                   all        205        713      0.826      0.692      0.788      0.722\n"
     ]
    },
    {
     "data": {
      "application/vnd.jupyter.widget-view+json": {
       "model_id": "248bfc83a7df44a7aeca6ed7a8328cdb",
       "version_major": 2,
       "version_minor": 0
      },
      "text/plain": [
       "Generating Visualizations for batch-1/1:   0%|          | 0/32 [00:00<?, ?it/s]"
      ]
     },
     "metadata": {},
     "output_type": "display_data"
    },
    {
     "name": "stderr",
     "output_type": "stream",
     "text": [
      "\n",
      "      Epoch    GPU_mem   box_loss   cls_loss   dfl_loss  Instances       Size\n",
      "       9/25      4.67G     0.4446     0.7412     0.9178        121        640: 100%|██████████| 45/45 [00:08<00:00,  5.32it/s]\n",
      "                 Class     Images  Instances      Box(P          R      mAP50  mAP50-95): 100%|██████████| 7/7 [00:01<00:00,  4.11it/s]\n",
      "                   all        205        713      0.774      0.752      0.823      0.759\n"
     ]
    },
    {
     "data": {
      "application/vnd.jupyter.widget-view+json": {
       "model_id": "b169fa4d0e964e8186ab662791c60878",
       "version_major": 2,
       "version_minor": 0
      },
      "text/plain": [
       "Generating Visualizations for batch-1/1:   0%|          | 0/32 [00:00<?, ?it/s]"
      ]
     },
     "metadata": {},
     "output_type": "display_data"
    },
    {
     "name": "stderr",
     "output_type": "stream",
     "text": [
      "\n",
      "      Epoch    GPU_mem   box_loss   cls_loss   dfl_loss  Instances       Size\n",
      "      10/25      4.69G     0.4493     0.7021     0.9188         84        640: 100%|██████████| 45/45 [00:08<00:00,  5.40it/s]\n",
      "                 Class     Images  Instances      Box(P          R      mAP50  mAP50-95): 100%|██████████| 7/7 [00:02<00:00,  3.07it/s]\n",
      "                   all        205        713      0.745      0.772      0.841      0.758\n"
     ]
    },
    {
     "data": {
      "application/vnd.jupyter.widget-view+json": {
       "model_id": "bc96e46654104a4c97a150dbf1e30a3c",
       "version_major": 2,
       "version_minor": 0
      },
      "text/plain": [
       "Generating Visualizations for batch-1/1:   0%|          | 0/32 [00:00<?, ?it/s]"
      ]
     },
     "metadata": {},
     "output_type": "display_data"
    },
    {
     "name": "stderr",
     "output_type": "stream",
     "text": [
      "\n",
      "      Epoch    GPU_mem   box_loss   cls_loss   dfl_loss  Instances       Size\n",
      "      11/25      4.58G     0.4412     0.6801     0.9153         82        640: 100%|██████████| 45/45 [00:08<00:00,  5.27it/s]\n",
      "                 Class     Images  Instances      Box(P          R      mAP50  mAP50-95): 100%|██████████| 7/7 [00:02<00:00,  3.02it/s]\n",
      "                   all        205        713      0.766      0.821      0.859      0.793\n"
     ]
    },
    {
     "data": {
      "application/vnd.jupyter.widget-view+json": {
       "model_id": "2c651e02c9ac4c0e9050b242db220956",
       "version_major": 2,
       "version_minor": 0
      },
      "text/plain": [
       "Generating Visualizations for batch-1/1:   0%|          | 0/32 [00:00<?, ?it/s]"
      ]
     },
     "metadata": {},
     "output_type": "display_data"
    },
    {
     "name": "stderr",
     "output_type": "stream",
     "text": [
      "\n",
      "      Epoch    GPU_mem   box_loss   cls_loss   dfl_loss  Instances       Size\n",
      "      12/25       4.6G      0.427     0.6195     0.9077         87        640: 100%|██████████| 45/45 [00:08<00:00,  5.18it/s]\n",
      "                 Class     Images  Instances      Box(P          R      mAP50  mAP50-95): 100%|██████████| 7/7 [00:02<00:00,  3.36it/s]\n",
      "                   all        205        713      0.761      0.814      0.859        0.8\n"
     ]
    },
    {
     "data": {
      "application/vnd.jupyter.widget-view+json": {
       "model_id": "5bbc9942d37e4d67a9108c02d73a8fc0",
       "version_major": 2,
       "version_minor": 0
      },
      "text/plain": [
       "Generating Visualizations for batch-1/1:   0%|          | 0/32 [00:00<?, ?it/s]"
      ]
     },
     "metadata": {},
     "output_type": "display_data"
    },
    {
     "name": "stderr",
     "output_type": "stream",
     "text": [
      "\n",
      "      Epoch    GPU_mem   box_loss   cls_loss   dfl_loss  Instances       Size\n",
      "      13/25      4.76G     0.4245     0.5973     0.9007         93        640: 100%|██████████| 45/45 [00:08<00:00,  5.25it/s]\n",
      "                 Class     Images  Instances      Box(P          R      mAP50  mAP50-95): 100%|██████████| 7/7 [00:01<00:00,  3.93it/s]\n",
      "                   all        205        713      0.785      0.804      0.872      0.813\n"
     ]
    },
    {
     "data": {
      "application/vnd.jupyter.widget-view+json": {
       "model_id": "6bb016c218ad42bb9f7b771e4fc8bbaa",
       "version_major": 2,
       "version_minor": 0
      },
      "text/plain": [
       "Generating Visualizations for batch-1/1:   0%|          | 0/32 [00:00<?, ?it/s]"
      ]
     },
     "metadata": {},
     "output_type": "display_data"
    },
    {
     "name": "stderr",
     "output_type": "stream",
     "text": [
      "\n",
      "      Epoch    GPU_mem   box_loss   cls_loss   dfl_loss  Instances       Size\n",
      "      14/25      4.79G     0.4105     0.5483     0.8946         92        640: 100%|██████████| 45/45 [00:08<00:00,  5.36it/s]\n",
      "                 Class     Images  Instances      Box(P          R      mAP50  mAP50-95): 100%|██████████| 7/7 [00:02<00:00,  3.37it/s]\n",
      "                   all        205        713      0.864      0.752      0.858      0.792\n"
     ]
    },
    {
     "data": {
      "application/vnd.jupyter.widget-view+json": {
       "model_id": "cea72930e947488b8e8889a5ddac2b00",
       "version_major": 2,
       "version_minor": 0
      },
      "text/plain": [
       "Generating Visualizations for batch-1/1:   0%|          | 0/13 [00:00<?, ?it/s]"
      ]
     },
     "metadata": {},
     "output_type": "display_data"
    },
    {
     "name": "stderr",
     "output_type": "stream",
     "text": [
      "\n",
      "      Epoch    GPU_mem   box_loss   cls_loss   dfl_loss  Instances       Size\n",
      "      15/25      4.67G     0.4085     0.5362     0.8963        101        640: 100%|██████████| 45/45 [00:08<00:00,  5.25it/s]\n",
      "                 Class     Images  Instances      Box(P          R      mAP50  mAP50-95): 100%|██████████| 7/7 [00:01<00:00,  3.82it/s]\n",
      "                   all        205        713      0.832       0.76      0.865      0.802\n"
     ]
    },
    {
     "data": {
      "application/vnd.jupyter.widget-view+json": {
       "model_id": "5c7192371976415b899bf73f50c5a24f",
       "version_major": 2,
       "version_minor": 0
      },
      "text/plain": [
       "Generating Visualizations for batch-1/1:   0%|          | 0/32 [00:00<?, ?it/s]"
      ]
     },
     "metadata": {},
     "output_type": "display_data"
    },
    {
     "name": "stderr",
     "output_type": "stream",
     "text": [
      "Closing dataloader mosaic\n",
      "\n",
      "      Epoch    GPU_mem   box_loss   cls_loss   dfl_loss  Instances       Size\n",
      "      16/25      4.69G     0.3317      0.561     0.8409         60        640: 100%|██████████| 45/45 [00:11<00:00,  3.82it/s]\n",
      "                 Class     Images  Instances      Box(P          R      mAP50  mAP50-95): 100%|██████████| 7/7 [00:01<00:00,  3.96it/s]\n",
      "                   all        205        713      0.731      0.778      0.842      0.772\n"
     ]
    },
    {
     "data": {
      "application/vnd.jupyter.widget-view+json": {
       "model_id": "a8ce2dc760d74302a3397ccb9ab0b076",
       "version_major": 2,
       "version_minor": 0
      },
      "text/plain": [
       "Generating Visualizations for batch-1/1:   0%|          | 0/32 [00:00<?, ?it/s]"
      ]
     },
     "metadata": {},
     "output_type": "display_data"
    },
    {
     "name": "stderr",
     "output_type": "stream",
     "text": [
      "\n",
      "      Epoch    GPU_mem   box_loss   cls_loss   dfl_loss  Instances       Size\n",
      "      17/25      4.87G     0.3105      0.473     0.8303         50        640: 100%|██████████| 45/45 [00:08<00:00,  5.29it/s]\n",
      "                 Class     Images  Instances      Box(P          R      mAP50  mAP50-95): 100%|██████████| 7/7 [00:01<00:00,  4.09it/s]\n",
      "                   all        205        713       0.76      0.806      0.871      0.803\n"
     ]
    },
    {
     "data": {
      "application/vnd.jupyter.widget-view+json": {
       "model_id": "99703776863948c1a05c4db3a574d1f2",
       "version_major": 2,
       "version_minor": 0
      },
      "text/plain": [
       "Generating Visualizations for batch-1/1:   0%|          | 0/32 [00:00<?, ?it/s]"
      ]
     },
     "metadata": {},
     "output_type": "display_data"
    },
    {
     "name": "stderr",
     "output_type": "stream",
     "text": [
      "\n",
      "      Epoch    GPU_mem   box_loss   cls_loss   dfl_loss  Instances       Size\n",
      "      18/25      4.73G     0.3083      0.447     0.8316         51        640: 100%|██████████| 45/45 [00:08<00:00,  5.30it/s]\n",
      "                 Class     Images  Instances      Box(P          R      mAP50  mAP50-95): 100%|██████████| 7/7 [00:01<00:00,  4.05it/s]\n",
      "                   all        205        713      0.835      0.818      0.906       0.83\n",
      "\n",
      "      Epoch    GPU_mem   box_loss   cls_loss   dfl_loss  Instances       Size\n",
      "      19/25      4.76G     0.2973      0.423     0.8223         56        640: 100%|██████████| 45/45 [00:08<00:00,  5.28it/s]\n",
      "                 Class     Images  Instances      Box(P          R      mAP50  mAP50-95): 100%|██████████| 7/7 [00:01<00:00,  4.49it/s]\n",
      "                   all        205        713      0.782      0.845      0.902      0.834\n"
     ]
    },
    {
     "data": {
      "application/vnd.jupyter.widget-view+json": {
       "model_id": "1605ec3cd82d46e18084f5b1d091f019",
       "version_major": 2,
       "version_minor": 0
      },
      "text/plain": [
       "Generating Visualizations for batch-1/1:   0%|          | 0/32 [00:00<?, ?it/s]"
      ]
     },
     "metadata": {},
     "output_type": "display_data"
    },
    {
     "name": "stderr",
     "output_type": "stream",
     "text": [
      "\n",
      "      Epoch    GPU_mem   box_loss   cls_loss   dfl_loss  Instances       Size\n",
      "      20/25      4.79G     0.2925     0.3996     0.8198         47        640: 100%|██████████| 45/45 [00:08<00:00,  5.28it/s]\n",
      "                 Class     Images  Instances      Box(P          R      mAP50  mAP50-95): 100%|██████████| 7/7 [00:01<00:00,  4.21it/s]\n",
      "                   all        205        713      0.792      0.822      0.877      0.818\n"
     ]
    },
    {
     "data": {
      "application/vnd.jupyter.widget-view+json": {
       "model_id": "24074e21100c4926bd1212dd76ddab9b",
       "version_major": 2,
       "version_minor": 0
      },
      "text/plain": [
       "Generating Visualizations for batch-1/1:   0%|          | 0/32 [00:00<?, ?it/s]"
      ]
     },
     "metadata": {},
     "output_type": "display_data"
    },
    {
     "name": "stderr",
     "output_type": "stream",
     "text": [
      "\n",
      "      Epoch    GPU_mem   box_loss   cls_loss   dfl_loss  Instances       Size\n",
      "      21/25      4.95G     0.2919     0.3901     0.8224         54        640: 100%|██████████| 45/45 [00:08<00:00,  5.37it/s]\n",
      "                 Class     Images  Instances      Box(P          R      mAP50  mAP50-95): 100%|██████████| 7/7 [00:01<00:00,  4.08it/s]\n",
      "                   all        205        713      0.791      0.863      0.917       0.85\n"
     ]
    },
    {
     "data": {
      "application/vnd.jupyter.widget-view+json": {
       "model_id": "0fc4a748c8034d028a4b83782941af07",
       "version_major": 2,
       "version_minor": 0
      },
      "text/plain": [
       "Generating Visualizations for batch-1/1:   0%|          | 0/13 [00:00<?, ?it/s]"
      ]
     },
     "metadata": {},
     "output_type": "display_data"
    },
    {
     "name": "stderr",
     "output_type": "stream",
     "text": [
      "\n",
      "      Epoch    GPU_mem   box_loss   cls_loss   dfl_loss  Instances       Size\n",
      "      22/25      4.98G     0.2872     0.3736     0.8194         43        640: 100%|██████████| 45/45 [00:08<00:00,  5.34it/s]\n",
      "                 Class     Images  Instances      Box(P          R      mAP50  mAP50-95): 100%|██████████| 7/7 [00:01<00:00,  4.48it/s]\n",
      "                   all        205        713      0.843      0.856      0.901      0.833\n"
     ]
    },
    {
     "data": {
      "application/vnd.jupyter.widget-view+json": {
       "model_id": "a060dd3dbc3d4fd88de79f9463d63533",
       "version_major": 2,
       "version_minor": 0
      },
      "text/plain": [
       "Generating Visualizations for batch-1/1:   0%|          | 0/32 [00:00<?, ?it/s]"
      ]
     },
     "metadata": {},
     "output_type": "display_data"
    },
    {
     "name": "stderr",
     "output_type": "stream",
     "text": [
      "\n",
      "      Epoch    GPU_mem   box_loss   cls_loss   dfl_loss  Instances       Size\n",
      "      23/25      4.85G     0.2846     0.3683     0.8199         69        640: 100%|██████████| 45/45 [00:08<00:00,  5.33it/s]\n",
      "                 Class     Images  Instances      Box(P          R      mAP50  mAP50-95): 100%|██████████| 7/7 [00:01<00:00,  5.10it/s]\n",
      "                   all        205        713       0.83      0.859      0.893      0.823\n"
     ]
    },
    {
     "data": {
      "application/vnd.jupyter.widget-view+json": {
       "model_id": "bef62cfdccf74567a72ef017af425fc5",
       "version_major": 2,
       "version_minor": 0
      },
      "text/plain": [
       "Generating Visualizations for batch-1/1:   0%|          | 0/32 [00:00<?, ?it/s]"
      ]
     },
     "metadata": {},
     "output_type": "display_data"
    },
    {
     "name": "stderr",
     "output_type": "stream",
     "text": [
      "\n",
      "      Epoch    GPU_mem   box_loss   cls_loss   dfl_loss  Instances       Size\n",
      "      24/25      4.88G     0.2802       0.36     0.8199         40        640: 100%|██████████| 45/45 [00:08<00:00,  5.23it/s]\n",
      "                 Class     Images  Instances      Box(P          R      mAP50  mAP50-95): 100%|██████████| 7/7 [00:01<00:00,  3.51it/s]\n",
      "                   all        205        713      0.846      0.864      0.901       0.83\n"
     ]
    },
    {
     "data": {
      "application/vnd.jupyter.widget-view+json": {
       "model_id": "a6a86c040d0e44a8962c1371ed45720d",
       "version_major": 2,
       "version_minor": 0
      },
      "text/plain": [
       "Generating Visualizations for batch-1/1:   0%|          | 0/32 [00:00<?, ?it/s]"
      ]
     },
     "metadata": {},
     "output_type": "display_data"
    },
    {
     "name": "stderr",
     "output_type": "stream",
     "text": [
      "\n",
      "      Epoch    GPU_mem   box_loss   cls_loss   dfl_loss  Instances       Size\n",
      "      25/25      5.05G     0.2806     0.3458     0.8221         52        640: 100%|██████████| 45/45 [00:08<00:00,  5.30it/s]\n",
      "                 Class     Images  Instances      Box(P          R      mAP50  mAP50-95): 100%|██████████| 7/7 [00:01<00:00,  3.85it/s]\n",
      "                   all        205        713      0.824      0.865      0.897      0.828\n"
     ]
    },
    {
     "data": {
      "application/vnd.jupyter.widget-view+json": {
       "model_id": "75a790d75c474cd6b5c3336928b78093",
       "version_major": 2,
       "version_minor": 0
      },
      "text/plain": [
       "Generating Visualizations for batch-1/1:   0%|          | 0/32 [00:00<?, ?it/s]"
      ]
     },
     "metadata": {},
     "output_type": "display_data"
    },
    {
     "name": "stderr",
     "output_type": "stream",
     "text": [
      "\n",
      "25 epochs completed in 0.516 hours.\n",
      "Optimizer stripped from yolov8_food/train/weights/last.pt, 22.6MB\n",
      "Optimizer stripped from yolov8_food/train/weights/best.pt, 22.6MB\n",
      "\n",
      "Validating yolov8_food/train/weights/best.pt...\n",
      "Ultralytics YOLOv8.0.186 🚀 Python-3.10.13 torch-2.2.0 CUDA:0 (NVIDIA RTX A4000, 16106MiB)\n",
      "Model summary (fused): 168 layers, 11153835 parameters, 0 gradients\n",
      "                 Class     Images  Instances      Box(P          R      mAP50  mAP50-95): 100%|██████████| 7/7 [00:01<00:00,  3.57it/s]\n",
      "                   all        205        713       0.79      0.864      0.917      0.847\n",
      "                  pane        205         95       0.98          1      0.995      0.987\n",
      "             mandarini        205         38      0.859      0.974      0.975      0.867\n",
      "                carote        205         17      0.948          1      0.995      0.995\n",
      "           patate/pure        205         16      0.674      0.812      0.866      0.866\n",
      "             cotoletta        205          9      0.758          1       0.94      0.885\n",
      "             fagiolini        205         12      0.861          1      0.983      0.968\n",
      "                yogurt        205         18      0.974          1      0.995      0.917\n",
      "                budino        205         13      0.917          1      0.995      0.926\n",
      "               spinaci        205         14      0.783          1      0.995      0.995\n",
      "            scaloppine        205         17      0.869          1      0.979      0.973\n",
      "                 pizza        205          9      0.834          1      0.973       0.84\n",
      "pasta_sugo_vegetariano        205         13      0.511          1      0.868      0.859\n",
      "                  mele        205         33      0.861       0.97      0.977      0.881\n",
      "pasta_pesto_besciamella_e_cornetti        205         11      0.772      0.909       0.89       0.75\n",
      "        zucchine_umido        205         16      0.958          1      0.995      0.987\n",
      "lasagna_alla_bolognese        205          8      0.886      0.975      0.982      0.968\n",
      "               arancia        205         16      0.664          1      0.991        0.9\n",
      "      pasta_sugo_pesce        205         11      0.968          1      0.995      0.995\n",
      "       patatine_fritte        205         11      0.949      0.909       0.96      0.874\n",
      " pasta_cozze_e_vongole        205         11      0.741      0.909      0.937      0.895\n",
      "               arrosto        205          5      0.937          1      0.995      0.948\n",
      "           riso_bianco        205          8      0.867      0.821      0.836      0.822\n",
      "   medaglioni_di_carne        205          9      0.759          1      0.995      0.786\n",
      "torta_salata_spinaci_e_ricotta        205         31      0.938      0.968      0.983      0.899\n",
      "pasta_zafferano_e_piselli        205          8      0.923          1      0.995      0.982\n",
      "patate/pure_prosciutto        205          6      0.722          1      0.995      0.971\n",
      "torta_salata_rustica_(zucchine)        205          9      0.929          1      0.995      0.943\n",
      "        insalata_mista        205          9      0.913          1      0.995      0.984\n",
      "    pasta_mare_e_monti        205          6      0.659          1      0.995      0.965\n",
      "     polpette_di_carne        205         10      0.756      0.929      0.909        0.9\n",
      "pasta_pancetta_e_zucchine        205          8      0.418       0.75      0.589      0.589\n",
      "pasta_ricotta_e_salsiccia        205          7      0.895          1      0.995      0.965\n",
      "    orecchiette_(ragu)        205          3      0.637          1      0.995      0.995\n",
      "    finocchi_gratinati        205         26      0.964          1      0.995      0.986\n",
      "                  pere        205          9      0.783      0.778      0.885      0.862\n",
      "           pasta_tonno        205          6      0.642      0.604      0.651       0.62\n",
      "             riso_sugo        205          1      0.617          1      0.995      0.895\n",
      " pasta_tonno_e_piselli        205          3          1      0.978      0.995      0.865\n",
      "               piselli        205          5      0.822        0.8      0.962      0.699\n",
      "        torta_salata_3        205          5      0.938        0.8      0.962      0.924\n",
      "torta_salata_(alla_valdostana)        205          5          1       0.93      0.995      0.912\n",
      "                banane        205          1      0.195          1      0.995      0.995\n",
      "salmone_(da_menu_sembra_spada_in_realta)        205          3      0.846          1      0.995      0.995\n",
      "     pesce_2_(filetto)        205          2      0.421          1      0.828      0.563\n",
      "              bruscitt        205         29      0.904      0.966      0.986       0.75\n",
      " guazzetto_di_calamari        205          2          1      0.935      0.995      0.995\n",
      "       pasta_e_fagioli        205          2      0.525          1      0.995      0.846\n",
      "            pasta_sugo        205          2      0.185        0.5      0.595      0.541\n",
      "    arrosto_di_vitello        205          2      0.546        0.5      0.499      0.449\n",
      "      stinco_di_maiale        205          2      0.435        0.5      0.662      0.447\n",
      "     minestra_lombarda        205          2          1          0      0.586      0.367\n",
      "     finocchi_in_umido        205          3      0.436          1      0.995      0.963\n",
      "          pasta_bianco        205          1      0.875          1      0.995      0.895\n",
      "   merluzzo_alle_olive        205          3      0.631      0.667      0.775      0.432\n",
      "     zucchine_impanate        205         29      0.971          1      0.995      0.926\n",
      "         torta_crema_2        205          2          1          0      0.277      0.277\n",
      "             roastbeef        205          1      0.688          1      0.995      0.796\n",
      "           torta_crema        205          1          1          0      0.995      0.995\n",
      "          pasta_e_ceci        205          1      0.825          1      0.995      0.995\n",
      "       focaccia_bianca        205          1          1          0      0.995      0.995\n",
      "              minestra        205         20      0.842          1      0.995      0.954\n",
      "               strudel        205         22       0.95      0.855      0.891      0.786\n",
      "insalata_2_(uova_mais)        205         15      0.627      0.667      0.727      0.586\n",
      "Speed: 0.1ms preprocess, 1.7ms inference, 0.0ms loss, 3.1ms postprocess per image\n",
      "Results saved to \u001b[1myolov8_food/train\u001b[0m\n"
     ]
    }
   ],
   "source": [
    "# Train the model with 2 GPUs\n",
    "results = model.train(project=\"yolov8_food\", data='/datasets/unimib2016/unimib2016.yaml', epochs=25, imgsz=640)"
   ]
  },
  {
   "cell_type": "code",
   "execution_count": 12,
   "id": "105312eb-39d3-4cfc-8bd0-38d44e845df4",
   "metadata": {},
   "outputs": [
    {
     "name": "stderr",
     "output_type": "stream",
     "text": [
      "Ultralytics YOLOv8.0.186 🚀 Python-3.10.13 torch-2.2.0 CUDA:0 (NVIDIA RTX A4000, 16106MiB)\n",
      "Model summary (fused): 168 layers, 11153835 parameters, 0 gradients\n",
      "\u001b[34m\u001b[1mval: \u001b[0mScanning /datasets/unimib2016/labels/val.cache... 205 images, 0 backgrounds, 0 corrupt: 100%|██████████| 205/205 [00:00<?, ?it/s]\n",
      "                 Class     Images  Instances      Box(P          R      mAP50  mAP50-95): 100%|██████████| 13/13 [00:04<00:00,  2.73it/s]\n",
      "                   all        205        713      0.791      0.863      0.917      0.848\n",
      "                  pane        205         95       0.98          1      0.995      0.985\n",
      "             mandarini        205         38       0.86      0.974      0.975       0.86\n",
      "                carote        205         17      0.948          1      0.995      0.995\n",
      "           patate/pure        205         16      0.674      0.812      0.866      0.866\n",
      "             cotoletta        205          9       0.76          1      0.951      0.896\n",
      "             fagiolini        205         12      0.861          1      0.983      0.968\n",
      "                yogurt        205         18      0.974          1      0.995      0.917\n",
      "                budino        205         13      0.917          1      0.995      0.926\n",
      "               spinaci        205         14      0.785          1      0.995      0.995\n",
      "            scaloppine        205         17      0.869          1      0.979      0.973\n",
      "                 pizza        205          9      0.835          1      0.973       0.84\n",
      "pasta_sugo_vegetariano        205         13      0.511          1      0.868      0.859\n",
      "                  mele        205         33      0.861       0.97      0.977      0.881\n",
      "pasta_pesto_besciamella_e_cornetti        205         11      0.771      0.909       0.89      0.745\n",
      "        zucchine_umido        205         16      0.958          1      0.995      0.987\n",
      "lasagna_alla_bolognese        205          8      0.886      0.973      0.982      0.968\n",
      "               arancia        205         16      0.666          1      0.991      0.895\n",
      "      pasta_sugo_pesce        205         11      0.969          1      0.995      0.995\n",
      "       patatine_fritte        205         11       0.95      0.909       0.96      0.874\n",
      " pasta_cozze_e_vongole        205         11      0.741      0.909      0.937      0.895\n",
      "               arrosto        205          5      0.937          1      0.995      0.948\n",
      "           riso_bianco        205          8      0.867      0.821      0.836      0.836\n",
      "   medaglioni_di_carne        205          9      0.759          1      0.995      0.786\n",
      "torta_salata_spinaci_e_ricotta        205         31      0.938      0.968      0.982      0.902\n",
      "pasta_zafferano_e_piselli        205          8      0.923          1      0.995      0.982\n",
      "patate/pure_prosciutto        205          6      0.724          1      0.995      0.971\n",
      "torta_salata_rustica_(zucchine)        205          9      0.929          1      0.995      0.943\n",
      "        insalata_mista        205          9      0.914          1      0.995      0.984\n",
      "    pasta_mare_e_monti        205          6      0.661          1      0.995       0.94\n",
      "     polpette_di_carne        205         10      0.756       0.93      0.909        0.9\n",
      "pasta_pancetta_e_zucchine        205          8      0.419       0.75      0.589      0.589\n",
      "pasta_ricotta_e_salsiccia        205          7      0.895          1      0.995      0.965\n",
      "    orecchiette_(ragu)        205          3      0.637          1      0.995      0.995\n",
      "    finocchi_gratinati        205         26      0.964          1      0.995      0.985\n",
      "                  pere        205          9      0.782      0.778      0.885      0.843\n",
      "           pasta_tonno        205          6      0.641      0.602      0.651       0.62\n",
      "             riso_sugo        205          1      0.618          1      0.995      0.895\n",
      " pasta_tonno_e_piselli        205          3          1      0.975      0.995      0.865\n",
      "               piselli        205          5      0.823        0.8      0.962      0.699\n",
      "        torta_salata_3        205          5      0.936        0.8      0.962      0.924\n",
      "torta_salata_(alla_valdostana)        205          5          1      0.928      0.995      0.924\n",
      "                banane        205          1      0.196          1      0.995      0.995\n",
      "salmone_(da_menu_sembra_spada_in_realta)        205          3      0.847          1      0.995      0.995\n",
      "     pesce_2_(filetto)        205          2      0.424          1      0.828      0.563\n",
      "              bruscitt        205         29      0.905      0.966      0.986       0.75\n",
      " guazzetto_di_calamari        205          2          1      0.933      0.995      0.995\n",
      "       pasta_e_fagioli        205          2      0.525          1      0.995      0.846\n",
      "            pasta_sugo        205          2      0.188        0.5      0.595      0.595\n",
      "    arrosto_di_vitello        205          2      0.545        0.5      0.499      0.449\n",
      "      stinco_di_maiale        205          2      0.436        0.5      0.662      0.447\n",
      "     minestra_lombarda        205          2          1          0      0.586      0.367\n",
      "     finocchi_in_umido        205          3      0.437          1      0.995      0.963\n",
      "          pasta_bianco        205          1      0.875          1      0.995      0.895\n",
      "   merluzzo_alle_olive        205          3      0.631      0.667      0.775      0.432\n",
      "     zucchine_impanate        205         29      0.971          1      0.995      0.925\n",
      "         torta_crema_2        205          2          1          0      0.277      0.251\n",
      "             roastbeef        205          1       0.69          1      0.995      0.796\n",
      "           torta_crema        205          1          1          0      0.995      0.995\n",
      "          pasta_e_ceci        205          1      0.825          1      0.995      0.995\n",
      "       focaccia_bianca        205          1          1          0      0.995      0.995\n",
      "              minestra        205         20      0.843          1      0.995      0.957\n",
      "               strudel        205         22       0.95      0.855      0.891      0.793\n",
      "insalata_2_(uova_mais)        205         15      0.627      0.667      0.727      0.586\n",
      "Speed: 0.3ms preprocess, 8.7ms inference, 0.0ms loss, 1.3ms postprocess per image\n",
      "Results saved to \u001b[1mruns/detect/val\u001b[0m\n"
     ]
    }
   ],
   "source": [
    "# load best model\n",
    "model = YOLO('./best.pt')\n",
    "\n",
    "# Validate the model\n",
    "metrics = model.val()  # no arguments needed, dataset and settings remembered"
   ]
  },
  {
   "cell_type": "code",
   "execution_count": 15,
   "id": "94545cb5-254e-48cf-a0e9-136016d78cb7",
   "metadata": {},
   "outputs": [],
   "source": [
    "# Run inference on the source\n",
    "source = '/datasets/unimib2016/images/test'\n",
    "\n",
    "pred_results = model(source, stream=True)"
   ]
  },
  {
   "cell_type": "code",
   "execution_count": 16,
   "id": "766d7ba6-ebac-45e1-b36a-16b991b21cc0",
   "metadata": {},
   "outputs": [
    {
     "data": {
      "application/vnd.jupyter.widget-view+json": {
       "model_id": "",
       "version_major": 2,
       "version_minor": 0
      },
      "text/plain": [
       "VBox(children=(Label(value='3394.559 MB of 3394.559 MB uploaded\\r'), FloatProgress(value=1.0, max=1.0)))"
      ]
     },
     "metadata": {},
     "output_type": "display_data"
    },
    {
     "data": {
      "text/html": [
       "<style>\n",
       "    table.wandb td:nth-child(1) { padding: 0 10px; text-align: left ; width: auto;} td:nth-child(2) {text-align: left ; width: 100%}\n",
       "    .wandb-row { display: flex; flex-direction: row; flex-wrap: wrap; justify-content: flex-start; width: 100% }\n",
       "    .wandb-col { display: flex; flex-direction: column; flex-basis: 100%; flex: 1; padding: 10px; }\n",
       "    </style>\n",
       "<div class=\"wandb-row\"><div class=\"wandb-col\"><h3>Run history:</h3><br/><table class=\"wandb\"><tr><td>lr/pg0</td><td>▃▆███▇▇▇▆▆▆▅▅▅▄▄▄▃▃▃▂▂▂▁▁</td></tr><tr><td>lr/pg1</td><td>▃▆███▇▇▇▆▆▆▅▅▅▄▄▄▃▃▃▂▂▂▁▁</td></tr><tr><td>lr/pg2</td><td>▃▆███▇▇▇▆▆▆▅▅▅▄▄▄▃▃▃▂▂▂▁▁</td></tr><tr><td>metrics/mAP50(B)</td><td>▁▃▄▅▆▆▆▇▇▇█████▇█████████</td></tr><tr><td>metrics/mAP50-95(B)</td><td>▁▃▄▅▆▆▆▇▇▇▇██▇█▇█████████</td></tr><tr><td>metrics/precision(B)</td><td>▁▄▇▇▆▆▇▇▇▆▇▇▇██▆▇█▇▇▇███▇</td></tr><tr><td>metrics/recall(B)</td><td>▁▃▃▅▅▆▆▆▇▇██▇▇▇▇▇████████</td></tr><tr><td>model/GFLOPs</td><td>▁</td></tr><tr><td>model/parameters</td><td>▁</td></tr><tr><td>model/speed_PyTorch(ms)</td><td>▁</td></tr><tr><td>train/box_loss</td><td>█▆▅▄▄▄▄▃▃▃▃▃▃▃▃▂▁▁▁▁▁▁▁▁▁</td></tr><tr><td>train/cls_loss</td><td>█▅▃▃▂▂▂▂▂▂▂▁▁▁▁▁▁▁▁▁▁▁▁▁▁</td></tr><tr><td>train/dfl_loss</td><td>█▅▅▄▄▃▃▃▃▃▃▃▃▂▃▁▁▁▁▁▁▁▁▁▁</td></tr><tr><td>val/box_loss</td><td>█▅▄▄▄▃▂▂▂▃▂▂▂▂▂▂▂▁▂▂▁▁▁▁▁</td></tr><tr><td>val/cls_loss</td><td>█▄▃▂▂▂▂▂▂▁▁▁▁▁▁▁▁▁▁▁▁▁▁▁▁</td></tr><tr><td>val/dfl_loss</td><td>█▅▄▄▄▂▂▂▂▂▁▁▂▂▂▂▂▁▂▂▂▁▁▁▁</td></tr></table><br/></div><div class=\"wandb-col\"><h3>Run summary:</h3><br/><table class=\"wandb\"><tr><td>lr/pg0</td><td>1e-05</td></tr><tr><td>lr/pg1</td><td>1e-05</td></tr><tr><td>lr/pg2</td><td>1e-05</td></tr><tr><td>metrics/mAP50(B)</td><td>0.91685</td></tr><tr><td>metrics/mAP50-95(B)</td><td>0.84745</td></tr><tr><td>metrics/precision(B)</td><td>0.79029</td></tr><tr><td>metrics/recall(B)</td><td>0.86356</td></tr><tr><td>model/GFLOPs</td><td>0.0</td></tr><tr><td>model/parameters</td><td>11163851</td></tr><tr><td>model/speed_PyTorch(ms)</td><td>3.596</td></tr><tr><td>train/box_loss</td><td>0.28064</td></tr><tr><td>train/cls_loss</td><td>0.34585</td></tr><tr><td>train/dfl_loss</td><td>0.82206</td></tr><tr><td>val/box_loss</td><td>0.346</td></tr><tr><td>val/cls_loss</td><td>0.41362</td></tr><tr><td>val/dfl_loss</td><td>0.86593</td></tr></table><br/></div></div>"
      ],
      "text/plain": [
       "<IPython.core.display.HTML object>"
      ]
     },
     "metadata": {},
     "output_type": "display_data"
    },
    {
     "data": {
      "text/html": [
       " View run <strong style=\"color:#cdcd00\">avid-music-1</strong> at: <a href='https://wandb.ai/wangbinxp/yolov8_food/runs/5gg5b5mm' target=\"_blank\">https://wandb.ai/wangbinxp/yolov8_food/runs/5gg5b5mm</a><br/>Synced 6 W&B file(s), 21 media file(s), 233 artifact file(s) and 0 other file(s)"
      ],
      "text/plain": [
       "<IPython.core.display.HTML object>"
      ]
     },
     "metadata": {},
     "output_type": "display_data"
    },
    {
     "data": {
      "text/html": [
       "Find logs at: <code></code>"
      ],
      "text/plain": [
       "<IPython.core.display.HTML object>"
      ]
     },
     "metadata": {},
     "output_type": "display_data"
    }
   ],
   "source": [
    "wandb.finish()"
   ]
  },
  {
   "cell_type": "code",
   "execution_count": null,
   "id": "bf84151e-f0c9-497d-a0d8-4fd2b6567ee1",
   "metadata": {},
   "outputs": [],
   "source": []
  }
 ],
 "metadata": {
  "kernelspec": {
   "display_name": "Python 3 (ipykernel)",
   "language": "python",
   "name": "python3"
  },
  "language_info": {
   "codemirror_mode": {
    "name": "ipython",
    "version": 3
   },
   "file_extension": ".py",
   "mimetype": "text/x-python",
   "name": "python",
   "nbconvert_exporter": "python",
   "pygments_lexer": "ipython3",
   "version": "3.10.13"
  }
 },
 "nbformat": 4,
 "nbformat_minor": 5
}

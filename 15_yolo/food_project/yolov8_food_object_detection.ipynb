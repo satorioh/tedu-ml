{
  "nbformat": 4,
  "nbformat_minor": 0,
  "metadata": {
    "colab": {
      "provenance": [],
      "gpuType": "T4"
    },
    "kernelspec": {
      "name": "python3",
      "display_name": "Python 3"
    },
    "language_info": {
      "name": "python"
    },
    "accelerator": "GPU"
  },
  "cells": [
    {
      "cell_type": "code",
      "execution_count": 4,
      "metadata": {
        "id": "JtTfH4MLzyaG",
        "colab": {
          "base_uri": "https://localhost:8080/"
        },
        "outputId": "ae219fae-fc8b-4376-cccd-4d0d68950c1c"
      },
      "outputs": [
        {
          "output_type": "stream",
          "name": "stdout",
          "text": [
            "Ultralytics YOLOv8.1.30 🚀 Python-3.10.12 torch-2.2.1+cu121 CUDA:0 (Tesla T4, 15102MiB)\n",
            "Setup complete ✅ (2 CPUs, 12.7 GB RAM, 30.5/78.2 GB disk)\n"
          ]
        }
      ],
      "source": [
        "%pip install ultralytics\n",
        "import ultralytics\n",
        "ultralytics.checks()"
      ]
    },
    {
      "cell_type": "code",
      "source": [
        "from ultralytics import settings, YOLO\n",
        "\n",
        "print(settings)"
      ],
      "metadata": {
        "id": "f3wcoGbJxVj_",
        "colab": {
          "base_uri": "https://localhost:8080/"
        },
        "outputId": "4a93f463-bae4-440c-fbdf-57331a51bee3"
      },
      "execution_count": 5,
      "outputs": [
        {
          "output_type": "stream",
          "name": "stdout",
          "text": [
            "{'settings_version': '0.0.4', 'datasets_dir': '/content/datasets', 'weights_dir': 'weights', 'runs_dir': 'runs', 'uuid': '569f3ba64b326db489132663f79cd37279811de477381b83ac131e6cdd129cbb', 'sync': True, 'api_key': '', 'openai_api_key': '', 'clearml': True, 'comet': True, 'dvc': True, 'hub': True, 'mlflow': True, 'neptune': True, 'raytune': True, 'tensorboard': True, 'wandb': True}\n"
          ]
        }
      ]
    },
    {
      "cell_type": "code",
      "source": [
        "!mkdir datasets\n",
        "!cp -R /content/drive/MyDrive/DL/data_test/unimib2016 ./datasets"
      ],
      "metadata": {
        "id": "-4xlRj4KzDcd"
      },
      "execution_count": 1,
      "outputs": []
    },
    {
      "cell_type": "code",
      "source": [
        "# Load a model\n",
        "model = YOLO('yolov8m.pt')  # load a pretrained model (recommended for training)\n",
        "\n",
        "# Train the model with 2 GPUs\n",
        "results = model.train(data='/content/datasets/unimib2016.yaml', epochs=25, imgsz=640)"
      ],
      "metadata": {
        "colab": {
          "base_uri": "https://localhost:8080/"
        },
        "id": "sI6Z4Aljzb9K",
        "outputId": "a428ac3e-f18a-485e-8dde-22b03c027921"
      },
      "execution_count": 5,
      "outputs": [
        {
          "metadata": {
            "tags": null
          },
          "name": "stdout",
          "output_type": "stream",
          "text": [
            "Ultralytics YOLOv8.1.30 🚀 Python-3.10.12 torch-2.2.1+cu121 CUDA:0 (Tesla T4, 15102MiB)\n",
            "\u001b[34m\u001b[1mengine/trainer: \u001b[0mtask=detect, mode=train, model=yolov8m.pt, data=/content/datasets/unimib2016.yaml, epochs=25, time=None, patience=100, batch=16, imgsz=640, save=True, save_period=-1, cache=False, device=None, workers=8, project=None, name=train2, exist_ok=False, pretrained=True, optimizer=auto, verbose=True, seed=0, deterministic=True, single_cls=False, rect=False, cos_lr=False, close_mosaic=10, resume=False, amp=True, fraction=1.0, profile=False, freeze=None, multi_scale=False, overlap_mask=True, mask_ratio=4, dropout=0.0, val=True, split=val, save_json=False, save_hybrid=False, conf=None, iou=0.7, max_det=300, half=False, dnn=False, plots=True, source=None, vid_stride=1, stream_buffer=False, visualize=False, augment=False, agnostic_nms=False, classes=None, retina_masks=False, embed=None, show=False, save_frames=False, save_txt=False, save_conf=False, save_crop=False, show_labels=True, show_conf=True, show_boxes=True, line_width=None, format=torchscript, keras=False, optimize=False, int8=False, dynamic=False, simplify=False, opset=None, workspace=4, nms=False, lr0=0.01, lrf=0.01, momentum=0.937, weight_decay=0.0005, warmup_epochs=3.0, warmup_momentum=0.8, warmup_bias_lr=0.1, box=7.5, cls=0.5, dfl=1.5, pose=12.0, kobj=1.0, label_smoothing=0.0, nbs=64, hsv_h=0.015, hsv_s=0.7, hsv_v=0.4, degrees=0.0, translate=0.1, scale=0.5, shear=0.0, perspective=0.0, flipud=0.0, fliplr=0.5, mosaic=1.0, mixup=0.0, copy_paste=0.0, auto_augment=randaugment, erasing=0.4, crop_fraction=1.0, cfg=None, tracker=botsort.yaml, save_dir=runs/detect/train2\n",
            "Downloading https://ultralytics.com/assets/Arial.ttf to '/root/.config/Ultralytics/Arial.ttf'...\n"
          ]
        },
        {
          "metadata": {
            "tags": null
          },
          "name": "stderr",
          "output_type": "stream",
          "text": [
            "100%|██████████| 755k/755k [00:00<00:00, 17.9MB/s]\n"
          ]
        },
        {
          "metadata": {
            "tags": null
          },
          "name": "stdout",
          "output_type": "stream",
          "text": [
            "Overriding model.yaml nc=80 with nc=73\n",
            "\n",
            "                   from  n    params  module                                       arguments                     \n",
            "  0                  -1  1      1392  ultralytics.nn.modules.conv.Conv             [3, 48, 3, 2]                 \n",
            "  1                  -1  1     41664  ultralytics.nn.modules.conv.Conv             [48, 96, 3, 2]                \n",
            "  2                  -1  2    111360  ultralytics.nn.modules.block.C2f             [96, 96, 2, True]             \n",
            "  3                  -1  1    166272  ultralytics.nn.modules.conv.Conv             [96, 192, 3, 2]               \n",
            "  4                  -1  4    813312  ultralytics.nn.modules.block.C2f             [192, 192, 4, True]           \n",
            "  5                  -1  1    664320  ultralytics.nn.modules.conv.Conv             [192, 384, 3, 2]              \n",
            "  6                  -1  4   3248640  ultralytics.nn.modules.block.C2f             [384, 384, 4, True]           \n",
            "  7                  -1  1   1991808  ultralytics.nn.modules.conv.Conv             [384, 576, 3, 2]              \n",
            "  8                  -1  2   3985920  ultralytics.nn.modules.block.C2f             [576, 576, 2, True]           \n",
            "  9                  -1  1    831168  ultralytics.nn.modules.block.SPPF            [576, 576, 5]                 \n",
            " 10                  -1  1         0  torch.nn.modules.upsampling.Upsample         [None, 2, 'nearest']          \n",
            " 11             [-1, 6]  1         0  ultralytics.nn.modules.conv.Concat           [1]                           \n",
            " 12                  -1  2   1993728  ultralytics.nn.modules.block.C2f             [960, 384, 2]                 \n",
            " 13                  -1  1         0  torch.nn.modules.upsampling.Upsample         [None, 2, 'nearest']          \n",
            " 14             [-1, 4]  1         0  ultralytics.nn.modules.conv.Concat           [1]                           \n",
            " 15                  -1  2    517632  ultralytics.nn.modules.block.C2f             [576, 192, 2]                 \n",
            " 16                  -1  1    332160  ultralytics.nn.modules.conv.Conv             [192, 192, 3, 2]              \n",
            " 17            [-1, 12]  1         0  ultralytics.nn.modules.conv.Concat           [1]                           \n",
            " 18                  -1  2   1846272  ultralytics.nn.modules.block.C2f             [576, 384, 2]                 \n",
            " 19                  -1  1   1327872  ultralytics.nn.modules.conv.Conv             [384, 384, 3, 2]              \n",
            " 20             [-1, 9]  1         0  ultralytics.nn.modules.conv.Concat           [1]                           \n",
            " 21                  -1  2   4207104  ultralytics.nn.modules.block.C2f             [960, 576, 2]                 \n",
            " 22        [15, 18, 21]  1   3817963  ultralytics.nn.modules.head.Detect           [73, [192, 384, 576]]         \n",
            "Model summary: 295 layers, 25898587 parameters, 25898571 gradients, 79.3 GFLOPs\n",
            "\n",
            "Transferred 469/475 items from pretrained weights\n",
            "\u001b[34m\u001b[1mTensorBoard: \u001b[0mStart with 'tensorboard --logdir runs/detect/train2', view at http://localhost:6006/\n",
            "Freezing layer 'model.22.dfl.conv.weight'\n",
            "\u001b[34m\u001b[1mAMP: \u001b[0mrunning Automatic Mixed Precision (AMP) checks with YOLOv8n...\n",
            "Downloading https://github.com/ultralytics/assets/releases/download/v8.1.0/yolov8n.pt to 'yolov8n.pt'...\n"
          ]
        },
        {
          "metadata": {
            "tags": null
          },
          "name": "stderr",
          "output_type": "stream",
          "text": [
            "100%|██████████| 6.23M/6.23M [00:00<00:00, 72.0MB/s]\n"
          ]
        },
        {
          "metadata": {
            "tags": null
          },
          "name": "stdout",
          "output_type": "stream",
          "text": [
            "\u001b[34m\u001b[1mAMP: \u001b[0mchecks passed ✅\n"
          ]
        },
        {
          "metadata": {
            "tags": null
          },
          "name": "stderr",
          "output_type": "stream",
          "text": [
            "\u001b[34m\u001b[1mtrain: \u001b[0mScanning /content/datasets/unimib2016/labels/train... 718 images, 10 backgrounds, 0 corrupt: 100%|██████████| 728/728 [00:00<00:00, 1712.59it/s]"
          ]
        },
        {
          "metadata": {
            "tags": null
          },
          "name": "stdout",
          "output_type": "stream",
          "text": [
            "\u001b[34m\u001b[1mtrain: \u001b[0mNew cache created: /content/datasets/unimib2016/labels/train.cache\n"
          ]
        },
        {
          "metadata": {
            "tags": null
          },
          "name": "stderr",
          "output_type": "stream",
          "text": [
            "\n"
          ]
        },
        {
          "metadata": {
            "tags": null
          },
          "name": "stdout",
          "output_type": "stream",
          "text": [
            "\u001b[34m\u001b[1malbumentations: \u001b[0mBlur(p=0.01, blur_limit=(3, 7)), MedianBlur(p=0.01, blur_limit=(3, 7)), ToGray(p=0.01), CLAHE(p=0.01, clip_limit=(1, 4.0), tile_grid_size=(8, 8))\n"
          ]
        },
        {
          "metadata": {
            "tags": null
          },
          "name": "stderr",
          "output_type": "stream",
          "text": [
            "\u001b[34m\u001b[1mval: \u001b[0mScanning /content/datasets/unimib2016/labels/val... 206 images, 0 backgrounds, 0 corrupt: 100%|██████████| 206/206 [00:00<00:00, 739.20it/s]"
          ]
        },
        {
          "metadata": {
            "tags": null
          },
          "name": "stdout",
          "output_type": "stream",
          "text": [
            "\u001b[34m\u001b[1mval: \u001b[0mNew cache created: /content/datasets/unimib2016/labels/val.cache\n"
          ]
        },
        {
          "metadata": {
            "tags": null
          },
          "name": "stderr",
          "output_type": "stream",
          "text": [
            "\n"
          ]
        },
        {
          "metadata": {
            "tags": null
          },
          "name": "stdout",
          "output_type": "stream",
          "text": [
            "Plotting labels to runs/detect/train2/labels.jpg... \n",
            "\u001b[34m\u001b[1moptimizer:\u001b[0m 'optimizer=auto' found, ignoring 'lr0=0.01' and 'momentum=0.937' and determining best 'optimizer', 'lr0' and 'momentum' automatically... \n",
            "\u001b[34m\u001b[1moptimizer:\u001b[0m AdamW(lr=0.00013, momentum=0.9) with parameter groups 77 weight(decay=0.0), 84 weight(decay=0.0005), 83 bias(decay=0.0)\n",
            "\u001b[34m\u001b[1mTensorBoard: \u001b[0mmodel graph visualization added ✅\n",
            "Image sizes 640 train, 640 val\n",
            "Using 2 dataloader workers\n",
            "Logging results to \u001b[1mruns/detect/train2\u001b[0m\n",
            "Starting training for 25 epochs...\n",
            "\n",
            "      Epoch    GPU_mem   box_loss   cls_loss   dfl_loss  Instances       Size\n"
          ]
        },
        {
          "metadata": {
            "tags": null
          },
          "name": "stderr",
          "output_type": "stream",
          "text": [
            "       1/25      7.47G     0.6697      3.969      1.127         50        640: 100%|██████████| 46/46 [01:35<00:00,  2.09s/it]\n",
            "                 Class     Images  Instances      Box(P          R      mAP50  mAP50-95): 100%|██████████| 7/7 [00:15<00:00,  2.17s/it]\n"
          ]
        },
        {
          "metadata": {
            "tags": null
          },
          "name": "stdout",
          "output_type": "stream",
          "text": [
            "                   all        206        711      0.574      0.204      0.218      0.198\n",
            "\n",
            "      Epoch    GPU_mem   box_loss   cls_loss   dfl_loss  Instances       Size\n"
          ]
        },
        {
          "metadata": {
            "tags": null
          },
          "name": "stderr",
          "output_type": "stream",
          "text": [
            "       2/25      7.74G     0.5373      1.859      1.016         56        640: 100%|██████████| 46/46 [01:28<00:00,  1.93s/it]\n",
            "                 Class     Images  Instances      Box(P          R      mAP50  mAP50-95): 100%|██████████| 7/7 [00:14<00:00,  2.01s/it]"
          ]
        },
        {
          "metadata": {
            "tags": null
          },
          "name": "stdout",
          "output_type": "stream",
          "text": [
            "                   all        206        711      0.612      0.503      0.487      0.453\n"
          ]
        },
        {
          "metadata": {
            "tags": null
          },
          "name": "stderr",
          "output_type": "stream",
          "text": [
            "\n"
          ]
        },
        {
          "metadata": {
            "tags": null
          },
          "name": "stdout",
          "output_type": "stream",
          "text": [
            "\n",
            "      Epoch    GPU_mem   box_loss   cls_loss   dfl_loss  Instances       Size\n"
          ]
        },
        {
          "metadata": {
            "tags": null
          },
          "name": "stderr",
          "output_type": "stream",
          "text": [
            "       3/25      7.76G     0.4958       1.31     0.9852         55        640: 100%|██████████| 46/46 [01:29<00:00,  1.95s/it]\n",
            "                 Class     Images  Instances      Box(P          R      mAP50  mAP50-95): 100%|██████████| 7/7 [00:13<00:00,  1.99s/it]\n"
          ]
        },
        {
          "metadata": {
            "tags": null
          },
          "name": "stdout",
          "output_type": "stream",
          "text": [
            "                   all        206        711      0.643      0.594      0.629      0.585\n",
            "\n",
            "      Epoch    GPU_mem   box_loss   cls_loss   dfl_loss  Instances       Size\n"
          ]
        },
        {
          "metadata": {
            "tags": null
          },
          "name": "stderr",
          "output_type": "stream",
          "text": [
            "       4/25      7.73G     0.4778      1.067      0.961         39        640: 100%|██████████| 46/46 [01:26<00:00,  1.89s/it]\n",
            "                 Class     Images  Instances      Box(P          R      mAP50  mAP50-95): 100%|██████████| 7/7 [00:13<00:00,  1.98s/it]\n"
          ]
        },
        {
          "metadata": {
            "tags": null
          },
          "name": "stdout",
          "output_type": "stream",
          "text": [
            "                   all        206        711      0.809       0.58      0.674      0.634\n",
            "\n",
            "      Epoch    GPU_mem   box_loss   cls_loss   dfl_loss  Instances       Size\n"
          ]
        },
        {
          "metadata": {
            "tags": null
          },
          "name": "stderr",
          "output_type": "stream",
          "text": [
            "       5/25      7.74G     0.4544      0.951     0.9376         42        640: 100%|██████████| 46/46 [01:25<00:00,  1.86s/it]\n",
            "                 Class     Images  Instances      Box(P          R      mAP50  mAP50-95): 100%|██████████| 7/7 [00:14<00:00,  2.03s/it]"
          ]
        },
        {
          "metadata": {
            "tags": null
          },
          "name": "stdout",
          "output_type": "stream",
          "text": [
            "                   all        206        711      0.769       0.64      0.711      0.665\n"
          ]
        },
        {
          "metadata": {
            "tags": null
          },
          "name": "stderr",
          "output_type": "stream",
          "text": [
            "\n"
          ]
        },
        {
          "metadata": {
            "tags": null
          },
          "name": "stdout",
          "output_type": "stream",
          "text": [
            "\n",
            "      Epoch    GPU_mem   box_loss   cls_loss   dfl_loss  Instances       Size\n"
          ]
        },
        {
          "metadata": {
            "tags": null
          },
          "name": "stderr",
          "output_type": "stream",
          "text": [
            "       6/25      7.72G     0.4454     0.7956     0.9373         49        640: 100%|██████████| 46/46 [01:22<00:00,  1.80s/it]\n",
            "                 Class     Images  Instances      Box(P          R      mAP50  mAP50-95): 100%|██████████| 7/7 [00:13<00:00,  1.93s/it]"
          ]
        },
        {
          "metadata": {
            "tags": null
          },
          "name": "stdout",
          "output_type": "stream",
          "text": [
            "                   all        206        711      0.656       0.75      0.758      0.709\n"
          ]
        },
        {
          "metadata": {
            "tags": null
          },
          "name": "stderr",
          "output_type": "stream",
          "text": [
            "\n"
          ]
        },
        {
          "metadata": {
            "tags": null
          },
          "name": "stdout",
          "output_type": "stream",
          "text": [
            "\n",
            "      Epoch    GPU_mem   box_loss   cls_loss   dfl_loss  Instances       Size\n"
          ]
        },
        {
          "metadata": {
            "tags": null
          },
          "name": "stderr",
          "output_type": "stream",
          "text": [
            "       7/25      7.74G     0.4522     0.7551     0.9448         49        640: 100%|██████████| 46/46 [01:20<00:00,  1.74s/it]\n",
            "                 Class     Images  Instances      Box(P          R      mAP50  mAP50-95): 100%|██████████| 7/7 [00:13<00:00,  1.89s/it]"
          ]
        },
        {
          "metadata": {
            "tags": null
          },
          "name": "stdout",
          "output_type": "stream",
          "text": [
            "                   all        206        711      0.824      0.709      0.817      0.775\n"
          ]
        },
        {
          "metadata": {
            "tags": null
          },
          "name": "stderr",
          "output_type": "stream",
          "text": [
            "\n"
          ]
        },
        {
          "metadata": {
            "tags": null
          },
          "name": "stdout",
          "output_type": "stream",
          "text": [
            "\n",
            "      Epoch    GPU_mem   box_loss   cls_loss   dfl_loss  Instances       Size\n"
          ]
        },
        {
          "metadata": {
            "tags": null
          },
          "name": "stderr",
          "output_type": "stream",
          "text": [
            "       8/25      7.71G     0.4294     0.6734     0.9216         57        640: 100%|██████████| 46/46 [01:23<00:00,  1.81s/it]\n",
            "                 Class     Images  Instances      Box(P          R      mAP50  mAP50-95): 100%|██████████| 7/7 [00:13<00:00,  1.94s/it]\n"
          ]
        },
        {
          "metadata": {
            "tags": null
          },
          "name": "stdout",
          "output_type": "stream",
          "text": [
            "                   all        206        711      0.721      0.796      0.826      0.785\n",
            "\n",
            "      Epoch    GPU_mem   box_loss   cls_loss   dfl_loss  Instances       Size\n"
          ]
        },
        {
          "metadata": {
            "tags": null
          },
          "name": "stderr",
          "output_type": "stream",
          "text": [
            "       9/25      7.74G     0.4237     0.6298     0.9243         59        640: 100%|██████████| 46/46 [01:20<00:00,  1.74s/it]\n",
            "                 Class     Images  Instances      Box(P          R      mAP50  mAP50-95): 100%|██████████| 7/7 [00:13<00:00,  1.99s/it]"
          ]
        },
        {
          "metadata": {
            "tags": null
          },
          "name": "stdout",
          "output_type": "stream",
          "text": [
            "                   all        206        711      0.706      0.807      0.838      0.797\n"
          ]
        },
        {
          "metadata": {
            "tags": null
          },
          "name": "stderr",
          "output_type": "stream",
          "text": [
            "\n"
          ]
        },
        {
          "metadata": {
            "tags": null
          },
          "name": "stdout",
          "output_type": "stream",
          "text": [
            "\n",
            "      Epoch    GPU_mem   box_loss   cls_loss   dfl_loss  Instances       Size\n"
          ]
        },
        {
          "metadata": {
            "tags": null
          },
          "name": "stderr",
          "output_type": "stream",
          "text": [
            "      10/25      7.69G     0.4125     0.5784     0.9257         41        640: 100%|██████████| 46/46 [01:24<00:00,  1.84s/it]\n",
            "                 Class     Images  Instances      Box(P          R      mAP50  mAP50-95): 100%|██████████| 7/7 [00:13<00:00,  1.97s/it]"
          ]
        },
        {
          "metadata": {
            "tags": null
          },
          "name": "stdout",
          "output_type": "stream",
          "text": [
            "                   all        206        711      0.738      0.806      0.838      0.801\n"
          ]
        },
        {
          "metadata": {
            "tags": null
          },
          "name": "stderr",
          "output_type": "stream",
          "text": [
            "\n"
          ]
        },
        {
          "metadata": {
            "tags": null
          },
          "name": "stdout",
          "output_type": "stream",
          "text": [
            "\n",
            "      Epoch    GPU_mem   box_loss   cls_loss   dfl_loss  Instances       Size\n"
          ]
        },
        {
          "metadata": {
            "tags": null
          },
          "name": "stderr",
          "output_type": "stream",
          "text": [
            "      11/25      7.75G     0.3957     0.5598     0.9087         40        640: 100%|██████████| 46/46 [01:17<00:00,  1.68s/it]\n",
            "                 Class     Images  Instances      Box(P          R      mAP50  mAP50-95): 100%|██████████| 7/7 [00:13<00:00,  1.88s/it]"
          ]
        },
        {
          "metadata": {
            "tags": null
          },
          "name": "stdout",
          "output_type": "stream",
          "text": [
            "                   all        206        711      0.757      0.835      0.876      0.833\n"
          ]
        },
        {
          "metadata": {
            "tags": null
          },
          "name": "stderr",
          "output_type": "stream",
          "text": [
            "\n"
          ]
        },
        {
          "metadata": {
            "tags": null
          },
          "name": "stdout",
          "output_type": "stream",
          "text": [
            "\n",
            "      Epoch    GPU_mem   box_loss   cls_loss   dfl_loss  Instances       Size\n"
          ]
        },
        {
          "metadata": {
            "tags": null
          },
          "name": "stderr",
          "output_type": "stream",
          "text": [
            "      12/25      7.71G     0.3955     0.5171     0.9065         52        640: 100%|██████████| 46/46 [01:19<00:00,  1.73s/it]\n",
            "                 Class     Images  Instances      Box(P          R      mAP50  mAP50-95): 100%|██████████| 7/7 [00:13<00:00,  1.90s/it]"
          ]
        },
        {
          "metadata": {
            "tags": null
          },
          "name": "stdout",
          "output_type": "stream",
          "text": [
            "                   all        206        711      0.779      0.818      0.881      0.839\n"
          ]
        },
        {
          "metadata": {
            "tags": null
          },
          "name": "stderr",
          "output_type": "stream",
          "text": [
            "\n"
          ]
        },
        {
          "metadata": {
            "tags": null
          },
          "name": "stdout",
          "output_type": "stream",
          "text": [
            "\n",
            "      Epoch    GPU_mem   box_loss   cls_loss   dfl_loss  Instances       Size\n"
          ]
        },
        {
          "metadata": {
            "tags": null
          },
          "name": "stderr",
          "output_type": "stream",
          "text": [
            "      13/25      7.74G     0.3955     0.4972     0.9053         41        640: 100%|██████████| 46/46 [01:18<00:00,  1.71s/it]\n",
            "                 Class     Images  Instances      Box(P          R      mAP50  mAP50-95): 100%|██████████| 7/7 [00:13<00:00,  1.93s/it]"
          ]
        },
        {
          "metadata": {
            "tags": null
          },
          "name": "stdout",
          "output_type": "stream",
          "text": [
            "                   all        206        711      0.892      0.769      0.867      0.828\n"
          ]
        },
        {
          "metadata": {
            "tags": null
          },
          "name": "stderr",
          "output_type": "stream",
          "text": [
            "\n"
          ]
        },
        {
          "metadata": {
            "tags": null
          },
          "name": "stdout",
          "output_type": "stream",
          "text": [
            "\n",
            "      Epoch    GPU_mem   box_loss   cls_loss   dfl_loss  Instances       Size\n"
          ]
        },
        {
          "metadata": {
            "tags": null
          },
          "name": "stderr",
          "output_type": "stream",
          "text": [
            "      14/25      7.71G      0.377     0.4581     0.8962         52        640: 100%|██████████| 46/46 [01:30<00:00,  1.97s/it]\n",
            "                 Class     Images  Instances      Box(P          R      mAP50  mAP50-95): 100%|██████████| 7/7 [00:13<00:00,  1.94s/it]"
          ]
        },
        {
          "metadata": {
            "tags": null
          },
          "name": "stdout",
          "output_type": "stream",
          "text": [
            "                   all        206        711      0.781      0.871      0.901      0.858\n"
          ]
        },
        {
          "metadata": {
            "tags": null
          },
          "name": "stderr",
          "output_type": "stream",
          "text": [
            "\n"
          ]
        },
        {
          "metadata": {
            "tags": null
          },
          "name": "stdout",
          "output_type": "stream",
          "text": [
            "\n",
            "      Epoch    GPU_mem   box_loss   cls_loss   dfl_loss  Instances       Size\n"
          ]
        },
        {
          "metadata": {
            "tags": null
          },
          "name": "stderr",
          "output_type": "stream",
          "text": [
            "      15/25      7.71G     0.3786      0.458     0.8929         63        640: 100%|██████████| 46/46 [01:20<00:00,  1.75s/it]\n",
            "                 Class     Images  Instances      Box(P          R      mAP50  mAP50-95): 100%|██████████| 7/7 [00:15<00:00,  2.22s/it]"
          ]
        },
        {
          "metadata": {
            "tags": null
          },
          "name": "stdout",
          "output_type": "stream",
          "text": [
            "                   all        206        711      0.879      0.824      0.904      0.851\n"
          ]
        },
        {
          "metadata": {
            "tags": null
          },
          "name": "stderr",
          "output_type": "stream",
          "text": [
            "\n"
          ]
        },
        {
          "metadata": {
            "tags": null
          },
          "name": "stdout",
          "output_type": "stream",
          "text": [
            "Closing dataloader mosaic\n",
            "\u001b[34m\u001b[1malbumentations: \u001b[0mBlur(p=0.01, blur_limit=(3, 7)), MedianBlur(p=0.01, blur_limit=(3, 7)), ToGray(p=0.01), CLAHE(p=0.01, clip_limit=(1, 4.0), tile_grid_size=(8, 8))\n",
            "\n",
            "      Epoch    GPU_mem   box_loss   cls_loss   dfl_loss  Instances       Size\n"
          ]
        },
        {
          "metadata": {
            "tags": null
          },
          "name": "stderr",
          "output_type": "stream",
          "text": [
            "      16/25      7.67G      0.276     0.3876     0.8254         29        640: 100%|██████████| 46/46 [01:44<00:00,  2.27s/it]\n",
            "                 Class     Images  Instances      Box(P          R      mAP50  mAP50-95): 100%|██████████| 7/7 [00:15<00:00,  2.21s/it]"
          ]
        },
        {
          "metadata": {
            "tags": null
          },
          "name": "stdout",
          "output_type": "stream",
          "text": [
            "                   all        206        711      0.878      0.836      0.911      0.859\n"
          ]
        },
        {
          "metadata": {
            "tags": null
          },
          "name": "stderr",
          "output_type": "stream",
          "text": [
            "\n"
          ]
        },
        {
          "metadata": {
            "tags": null
          },
          "name": "stdout",
          "output_type": "stream",
          "text": [
            "\n",
            "      Epoch    GPU_mem   box_loss   cls_loss   dfl_loss  Instances       Size\n"
          ]
        },
        {
          "metadata": {
            "tags": null
          },
          "name": "stderr",
          "output_type": "stream",
          "text": [
            "      17/25      7.68G     0.2706     0.3533     0.8146         31        640: 100%|██████████| 46/46 [01:24<00:00,  1.83s/it]\n",
            "                 Class     Images  Instances      Box(P          R      mAP50  mAP50-95): 100%|██████████| 7/7 [00:14<00:00,  2.09s/it]"
          ]
        },
        {
          "metadata": {
            "tags": null
          },
          "name": "stdout",
          "output_type": "stream",
          "text": [
            "                   all        206        711      0.844      0.832      0.904      0.861\n"
          ]
        },
        {
          "metadata": {
            "tags": null
          },
          "name": "stderr",
          "output_type": "stream",
          "text": [
            "\n"
          ]
        },
        {
          "metadata": {
            "tags": null
          },
          "name": "stdout",
          "output_type": "stream",
          "text": [
            "\n",
            "      Epoch    GPU_mem   box_loss   cls_loss   dfl_loss  Instances       Size\n"
          ]
        },
        {
          "metadata": {
            "tags": null
          },
          "name": "stderr",
          "output_type": "stream",
          "text": [
            "      18/25      7.67G     0.2702     0.3455     0.8218         31        640: 100%|██████████| 46/46 [01:18<00:00,  1.72s/it]\n",
            "                 Class     Images  Instances      Box(P          R      mAP50  mAP50-95): 100%|██████████| 7/7 [00:15<00:00,  2.23s/it]"
          ]
        },
        {
          "metadata": {
            "tags": null
          },
          "name": "stdout",
          "output_type": "stream",
          "text": [
            "                   all        206        711      0.801      0.893      0.922      0.873\n"
          ]
        },
        {
          "metadata": {
            "tags": null
          },
          "name": "stderr",
          "output_type": "stream",
          "text": [
            "\n"
          ]
        },
        {
          "metadata": {
            "tags": null
          },
          "name": "stdout",
          "output_type": "stream",
          "text": [
            "\n",
            "      Epoch    GPU_mem   box_loss   cls_loss   dfl_loss  Instances       Size\n"
          ]
        },
        {
          "metadata": {
            "tags": null
          },
          "name": "stderr",
          "output_type": "stream",
          "text": [
            "      19/25       7.7G     0.2608     0.3202     0.8171         23        640: 100%|██████████| 46/46 [01:24<00:00,  1.83s/it]\n",
            "                 Class     Images  Instances      Box(P          R      mAP50  mAP50-95): 100%|██████████| 7/7 [00:15<00:00,  2.18s/it]"
          ]
        },
        {
          "metadata": {
            "tags": null
          },
          "name": "stdout",
          "output_type": "stream",
          "text": [
            "                   all        206        711      0.899      0.825      0.924      0.878\n"
          ]
        },
        {
          "metadata": {
            "tags": null
          },
          "name": "stderr",
          "output_type": "stream",
          "text": [
            "\n"
          ]
        },
        {
          "metadata": {
            "tags": null
          },
          "name": "stdout",
          "output_type": "stream",
          "text": [
            "\n",
            "      Epoch    GPU_mem   box_loss   cls_loss   dfl_loss  Instances       Size\n"
          ]
        },
        {
          "metadata": {
            "tags": null
          },
          "name": "stderr",
          "output_type": "stream",
          "text": [
            "      20/25      7.67G     0.2571     0.3041     0.8163         33        640: 100%|██████████| 46/46 [01:22<00:00,  1.80s/it]\n",
            "                 Class     Images  Instances      Box(P          R      mAP50  mAP50-95): 100%|██████████| 7/7 [00:14<00:00,  2.11s/it]"
          ]
        },
        {
          "metadata": {
            "tags": null
          },
          "name": "stdout",
          "output_type": "stream",
          "text": [
            "                   all        206        711      0.822      0.888      0.908      0.862\n"
          ]
        },
        {
          "metadata": {
            "tags": null
          },
          "name": "stderr",
          "output_type": "stream",
          "text": [
            "\n"
          ]
        },
        {
          "metadata": {
            "tags": null
          },
          "name": "stdout",
          "output_type": "stream",
          "text": [
            "\n",
            "      Epoch    GPU_mem   box_loss   cls_loss   dfl_loss  Instances       Size\n"
          ]
        },
        {
          "output_type": "stream",
          "name": "stderr",
          "text": [
            "      21/25      7.71G     0.2505     0.2948     0.8125         34        640: 100%|██████████| 46/46 [01:34<00:00,  2.06s/it]\n",
            "                 Class     Images  Instances      Box(P          R      mAP50  mAP50-95): 100%|██████████| 7/7 [00:13<00:00,  1.87s/it]"
          ]
        },
        {
          "output_type": "stream",
          "name": "stdout",
          "text": [
            "                   all        206        711      0.862      0.842      0.902      0.858\n"
          ]
        },
        {
          "output_type": "stream",
          "name": "stderr",
          "text": [
            "\n"
          ]
        },
        {
          "output_type": "stream",
          "name": "stdout",
          "text": [
            "\n",
            "      Epoch    GPU_mem   box_loss   cls_loss   dfl_loss  Instances       Size\n"
          ]
        },
        {
          "output_type": "stream",
          "name": "stderr",
          "text": [
            "      22/25      7.69G     0.2512     0.2842     0.8141         21        640: 100%|██████████| 46/46 [01:27<00:00,  1.90s/it]\n",
            "                 Class     Images  Instances      Box(P          R      mAP50  mAP50-95): 100%|██████████| 7/7 [00:13<00:00,  1.98s/it]"
          ]
        },
        {
          "output_type": "stream",
          "name": "stdout",
          "text": [
            "                   all        206        711       0.79      0.909      0.916      0.881\n"
          ]
        },
        {
          "output_type": "stream",
          "name": "stderr",
          "text": [
            "\n"
          ]
        },
        {
          "output_type": "stream",
          "name": "stdout",
          "text": [
            "\n",
            "      Epoch    GPU_mem   box_loss   cls_loss   dfl_loss  Instances       Size\n"
          ]
        },
        {
          "output_type": "stream",
          "name": "stderr",
          "text": [
            "      23/25      7.71G     0.2415     0.2724     0.8112         26        640: 100%|██████████| 46/46 [01:22<00:00,  1.80s/it]\n",
            "                 Class     Images  Instances      Box(P          R      mAP50  mAP50-95): 100%|██████████| 7/7 [00:12<00:00,  1.85s/it]"
          ]
        },
        {
          "output_type": "stream",
          "name": "stdout",
          "text": [
            "                   all        206        711      0.843      0.881       0.92      0.889\n"
          ]
        },
        {
          "output_type": "stream",
          "name": "stderr",
          "text": [
            "\n"
          ]
        },
        {
          "output_type": "stream",
          "name": "stdout",
          "text": [
            "\n",
            "      Epoch    GPU_mem   box_loss   cls_loss   dfl_loss  Instances       Size\n"
          ]
        },
        {
          "output_type": "stream",
          "name": "stderr",
          "text": [
            "      24/25      7.67G     0.2399     0.2647     0.8042         25        640: 100%|██████████| 46/46 [01:22<00:00,  1.80s/it]\n",
            "                 Class     Images  Instances      Box(P          R      mAP50  mAP50-95): 100%|██████████| 7/7 [00:12<00:00,  1.80s/it]"
          ]
        },
        {
          "output_type": "stream",
          "name": "stdout",
          "text": [
            "                   all        206        711       0.79      0.903      0.922      0.888\n"
          ]
        },
        {
          "output_type": "stream",
          "name": "stderr",
          "text": [
            "\n"
          ]
        },
        {
          "output_type": "stream",
          "name": "stdout",
          "text": [
            "\n",
            "      Epoch    GPU_mem   box_loss   cls_loss   dfl_loss  Instances       Size\n"
          ]
        },
        {
          "output_type": "stream",
          "name": "stderr",
          "text": [
            "      25/25      7.69G     0.2386     0.2651     0.8089         31        640: 100%|██████████| 46/46 [01:20<00:00,  1.76s/it]\n",
            "                 Class     Images  Instances      Box(P          R      mAP50  mAP50-95): 100%|██████████| 7/7 [00:13<00:00,  1.89s/it]\n"
          ]
        },
        {
          "output_type": "stream",
          "name": "stdout",
          "text": [
            "                   all        206        711      0.851      0.873      0.917      0.884\n",
            "\n",
            "25 epochs completed in 0.760 hours.\n",
            "Optimizer stripped from runs/detect/train2/weights/last.pt, 52.1MB\n",
            "Optimizer stripped from runs/detect/train2/weights/best.pt, 52.1MB\n",
            "\n",
            "Validating runs/detect/train2/weights/best.pt...\n",
            "Ultralytics YOLOv8.1.30 🚀 Python-3.10.12 torch-2.2.1+cu121 CUDA:0 (Tesla T4, 15102MiB)\n",
            "Model summary (fused): 218 layers, 25882027 parameters, 0 gradients, 78.9 GFLOPs\n"
          ]
        },
        {
          "output_type": "stream",
          "name": "stderr",
          "text": [
            "                 Class     Images  Instances      Box(P          R      mAP50  mAP50-95): 100%|██████████| 7/7 [00:15<00:00,  2.19s/it]\n"
          ]
        },
        {
          "output_type": "stream",
          "name": "stdout",
          "text": [
            "                   all        206        711      0.843      0.881      0.921      0.889\n",
            "                  pane        206        108      0.992          1      0.995      0.992\n",
            "             mandarini        206         28      0.937      0.964      0.978      0.901\n",
            "                carote        206         30      0.968      0.997      0.994      0.976\n",
            "           patate/pure        206         34      0.919      0.971      0.986      0.883\n",
            "             cotoletta        206         34      0.902          1      0.995      0.981\n",
            "             fagiolini        206         24      0.838          1      0.995      0.901\n",
            "                yogurt        206         25      0.965          1      0.995      0.952\n",
            "                budino        206         22      0.964      0.909      0.939      0.911\n",
            "               spinaci        206         16      0.896      0.938      0.945      0.889\n",
            "            scaloppine        206         17      0.849      0.882      0.905      0.847\n",
            "                 pizza        206         14      0.949          1      0.995      0.995\n",
            "pasta_sugo_vegetariano        206         15      0.603          1      0.947      0.947\n",
            "                  mele        206         10      0.717          1      0.959      0.948\n",
            "pasta_pesto_besciamella_e_cornetti        206         16      0.908          1      0.991      0.991\n",
            "        zucchine_umido        206         12      0.941          1      0.995      0.951\n",
            "lasagna_alla_bolognese        206         12      0.897          1      0.995      0.925\n",
            "               arancia        206         14      0.661          1      0.995      0.995\n",
            "      pasta_sugo_pesce        206         13      0.934          1      0.995      0.988\n",
            "       patatine_fritte        206         16      0.957          1      0.995      0.995\n",
            " pasta_cozze_e_vongole        206         14          1      0.623      0.939      0.939\n",
            "               arrosto        206         17        0.7          1      0.995      0.947\n",
            "           riso_bianco        206         10      0.943          1      0.995       0.98\n",
            "   medaglioni_di_carne        206          6      0.885          1      0.995      0.966\n",
            "torta_salata_spinaci_e_ricotta        206         12      0.882          1      0.995      0.932\n",
            "pasta_zafferano_e_piselli        206         18      0.949      0.889      0.966      0.951\n",
            "patate/pure_prosciutto        206         11      0.929          1      0.995      0.928\n",
            "torta_salata_rustica_(zucchine)        206         10      0.987          1      0.995      0.971\n",
            "        insalata_mista        206         10          1      0.998      0.995      0.939\n",
            "    pasta_mare_e_monti        206          6      0.949          1      0.995      0.995\n",
            "     polpette_di_carne        206          5      0.824          1      0.995      0.925\n",
            "pasta_pancetta_e_zucchine        206         15      0.978          1      0.995      0.975\n",
            "pasta_ricotta_e_salsiccia        206          7      0.799          1      0.995      0.965\n",
            "    orecchiette_(ragu)        206          6      0.932          1      0.995      0.995\n",
            "           pizzoccheri        206          7      0.903          1      0.995      0.972\n",
            "    finocchi_gratinati        206          8      0.921          1      0.995       0.82\n",
            "                  pere        206          9          1      0.839      0.995      0.965\n",
            "           pasta_tonno        206          5      0.758          1      0.995      0.995\n",
            "             riso_sugo        206          4      0.827          1      0.995      0.923\n",
            " pasta_tonno_e_piselli        206          6      0.881          1      0.995      0.995\n",
            "               piselli        206          7      0.914          1      0.995      0.925\n",
            "        torta_salata_3        206          4       0.89       0.75      0.828      0.803\n",
            "torta_salata_(alla_valdostana)        206          1      0.352          1      0.995      0.995\n",
            "                banane        206          5      0.871          1      0.995      0.972\n",
            "salmone_(da_menu_sembra_spada_in_realta)        206          4      0.747          1      0.995      0.958\n",
            "     pesce_2_(filetto)        206          5          1      0.793      0.995      0.965\n",
            "              bruscitt        206          3      0.809          1      0.995      0.995\n",
            " guazzetto_di_calamari        206          1          1          0      0.332      0.332\n",
            "       pasta_e_fagioli        206          5      0.871          1      0.995      0.995\n",
            "            pasta_sugo        206          2      0.795          1      0.995      0.995\n",
            "    arrosto_di_vitello        206          4          1      0.531      0.836      0.746\n",
            "      stinco_di_maiale        206          3      0.817          1      0.995      0.995\n",
            "     minestra_lombarda        206          1      0.275          1      0.995      0.995\n",
            "     finocchi_in_umido        206          2      0.231        0.5      0.662      0.596\n",
            "            cavolfiore        206          2          1          0      0.504      0.504\n",
            "   merluzzo_alle_olive        206          2          1      0.832      0.995      0.946\n",
            "     zucchine_impanate        206          4      0.799      0.993      0.895      0.761\n",
            "       pesce_(filetto)        206          1      0.603          1      0.995      0.995\n",
            "         torta_crema_2        206          1      0.542          1      0.995      0.995\n",
            "             roastbeef        206          2      0.945          1      0.995      0.921\n",
            "               rosbeef        206          1          1          0      0.199      0.199\n",
            "passato_alla_piemontese        206          2          1          0      0.995      0.947\n",
            "          pasta_e_ceci        206          1      0.424          1      0.995      0.995\n",
            " crema_zucca_e_fagioli        206          1      0.221          1      0.249      0.249\n",
            "          torta_ananas        206          1          1          0     0.0995     0.0995\n",
            "Speed: 0.5ms preprocess, 8.6ms inference, 0.1ms loss, 6.2ms postprocess per image\n",
            "Results saved to \u001b[1mruns/detect/train2\u001b[0m\n"
          ]
        }
      ]
    },
    {
      "cell_type": "code",
      "source": [
        "model = YOLO('./best.pt')\n",
        "\n",
        "# Validate the model\n",
        "metrics = model.val()  # no arguments needed, dataset and settings remembered"
      ],
      "metadata": {
        "colab": {
          "base_uri": "https://localhost:8080/"
        },
        "id": "X_oTU1G0QJRa",
        "outputId": "b45b51e0-b732-4a89-a2f3-f78ee9c4f5ad"
      },
      "execution_count": 7,
      "outputs": [
        {
          "output_type": "stream",
          "name": "stdout",
          "text": [
            "Ultralytics YOLOv8.1.30 🚀 Python-3.10.12 torch-2.2.1+cu121 CUDA:0 (Tesla T4, 15102MiB)\n",
            "Model summary (fused): 218 layers, 25882027 parameters, 0 gradients, 78.9 GFLOPs\n",
            "Downloading https://ultralytics.com/assets/Arial.ttf to '/root/.config/Ultralytics/Arial.ttf'...\n"
          ]
        },
        {
          "output_type": "stream",
          "name": "stderr",
          "text": [
            "100%|██████████| 755k/755k [00:00<00:00, 21.7MB/s]\n",
            "\u001b[34m\u001b[1mval: \u001b[0mScanning /content/datasets/unimib2016/labels/val... 206 images, 0 backgrounds, 0 corrupt: 100%|██████████| 206/206 [00:00<00:00, 348.52it/s]\n"
          ]
        },
        {
          "output_type": "stream",
          "name": "stdout",
          "text": [
            "\u001b[34m\u001b[1mval: \u001b[0mNew cache created: /content/datasets/unimib2016/labels/val.cache\n"
          ]
        },
        {
          "output_type": "stream",
          "name": "stderr",
          "text": [
            "                 Class     Images  Instances      Box(P          R      mAP50  mAP50-95): 100%|██████████| 13/13 [00:27<00:00,  2.09s/it]\n"
          ]
        },
        {
          "output_type": "stream",
          "name": "stdout",
          "text": [
            "                   all        206        711       0.89      0.843       0.92      0.888\n",
            "                  pane        206        108      0.995          1      0.995      0.991\n",
            "             mandarini        206         28      0.952      0.964      0.978      0.901\n",
            "                carote        206         30      0.967      0.968      0.994      0.979\n",
            "           patate/pure        206         34      0.971       0.97      0.986      0.883\n",
            "             cotoletta        206         34      0.962          1      0.995      0.983\n",
            "             fagiolini        206         24      0.912          1      0.995      0.905\n",
            "                yogurt        206         25      0.979          1      0.995       0.96\n",
            "                budino        206         22      0.978      0.909      0.939      0.915\n",
            "               spinaci        206         16      0.916      0.938      0.945      0.889\n",
            "            scaloppine        206         17      0.874      0.814      0.905      0.838\n",
            "                 pizza        206         14       0.97          1      0.995      0.995\n",
            "pasta_sugo_vegetariano        206         15      0.662          1      0.947      0.947\n",
            "                  mele        206         10      0.751          1      0.959      0.948\n",
            "pasta_pesto_besciamella_e_cornetti        206         16       0.94      0.985      0.991      0.991\n",
            "        zucchine_umido        206         12      0.964          1      0.995      0.951\n",
            "lasagna_alla_bolognese        206         12      0.942          1      0.995      0.925\n",
            "               arancia        206         14      0.717          1      0.995      0.995\n",
            "      pasta_sugo_pesce        206         13      0.957          1      0.995      0.988\n",
            "       patatine_fritte        206         16      0.976          1      0.995      0.995\n",
            " pasta_cozze_e_vongole        206         14          1      0.423      0.939      0.939\n",
            "               arrosto        206         17      0.764          1      0.995      0.943\n",
            "           riso_bianco        206         10      0.983          1      0.995       0.98\n",
            "   medaglioni_di_carne        206          6      0.924          1      0.995      0.966\n",
            "torta_salata_spinaci_e_ricotta        206         12      0.954          1      0.995      0.932\n",
            "pasta_zafferano_e_piselli        206         18      0.975      0.889      0.965       0.95\n",
            "patate/pure_prosciutto        206         11      0.961          1      0.995      0.928\n",
            "torta_salata_rustica_(zucchine)        206         10          1      0.851      0.995      0.983\n",
            "        insalata_mista        206         10          1      0.958      0.995      0.939\n",
            "    pasta_mare_e_monti        206          6          1      0.955      0.995      0.995\n",
            "     polpette_di_carne        206          5      0.889          1      0.995      0.925\n",
            "pasta_pancetta_e_zucchine        206         15          1      0.924      0.995      0.975\n",
            "pasta_ricotta_e_salsiccia        206          7      0.825          1      0.995      0.965\n",
            "    orecchiette_(ragu)        206          6          1      0.969      0.995      0.995\n",
            "           pizzoccheri        206          7      0.936          1      0.995      0.972\n",
            "    finocchi_gratinati        206          8      0.982          1      0.995      0.829\n",
            "                  pere        206          9          1      0.759      0.995      0.965\n",
            "           pasta_tonno        206          5      0.856          1      0.995      0.995\n",
            "             riso_sugo        206          4      0.888          1      0.995      0.923\n",
            " pasta_tonno_e_piselli        206          6       0.92          1      0.995      0.995\n",
            "               piselli        206          7      0.959          1      0.995      0.925\n",
            "        torta_salata_3        206          4          1      0.709      0.828      0.803\n",
            "torta_salata_(alla_valdostana)        206          1      0.431          1      0.995      0.995\n",
            "                banane        206          5      0.917          1      0.995      0.972\n",
            "salmone_(da_menu_sembra_spada_in_realta)        206          4      0.859          1      0.995      0.958\n",
            "     pesce_2_(filetto)        206          5          1      0.668      0.995      0.942\n",
            "              bruscitt        206          3      0.885          1      0.995      0.995\n",
            " guazzetto_di_calamari        206          1          1          0      0.332      0.332\n",
            "       pasta_e_fagioli        206          5      0.916          1      0.995      0.995\n",
            "            pasta_sugo        206          2      0.961          1      0.995      0.995\n",
            "    arrosto_di_vitello        206          4          1      0.345      0.836      0.746\n",
            "      stinco_di_maiale        206          3      0.917          1      0.995      0.995\n",
            "     minestra_lombarda        206          1      0.447          1      0.995      0.995\n",
            "     finocchi_in_umido        206          2      0.279        0.5      0.638      0.574\n",
            "            cavolfiore        206          2          1          0      0.504      0.504\n",
            "   merluzzo_alle_olive        206          2          1      0.556      0.995      0.946\n",
            "     zucchine_impanate        206          4       0.78        0.9      0.895      0.761\n",
            "       pesce_(filetto)        206          1      0.762          1      0.995      0.895\n",
            "         torta_crema_2        206          1      0.766          1      0.995      0.995\n",
            "             roastbeef        206          2          1          0      0.995      0.921\n",
            "               rosbeef        206          1          1          0      0.199      0.199\n",
            "passato_alla_piemontese        206          2          1          0      0.995      0.947\n",
            "          pasta_e_ceci        206          1      0.571          1      0.995      0.995\n",
            " crema_zucca_e_fagioli        206          1      0.246          1      0.249      0.249\n",
            "          torta_ananas        206          1          1          0     0.0995     0.0995\n",
            "Speed: 3.0ms preprocess, 17.7ms inference, 0.0ms loss, 10.6ms postprocess per image\n",
            "Results saved to \u001b[1mruns/detect/val2\u001b[0m\n"
          ]
        }
      ]
    }
  ]
}
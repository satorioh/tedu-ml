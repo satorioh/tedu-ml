{
  "nbformat": 4,
  "nbformat_minor": 0,
  "metadata": {
    "colab": {
      "provenance": [],
      "gpuType": "T4"
    },
    "kernelspec": {
      "name": "python3",
      "display_name": "Python 3"
    },
    "language_info": {
      "name": "python"
    },
    "accelerator": "GPU"
  },
  "cells": [
    {
      "cell_type": "markdown",
      "source": [
        "水果图片分类\n",
        "\n",
        "包含1036张水果图片，共5个类别（苹果288张、香蕉275张、葡萄\n",
        "216张、橙子276张、梨251张）"
      ],
      "metadata": {
        "id": "O5wP8Paag1xc"
      }
    },
    {
      "cell_type": "code",
      "source": [
        "# !cp /content/drive/MyDrive/DL/data_test/fruits.zip ./"
      ],
      "metadata": {
        "id": "6aj41Px2VetN"
      },
      "execution_count": 135,
      "outputs": []
    },
    {
      "cell_type": "code",
      "source": [
        "# !unzip -qq fruits.zip"
      ],
      "metadata": {
        "id": "mslysOrnVgj7"
      },
      "execution_count": 136,
      "outputs": []
    },
    {
      "cell_type": "code",
      "execution_count": 137,
      "metadata": {
        "id": "sEQ45N4OVLKH"
      },
      "outputs": [],
      "source": [
        "# import os\n",
        "\n",
        "# for root, dirs, files in os.walk('fruits'):\n",
        "#     for file in files:\n",
        "#         # 获取子文件夹名\n",
        "#         subdir_name = os.path.basename(root)\n",
        "#         # 构造新的文件名\n",
        "#         new_file_name = f\"{subdir_name}.{file}\"\n",
        "#         # 获取文件的原始完整路径\n",
        "#         old_file_path = os.path.join(root, file)\n",
        "#         # 获取新的文件完整路径\n",
        "#         new_file_path = os.path.join(root, new_file_name)\n",
        "#         # 重命名文件\n",
        "#         os.rename(old_file_path, new_file_path)"
      ]
    },
    {
      "cell_type": "code",
      "source": [
        "import tensorflow as tf\n",
        "import numpy as np\n",
        "from tensorflow import keras"
      ],
      "metadata": {
        "id": "1iyPm3YSlJsg"
      },
      "execution_count": 138,
      "outputs": []
    },
    {
      "cell_type": "code",
      "source": [
        "base_dir = 'fruits'\n",
        "\n",
        "# data preprocessing\n",
        "from tensorflow.keras.utils import image_dataset_from_directory\n",
        "\n",
        "train_ds, validation_ds = image_dataset_from_directory(base_dir, label_mode='categorical',validation_split=0.2,subset=\"both\",batch_size=32,image_size=(180, 180),seed=42)"
      ],
      "metadata": {
        "colab": {
          "base_uri": "https://localhost:8080/"
        },
        "id": "D5Ba1dmliWoJ",
        "outputId": "b3373eda-a216-44d8-d8eb-747a3663a389"
      },
      "execution_count": 139,
      "outputs": [
        {
          "output_type": "stream",
          "name": "stdout",
          "text": [
            "Found 1306 files belonging to 5 classes.\n",
            "Using 1045 files for training.\n",
            "Using 261 files for validation.\n"
          ]
        }
      ]
    },
    {
      "cell_type": "code",
      "source": [
        "train_ds.class_names"
      ],
      "metadata": {
        "colab": {
          "base_uri": "https://localhost:8080/"
        },
        "id": "97wwp3oVtTcs",
        "outputId": "30154d6e-4f96-486e-ec6d-b962547c99e5"
      },
      "execution_count": 140,
      "outputs": [
        {
          "output_type": "execute_result",
          "data": {
            "text/plain": [
              "['apple', 'banana', 'grape', 'orange', 'pear']"
            ]
          },
          "metadata": {},
          "execution_count": 140
        }
      ]
    },
    {
      "cell_type": "code",
      "source": [
        "validation_ds.class_names"
      ],
      "metadata": {
        "colab": {
          "base_uri": "https://localhost:8080/"
        },
        "id": "hdAbk0G3tVn1",
        "outputId": "5b941011-5429-4c48-de15-b072bb677154"
      },
      "execution_count": 141,
      "outputs": [
        {
          "output_type": "execute_result",
          "data": {
            "text/plain": [
              "['apple', 'banana', 'grape', 'orange', 'pear']"
            ]
          },
          "metadata": {},
          "execution_count": 141
        }
      ]
    },
    {
      "cell_type": "code",
      "source": [
        "# 计算validation_ds的大小\n",
        "num_validation_samples = tf.data.experimental.cardinality(validation_ds).numpy()"
      ],
      "metadata": {
        "id": "B_UA1Sp8bJv_"
      },
      "execution_count": 142,
      "outputs": []
    },
    {
      "cell_type": "code",
      "source": [
        "num_validation_samples"
      ],
      "metadata": {
        "colab": {
          "base_uri": "https://localhost:8080/"
        },
        "id": "Z93bzoJvbPRb",
        "outputId": "d0e59abf-e86e-4b79-9126-5a43d6f6a96a"
      },
      "execution_count": 143,
      "outputs": [
        {
          "output_type": "execute_result",
          "data": {
            "text/plain": [
              "9"
            ]
          },
          "metadata": {},
          "execution_count": 143
        }
      ]
    },
    {
      "cell_type": "code",
      "source": [
        "# 定义我们想要用于验证的样本数量，剩下的将用于测试\n",
        "num_val_samples = int(num_validation_samples * 0.5)"
      ],
      "metadata": {
        "id": "IyoHsQTHbSgX"
      },
      "execution_count": 144,
      "outputs": []
    },
    {
      "cell_type": "code",
      "source": [
        "num_val_samples"
      ],
      "metadata": {
        "colab": {
          "base_uri": "https://localhost:8080/"
        },
        "id": "kFHJuPohbZ-L",
        "outputId": "823aafdf-b534-4333-820b-fe55236d9922"
      },
      "execution_count": 145,
      "outputs": [
        {
          "output_type": "execute_result",
          "data": {
            "text/plain": [
              "4"
            ]
          },
          "metadata": {},
          "execution_count": 145
        }
      ]
    },
    {
      "cell_type": "code",
      "source": [
        "val_ds = validation_ds.take(num_val_samples)"
      ],
      "metadata": {
        "id": "2DluC0x9bi-S"
      },
      "execution_count": 146,
      "outputs": []
    },
    {
      "cell_type": "code",
      "source": [
        "test_ds = validation_ds.skip(num_val_samples)"
      ],
      "metadata": {
        "id": "0SB4JrV5bneM"
      },
      "execution_count": 147,
      "outputs": []
    },
    {
      "cell_type": "code",
      "source": [
        "data_augmentation = keras.Sequential(\n",
        "    [\n",
        "        layers.RandomFlip(\"horizontal\"),\n",
        "        layers.RandomRotation(0.1),\n",
        "        layers.RandomZoom(0.2),\n",
        "    ]\n",
        ")"
      ],
      "metadata": {
        "id": "bTO21AwDoXgN"
      },
      "execution_count": 148,
      "outputs": []
    },
    {
      "cell_type": "code",
      "source": [
        "conv_base  = keras.applications.vgg16.VGG16(\n",
        "    weights=\"imagenet\",\n",
        "    include_top=False)"
      ],
      "metadata": {
        "id": "TL7TVxsOrJg1"
      },
      "execution_count": 149,
      "outputs": []
    },
    {
      "cell_type": "code",
      "source": [
        "print(\"This is the number of trainable weights \"\n",
        "      \"before freezing the conv base:\", len(conv_base.trainable_weights))"
      ],
      "metadata": {
        "colab": {
          "base_uri": "https://localhost:8080/"
        },
        "id": "1FPismgmrZfT",
        "outputId": "74be17d0-de73-4628-820c-c5da5c5485ff"
      },
      "execution_count": 150,
      "outputs": [
        {
          "output_type": "stream",
          "name": "stdout",
          "text": [
            "This is the number of trainable weights before freezing the conv base: 26\n"
          ]
        }
      ]
    },
    {
      "cell_type": "code",
      "source": [
        "# frozen weight\n",
        "conv_base.trainable = False\n",
        "print(\"This is the number of trainable weights \"\n",
        "      \"after freezing the conv base:\", len(conv_base.trainable_weights))"
      ],
      "metadata": {
        "colab": {
          "base_uri": "https://localhost:8080/"
        },
        "id": "g8ui0aD0rbeH",
        "outputId": "5c32e0c4-9615-48e0-f3f4-74a6ad5f50a8"
      },
      "execution_count": 151,
      "outputs": [
        {
          "output_type": "stream",
          "name": "stdout",
          "text": [
            "This is the number of trainable weights after freezing the conv base: 0\n"
          ]
        }
      ]
    },
    {
      "cell_type": "code",
      "source": [
        "from keras import layers\n",
        "\n",
        "inputs = keras.Input(shape=(180, 180, 3))\n",
        "x = data_augmentation(inputs)\n",
        "# x = layers.Rescaling(1./255)(x)\n",
        "x = keras.applications.vgg16.preprocess_input(x)\n",
        "x = conv_base(x)\n",
        "# x = layers.Conv2D(filters=32, kernel_size=3, activation=\"relu\")(x)\n",
        "# x = layers.MaxPooling2D(pool_size=2)(x)\n",
        "# x = layers.Dropout(0.5)(x)\n",
        "# x = layers.Conv2D(filters=64, kernel_size=3, activation=\"relu\")(x)\n",
        "# x = layers.MaxPooling2D(pool_size=2)(x)\n",
        "# x = layers.Dropout(0.5)(x)\n",
        "# x = layers.Conv2D(filters=128, kernel_size=3, activation=\"relu\")(x)\n",
        "# x = layers.MaxPooling2D(pool_size=2)(x)\n",
        "# x = layers.Dropout(0.5)(x)\n",
        "x = layers.Flatten()(x)\n",
        "x = layers.Dense(512, activation=\"relu\")(x)\n",
        "x = layers.Dropout(0.5)(x)\n",
        "outputs = layers.Dense(5, activation=\"softmax\")(x)\n",
        "model = keras.Model(inputs=inputs, outputs=outputs)"
      ],
      "metadata": {
        "id": "d8SHpwLR2kB6"
      },
      "execution_count": 152,
      "outputs": []
    },
    {
      "cell_type": "code",
      "source": [
        "model.summary()"
      ],
      "metadata": {
        "colab": {
          "base_uri": "https://localhost:8080/"
        },
        "id": "SDDqSQIv2qwR",
        "outputId": "31d5d723-6ece-4b03-ea46-f202a12dbd77"
      },
      "execution_count": 153,
      "outputs": [
        {
          "output_type": "stream",
          "name": "stdout",
          "text": [
            "Model: \"model_5\"\n",
            "_________________________________________________________________\n",
            " Layer (type)                Output Shape              Param #   \n",
            "=================================================================\n",
            " input_9 (InputLayer)        [(None, 180, 180, 3)]     0         \n",
            "                                                                 \n",
            " sequential_2 (Sequential)   (None, 180, 180, 3)       0         \n",
            "                                                                 \n",
            " tf.__operators__.getitem_1  (None, 180, 180, 3)       0         \n",
            "  (SlicingOpLambda)                                              \n",
            "                                                                 \n",
            " tf.nn.bias_add_1 (TFOpLamb  (None, 180, 180, 3)       0         \n",
            " da)                                                             \n",
            "                                                                 \n",
            " vgg16 (Functional)          (None, None, None, 512)   14714688  \n",
            "                                                                 \n",
            " flatten_5 (Flatten)         (None, 12800)             0         \n",
            "                                                                 \n",
            " dense_10 (Dense)            (None, 512)               6554112   \n",
            "                                                                 \n",
            " dropout_17 (Dropout)        (None, 512)               0         \n",
            "                                                                 \n",
            " dense_11 (Dense)            (None, 5)                 2565      \n",
            "                                                                 \n",
            "=================================================================\n",
            "Total params: 21271365 (81.14 MB)\n",
            "Trainable params: 6556677 (25.01 MB)\n",
            "Non-trainable params: 14714688 (56.13 MB)\n",
            "_________________________________________________________________\n"
          ]
        }
      ]
    },
    {
      "cell_type": "code",
      "source": [
        "model.compile(loss=\"categorical_crossentropy\",\n",
        "              optimizer=\"rmsprop\",\n",
        "              metrics=[\"accuracy\"])"
      ],
      "metadata": {
        "id": "QaCm9Cse-jmr"
      },
      "execution_count": 154,
      "outputs": []
    },
    {
      "cell_type": "code",
      "source": [
        "callbacks = [\n",
        "    keras.callbacks.ModelCheckpoint(\n",
        "        filepath=\"fruits_vgg16_with_aug.h5\",\n",
        "        save_best_only=True,\n",
        "        monitor=\"val_loss\")\n",
        "]"
      ],
      "metadata": {
        "id": "KdbdAXbwlgis"
      },
      "execution_count": 155,
      "outputs": []
    },
    {
      "cell_type": "code",
      "source": [
        "history = model.fit(\n",
        "    train_ds,\n",
        "    epochs=50,\n",
        "    validation_data=val_ds,\n",
        "    callbacks=callbacks)"
      ],
      "metadata": {
        "colab": {
          "base_uri": "https://localhost:8080/"
        },
        "id": "KH96jqUO_cHr",
        "outputId": "ac8ae818-f132-4ef8-f762-3a3dff59f032"
      },
      "execution_count": 156,
      "outputs": [
        {
          "output_type": "stream",
          "name": "stdout",
          "text": [
            "Epoch 1/50\n",
            "33/33 [==============================] - 5s 121ms/step - loss: 8.9553 - accuracy: 0.8488 - val_loss: 5.7501 - val_accuracy: 0.8516\n",
            "Epoch 2/50\n",
            "33/33 [==============================] - 4s 117ms/step - loss: 1.6742 - accuracy: 0.9483 - val_loss: 0.0697 - val_accuracy: 0.9922\n",
            "Epoch 3/50\n",
            "33/33 [==============================] - 4s 120ms/step - loss: 1.3791 - accuracy: 0.9522 - val_loss: 0.0000e+00 - val_accuracy: 1.0000\n",
            "Epoch 4/50\n",
            "33/33 [==============================] - 4s 111ms/step - loss: 0.8950 - accuracy: 0.9703 - val_loss: 0.1849 - val_accuracy: 0.9844\n",
            "Epoch 5/50\n",
            "33/33 [==============================] - 4s 110ms/step - loss: 0.6955 - accuracy: 0.9732 - val_loss: 5.3784e-06 - val_accuracy: 1.0000\n",
            "Epoch 6/50\n",
            "33/33 [==============================] - 4s 112ms/step - loss: 0.7686 - accuracy: 0.9675 - val_loss: 1.8626e-09 - val_accuracy: 1.0000\n",
            "Epoch 7/50\n",
            "33/33 [==============================] - 4s 107ms/step - loss: 0.5589 - accuracy: 0.9789 - val_loss: 1.3970e-07 - val_accuracy: 1.0000\n",
            "Epoch 8/50\n",
            "33/33 [==============================] - 4s 108ms/step - loss: 0.6402 - accuracy: 0.9770 - val_loss: 0.0020 - val_accuracy: 1.0000\n",
            "Epoch 9/50\n",
            "33/33 [==============================] - 4s 110ms/step - loss: 0.4821 - accuracy: 0.9923 - val_loss: 1.2935 - val_accuracy: 0.9844\n",
            "Epoch 10/50\n",
            "33/33 [==============================] - 4s 106ms/step - loss: 0.6913 - accuracy: 0.9789 - val_loss: 0.1530 - val_accuracy: 0.9844\n",
            "Epoch 11/50\n",
            "33/33 [==============================] - 4s 106ms/step - loss: 0.2504 - accuracy: 0.9885 - val_loss: 1.7731e-04 - val_accuracy: 1.0000\n",
            "Epoch 12/50\n",
            "33/33 [==============================] - 4s 107ms/step - loss: 0.1919 - accuracy: 0.9933 - val_loss: 0.0678 - val_accuracy: 0.9922\n",
            "Epoch 13/50\n",
            "33/33 [==============================] - 4s 107ms/step - loss: 0.3878 - accuracy: 0.9895 - val_loss: 0.5037 - val_accuracy: 0.9844\n",
            "Epoch 14/50\n",
            "33/33 [==============================] - 4s 105ms/step - loss: 0.5507 - accuracy: 0.9876 - val_loss: 0.1472 - val_accuracy: 0.9922\n",
            "Epoch 15/50\n",
            "33/33 [==============================] - 4s 114ms/step - loss: 0.5431 - accuracy: 0.9866 - val_loss: 0.4348 - val_accuracy: 0.9922\n",
            "Epoch 16/50\n",
            "33/33 [==============================] - 4s 105ms/step - loss: 0.3337 - accuracy: 0.9895 - val_loss: 0.7943 - val_accuracy: 0.9922\n",
            "Epoch 17/50\n",
            "33/33 [==============================] - 4s 106ms/step - loss: 0.3115 - accuracy: 0.9885 - val_loss: 0.0187 - val_accuracy: 0.9922\n",
            "Epoch 18/50\n",
            "33/33 [==============================] - 4s 114ms/step - loss: 0.1026 - accuracy: 0.9943 - val_loss: 0.0096 - val_accuracy: 0.9922\n",
            "Epoch 19/50\n",
            "33/33 [==============================] - 4s 106ms/step - loss: 0.1187 - accuracy: 0.9923 - val_loss: 3.4478e-05 - val_accuracy: 1.0000\n",
            "Epoch 20/50\n",
            "33/33 [==============================] - 4s 106ms/step - loss: 0.2564 - accuracy: 0.9914 - val_loss: 0.2398 - val_accuracy: 0.9922\n",
            "Epoch 21/50\n",
            "33/33 [==============================] - 4s 115ms/step - loss: 0.0961 - accuracy: 0.9933 - val_loss: 0.0000e+00 - val_accuracy: 1.0000\n",
            "Epoch 22/50\n",
            "33/33 [==============================] - 4s 106ms/step - loss: 0.2745 - accuracy: 0.9943 - val_loss: 3.7253e-09 - val_accuracy: 1.0000\n",
            "Epoch 23/50\n",
            "33/33 [==============================] - 4s 106ms/step - loss: 0.2143 - accuracy: 0.9952 - val_loss: 0.0000e+00 - val_accuracy: 1.0000\n",
            "Epoch 24/50\n",
            "33/33 [==============================] - 4s 116ms/step - loss: 0.2618 - accuracy: 0.9914 - val_loss: 2.7008e-08 - val_accuracy: 1.0000\n",
            "Epoch 25/50\n",
            "33/33 [==============================] - 4s 108ms/step - loss: 0.0689 - accuracy: 0.9962 - val_loss: 0.0000e+00 - val_accuracy: 1.0000\n",
            "Epoch 26/50\n",
            "33/33 [==============================] - 4s 107ms/step - loss: 0.2700 - accuracy: 0.9952 - val_loss: 0.5954 - val_accuracy: 0.9844\n",
            "Epoch 27/50\n",
            "33/33 [==============================] - 4s 108ms/step - loss: 0.0642 - accuracy: 0.9971 - val_loss: 0.0012 - val_accuracy: 1.0000\n",
            "Epoch 28/50\n",
            "33/33 [==============================] - 4s 107ms/step - loss: 0.0589 - accuracy: 0.9962 - val_loss: 0.0000e+00 - val_accuracy: 1.0000\n",
            "Epoch 29/50\n",
            "33/33 [==============================] - 4s 114ms/step - loss: 0.2216 - accuracy: 0.9952 - val_loss: 0.0026 - val_accuracy: 1.0000\n",
            "Epoch 30/50\n",
            "33/33 [==============================] - 4s 118ms/step - loss: 0.2171 - accuracy: 0.9933 - val_loss: 0.0000e+00 - val_accuracy: 1.0000\n",
            "Epoch 31/50\n",
            "33/33 [==============================] - 4s 106ms/step - loss: 0.0095 - accuracy: 0.9990 - val_loss: 0.0000e+00 - val_accuracy: 1.0000\n",
            "Epoch 32/50\n",
            "33/33 [==============================] - 4s 106ms/step - loss: 0.1920 - accuracy: 0.9943 - val_loss: 9.3132e-10 - val_accuracy: 1.0000\n",
            "Epoch 33/50\n",
            "33/33 [==============================] - 4s 117ms/step - loss: 0.1269 - accuracy: 0.9943 - val_loss: 0.0000e+00 - val_accuracy: 1.0000\n",
            "Epoch 34/50\n",
            "33/33 [==============================] - 4s 106ms/step - loss: 0.2172 - accuracy: 0.9943 - val_loss: 2.7940e-09 - val_accuracy: 1.0000\n",
            "Epoch 35/50\n",
            "33/33 [==============================] - 4s 106ms/step - loss: 0.0248 - accuracy: 0.9971 - val_loss: 0.0000e+00 - val_accuracy: 1.0000\n",
            "Epoch 36/50\n",
            "33/33 [==============================] - 4s 110ms/step - loss: 0.0794 - accuracy: 0.9971 - val_loss: 0.0000e+00 - val_accuracy: 1.0000\n",
            "Epoch 37/50\n",
            "33/33 [==============================] - 4s 107ms/step - loss: 0.1331 - accuracy: 0.9943 - val_loss: 0.0000e+00 - val_accuracy: 1.0000\n",
            "Epoch 38/50\n",
            "33/33 [==============================] - 4s 107ms/step - loss: 6.6318e-05 - accuracy: 1.0000 - val_loss: 0.0000e+00 - val_accuracy: 1.0000\n",
            "Epoch 39/50\n",
            "33/33 [==============================] - 4s 108ms/step - loss: 0.1238 - accuracy: 0.9952 - val_loss: 0.0000e+00 - val_accuracy: 1.0000\n",
            "Epoch 40/50\n",
            "33/33 [==============================] - 4s 108ms/step - loss: 0.0394 - accuracy: 0.9952 - val_loss: 2.7940e-09 - val_accuracy: 1.0000\n",
            "Epoch 41/50\n",
            "33/33 [==============================] - 4s 106ms/step - loss: 0.0162 - accuracy: 0.9981 - val_loss: 0.0000e+00 - val_accuracy: 1.0000\n",
            "Epoch 42/50\n",
            "33/33 [==============================] - 4s 107ms/step - loss: 0.1025 - accuracy: 0.9962 - val_loss: 0.0000e+00 - val_accuracy: 1.0000\n",
            "Epoch 43/50\n",
            "33/33 [==============================] - 4s 118ms/step - loss: 0.2053 - accuracy: 0.9981 - val_loss: 3.0987e-05 - val_accuracy: 1.0000\n",
            "Epoch 44/50\n",
            "33/33 [==============================] - 4s 107ms/step - loss: 0.1768 - accuracy: 0.9962 - val_loss: 0.0000e+00 - val_accuracy: 1.0000\n",
            "Epoch 45/50\n",
            "33/33 [==============================] - 4s 114ms/step - loss: 8.4492e-06 - accuracy: 1.0000 - val_loss: 0.0000e+00 - val_accuracy: 1.0000\n",
            "Epoch 46/50\n",
            "33/33 [==============================] - 4s 109ms/step - loss: 0.1554 - accuracy: 0.9943 - val_loss: 0.0000e+00 - val_accuracy: 1.0000\n",
            "Epoch 47/50\n",
            "33/33 [==============================] - 4s 107ms/step - loss: 0.1252 - accuracy: 0.9962 - val_loss: 0.0000e+00 - val_accuracy: 1.0000\n",
            "Epoch 48/50\n",
            "33/33 [==============================] - 4s 107ms/step - loss: 0.1492 - accuracy: 0.9962 - val_loss: 0.0880 - val_accuracy: 0.9922\n",
            "Epoch 49/50\n",
            "33/33 [==============================] - 4s 116ms/step - loss: 0.1301 - accuracy: 0.9962 - val_loss: 0.0000e+00 - val_accuracy: 1.0000\n",
            "Epoch 50/50\n",
            "33/33 [==============================] - 4s 107ms/step - loss: 2.5325e-08 - accuracy: 1.0000 - val_loss: 0.0000e+00 - val_accuracy: 1.0000\n"
          ]
        }
      ]
    },
    {
      "cell_type": "code",
      "source": [
        "import matplotlib.pyplot as plt\n",
        "\n",
        "\n",
        "def show_history(history):\n",
        "    loss = history.history['loss']\n",
        "    val_loss = history.history['val_loss']\n",
        "    epochs = range(1, len(loss) + 1)\n",
        "    plt.figure(figsize=(12, 4))\n",
        "    plt.subplot(1, 2, 1)\n",
        "    plt.plot(epochs, loss, 'bo', label='Training loss')\n",
        "    plt.plot(epochs, val_loss, 'b', label='Validation loss')\n",
        "    plt.title('Training and validation loss')\n",
        "    plt.xlabel('Epochs')\n",
        "    plt.ylabel('Loss')\n",
        "    plt.legend()\n",
        "    acc = history.history['accuracy']\n",
        "    val_acc = history.history['val_accuracy']\n",
        "    plt.subplot(1, 2, 2)\n",
        "    plt.plot(epochs, acc, 'bo', label='Training acc')\n",
        "    plt.plot(epochs, val_acc, 'b', label='Validation acc')\n",
        "    plt.title('Training and validation accuracy')\n",
        "    plt.xlabel('Epochs')\n",
        "    plt.ylabel('Accuracy')\n",
        "    plt.legend()\n",
        "    plt.show()"
      ],
      "metadata": {
        "id": "cpo-W946_jWd"
      },
      "execution_count": 157,
      "outputs": []
    },
    {
      "cell_type": "code",
      "source": [
        "show_history(history)"
      ],
      "metadata": {
        "colab": {
          "base_uri": "https://localhost:8080/",
          "height": 410
        },
        "id": "cJS98HEqc_Fi",
        "outputId": "687a44ef-f83d-45d8-919e-87274b0b9b73"
      },
      "execution_count": 158,
      "outputs": [
        {
          "output_type": "display_data",
          "data": {
            "text/plain": [
              "<Figure size 1200x400 with 2 Axes>"
            ],
            "image/png": "[encoded data removed]"
          },
          "metadata": {}
        }
      ]
    },
    {
      "cell_type": "code",
      "source": [
        "test_model = keras.models.load_model(\"fruits_vgg16_with_aug.h5\")\n",
        "test_loss, test_acc = test_model.evaluate(test_ds)\n",
        "print(f\"Test accuracy: {test_acc:.3f}\")"
      ],
      "metadata": {
        "colab": {
          "base_uri": "https://localhost:8080/"
        },
        "id": "YGKr7ZS1dBUU",
        "outputId": "f600956b-b398-4ce5-993c-2e7c4bcd22c8"
      },
      "execution_count": 159,
      "outputs": [
        {
          "output_type": "stream",
          "name": "stdout",
          "text": [
            "5/5 [==============================] - 2s 430ms/step - loss: 2.4407e-05 - accuracy: 1.0000\n",
            "Test accuracy: 1.000\n"
          ]
        }
      ]
    },
    {
      "cell_type": "code",
      "source": [
        "from sklearn.metrics import classification_report\n",
        "\n",
        "# 获取测试集的真实标签\n",
        "y_true = np.concatenate([y for x, y in test_ds], axis=0)"
      ],
      "metadata": {
        "id": "ACt20sNVeKaH"
      },
      "execution_count": 160,
      "outputs": []
    },
    {
      "cell_type": "code",
      "source": [
        "# 获取预测结果\n",
        "y_pred = model.predict(test_ds)"
      ],
      "metadata": {
        "colab": {
          "base_uri": "https://localhost:8080/"
        },
        "id": "VOJ0VPbGfY_Q",
        "outputId": "68e1da20-722d-4559-d021-d2959e1b3413"
      },
      "execution_count": 161,
      "outputs": [
        {
          "output_type": "stream",
          "name": "stdout",
          "text": [
            "5/5 [==============================] - 1s 85ms/step\n"
          ]
        }
      ]
    },
    {
      "cell_type": "code",
      "source": [
        "y_pred = np.argmax(y_pred, axis=1)"
      ],
      "metadata": {
        "id": "zGfYhomEfbB3"
      },
      "execution_count": 162,
      "outputs": []
    },
    {
      "cell_type": "code",
      "source": [
        "y_true = np.argmax(y_true, axis=1)"
      ],
      "metadata": {
        "id": "tZlRdpYshgx3"
      },
      "execution_count": 163,
      "outputs": []
    },
    {
      "cell_type": "code",
      "source": [
        "# 生成分类报告\n",
        "report = classification_report(y_true, y_pred)\n",
        "print(report)"
      ],
      "metadata": {
        "colab": {
          "base_uri": "https://localhost:8080/"
        },
        "id": "DEc-ECMQhFgQ",
        "outputId": "b98c905b-1c4b-4ff2-94d1-8f636bb138a9"
      },
      "execution_count": 164,
      "outputs": [
        {
          "output_type": "stream",
          "name": "stdout",
          "text": [
            "              precision    recall  f1-score   support\n",
            "\n",
            "           0       1.00      1.00      1.00        28\n",
            "           1       1.00      1.00      1.00        27\n",
            "           2       1.00      1.00      1.00        23\n",
            "           3       1.00      1.00      1.00        31\n",
            "           4       1.00      1.00      1.00        24\n",
            "\n",
            "    accuracy                           1.00       133\n",
            "   macro avg       1.00      1.00      1.00       133\n",
            "weighted avg       1.00      1.00      1.00       133\n",
            "\n"
          ]
        }
      ]
    },
    {
      "cell_type": "code",
      "source": [],
      "metadata": {
        "id": "-CR4wO9VhQaS"
      },
      "execution_count": 164,
      "outputs": []
    }
  ]
}
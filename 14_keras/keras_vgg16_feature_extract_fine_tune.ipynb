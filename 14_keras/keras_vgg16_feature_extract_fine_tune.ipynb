{
  "nbformat": 4,
  "nbformat_minor": 0,
  "metadata": {
    "colab": {
      "provenance": [],
      "gpuType": "T4"
    },
    "kernelspec": {
      "name": "python3",
      "display_name": "Python 3"
    },
    "language_info": {
      "name": "python"
    },
    "accelerator": "GPU"
  },
  "cells": [
    {
      "cell_type": "code",
      "source": [
        "# !mkdir ~/.kaggle\n",
        "# !cp ./drive/MyDrive/DL/kaggle/kaggle.json ~/.kaggle/\n",
        "# !chmod 600 ~/.kaggle/kaggle.json"
      ],
      "metadata": {
        "id": "6igecNR4lCkL"
      },
      "execution_count": 10,
      "outputs": []
    },
    {
      "cell_type": "code",
      "source": [
        "# !kaggle competitions download -c dogs-vs-cats"
      ],
      "metadata": {
        "colab": {
          "base_uri": "https://localhost:8080/"
        },
        "id": "VSi2dQoLlHmV",
        "outputId": "09acfe25-82c8-4e5e-a00b-a889d02b8da9"
      },
      "execution_count": 11,
      "outputs": [
        {
          "output_type": "stream",
          "name": "stdout",
          "text": [
            "Downloading dogs-vs-cats.zip to /content\n",
            " 99% 806M/812M [00:04<00:00, 232MB/s]\n",
            "100% 812M/812M [00:04<00:00, 188MB/s]\n"
          ]
        }
      ]
    },
    {
      "cell_type": "code",
      "source": [
        "# !unzip -qq dogs-vs-cats.zip"
      ],
      "metadata": {
        "id": "tgi-ZThKlMNe"
      },
      "execution_count": 12,
      "outputs": []
    },
    {
      "cell_type": "code",
      "source": [
        "# !unzip -qq train.zip"
      ],
      "metadata": {
        "id": "_aTrgHeXlMU4"
      },
      "execution_count": 13,
      "outputs": []
    },
    {
      "cell_type": "code",
      "source": [
        "# import os, shutil, pathlib\n",
        "\n",
        "# original_dir = pathlib.Path(\"train\")\n",
        "# new_base_dir = pathlib.Path(\"cats_vs_dogs_small\")\n",
        "\n",
        "# def make_subset(subset_name, start_index, end_index):\n",
        "#     for category in (\"cat\", \"dog\"):\n",
        "#         dir = new_base_dir / subset_name / category\n",
        "#         os.makedirs(dir)\n",
        "#         fnames = [f\"{category}.{i}.jpg\" for i in range(start_index, end_index)]\n",
        "#         for fname in fnames:\n",
        "#             shutil.copyfile(src=original_dir / fname,\n",
        "#                             dst=dir / fname)\n",
        "\n",
        "# make_subset(\"train\", start_index=0, end_index=1000)\n",
        "# make_subset(\"validation\", start_index=1000, end_index=1500)\n",
        "# make_subset(\"test\", start_index=1500, end_index=2500)"
      ],
      "metadata": {
        "id": "jo4TGTZxlYhz"
      },
      "execution_count": 14,
      "outputs": []
    },
    {
      "cell_type": "code",
      "execution_count": 1,
      "metadata": {
        "id": "DrRYT-d0ij8a"
      },
      "outputs": [],
      "source": [
        "import pathlib\n",
        "import tensorflow as tf\n",
        "import numpy as np\n",
        "from tensorflow import keras"
      ]
    },
    {
      "cell_type": "code",
      "source": [
        "new_base_dir = pathlib.Path(\"cats_vs_dogs_small\")"
      ],
      "metadata": {
        "id": "StDK2krDjBlj"
      },
      "execution_count": 18,
      "outputs": []
    },
    {
      "cell_type": "code",
      "source": [
        "# data preprocessing\n",
        "from tensorflow.keras.utils import image_dataset_from_directory\n",
        "\n",
        "train_dataset = image_dataset_from_directory(\n",
        "    new_base_dir / \"train\",\n",
        "    image_size=(180, 180),\n",
        "    batch_size=32)\n",
        "validation_dataset = image_dataset_from_directory(\n",
        "    new_base_dir / \"validation\",\n",
        "    image_size=(180, 180),\n",
        "    batch_size=32)\n",
        "test_dataset = image_dataset_from_directory(\n",
        "    new_base_dir / \"test\",\n",
        "    image_size=(180, 180),\n",
        "    batch_size=32)"
      ],
      "metadata": {
        "colab": {
          "base_uri": "https://localhost:8080/"
        },
        "id": "wxYFeomgjQNR",
        "outputId": "3acac035-fb5a-439c-ce58-36d87594f9a5"
      },
      "execution_count": 19,
      "outputs": [
        {
          "output_type": "stream",
          "name": "stdout",
          "text": [
            "Found 2000 files belonging to 2 classes.\n",
            "Found 1000 files belonging to 2 classes.\n",
            "Found 2000 files belonging to 2 classes.\n"
          ]
        }
      ]
    },
    {
      "cell_type": "code",
      "source": [
        "conv_base  = keras.applications.vgg16.VGG16(\n",
        "    weights=\"imagenet\",\n",
        "    include_top=False)"
      ],
      "metadata": {
        "colab": {
          "base_uri": "https://localhost:8080/"
        },
        "id": "gN_bTrn4jwEd",
        "outputId": "c553c89a-bb0f-49a1-98f6-77dcef53282e"
      },
      "execution_count": 20,
      "outputs": [
        {
          "output_type": "stream",
          "name": "stdout",
          "text": [
            "Downloading data from https://storage.googleapis.com/tensorflow/keras-applications/vgg16/vgg16_weights_tf_dim_ordering_tf_kernels_notop.h5\n",
            "58889256/58889256 [==============================] - 0s 0us/step\n"
          ]
        }
      ]
    },
    {
      "cell_type": "code",
      "source": [
        "print(\"This is the number of trainable weights \"\n",
        "      \"before freezing the conv base:\", len(conv_base.trainable_weights))"
      ],
      "metadata": {
        "colab": {
          "base_uri": "https://localhost:8080/"
        },
        "id": "VRpy9_8umiOD",
        "outputId": "3ab51467-2251-46d3-d7b9-a60bed9a6b65"
      },
      "execution_count": 21,
      "outputs": [
        {
          "output_type": "stream",
          "name": "stdout",
          "text": [
            "This is the number of trainable weights before freezing the conv base: 26\n"
          ]
        }
      ]
    },
    {
      "cell_type": "code",
      "source": [
        "# frozen weight\n",
        "conv_base.trainable = False\n",
        "print(\"This is the number of trainable weights \"\n",
        "      \"after freezing the conv base:\", len(conv_base.trainable_weights))"
      ],
      "metadata": {
        "colab": {
          "base_uri": "https://localhost:8080/"
        },
        "id": "GoSe9PaVmmAj",
        "outputId": "5ccb5efa-1155-4ffe-a4b4-96e6bae08cf4"
      },
      "execution_count": 22,
      "outputs": [
        {
          "output_type": "stream",
          "name": "stdout",
          "text": [
            "This is the number of trainable weights after freezing the conv base: 0\n"
          ]
        }
      ]
    },
    {
      "cell_type": "code",
      "source": [
        "# add data augmention layer\n",
        "from keras import layers\n",
        "\n",
        "data_augmentation = keras.Sequential(\n",
        "    [\n",
        "        layers.RandomFlip(\"horizontal\"),\n",
        "        layers.RandomRotation(0.1),\n",
        "        layers.RandomZoom(0.2),\n",
        "    ]\n",
        ")"
      ],
      "metadata": {
        "id": "kbh3gXvZmrAB"
      },
      "execution_count": 23,
      "outputs": []
    },
    {
      "cell_type": "code",
      "source": [
        "inputs = keras.Input(shape=(180, 180, 3))\n",
        "x = data_augmentation(inputs)\n",
        "x = keras.applications.vgg16.preprocess_input(x)\n",
        "x = conv_base(x)\n",
        "x = layers.Flatten()(x)\n",
        "x = layers.Dense(256)(x)\n",
        "x = layers.Dropout(0.5)(x)\n",
        "outputs = layers.Dense(1, activation=\"sigmoid\")(x)\n",
        "model = keras.Model(inputs, outputs)"
      ],
      "metadata": {
        "id": "Slx_tV6zm0eD"
      },
      "execution_count": 24,
      "outputs": []
    },
    {
      "cell_type": "code",
      "source": [
        "model.compile(loss=\"binary_crossentropy\",\n",
        "              optimizer=\"rmsprop\",\n",
        "              metrics=[\"accuracy\"])"
      ],
      "metadata": {
        "id": "_p-gp0rMm4lN"
      },
      "execution_count": 25,
      "outputs": []
    },
    {
      "cell_type": "code",
      "source": [
        "callbacks = [\n",
        "    keras.callbacks.ModelCheckpoint(\n",
        "        filepath=\"features_extraction_with_data_augmentation.h5\",\n",
        "        save_best_only=True,\n",
        "        monitor=\"val_loss\")\n",
        "]"
      ],
      "metadata": {
        "id": "PUX9kFCom7WA"
      },
      "execution_count": 28,
      "outputs": []
    },
    {
      "cell_type": "code",
      "source": [
        "history = model.fit(\n",
        "    train_dataset,\n",
        "    epochs=50,\n",
        "    validation_data=validation_dataset,\n",
        "    callbacks=callbacks)"
      ],
      "metadata": {
        "colab": {
          "base_uri": "https://localhost:8080/"
        },
        "id": "6YKdmdNkm_Zt",
        "outputId": "c0b34087-0993-4ee6-fa57-61b620521dfe"
      },
      "execution_count": 29,
      "outputs": [
        {
          "output_type": "stream",
          "name": "stdout",
          "text": [
            "Epoch 1/50\n",
            "63/63 [==============================] - 9s 136ms/step - loss: 7.2255 - accuracy: 0.9435 - val_loss: 4.3030 - val_accuracy: 0.9700\n"
          ]
        },
        {
          "output_type": "stream",
          "name": "stderr",
          "text": [
            "/usr/local/lib/python3.10/dist-packages/keras/src/engine/training.py:3103: UserWarning: You are saving your model as an HDF5 file via `model.save()`. This file format is considered legacy. We recommend using instead the native Keras format, e.g. `model.save('my_model.keras')`.\n",
            "  saving_api.save_model(\n"
          ]
        },
        {
          "output_type": "stream",
          "name": "stdout",
          "text": [
            "Epoch 2/50\n",
            "63/63 [==============================] - 9s 143ms/step - loss: 5.4328 - accuracy: 0.9560 - val_loss: 2.3134 - val_accuracy: 0.9800\n",
            "Epoch 3/50\n",
            "63/63 [==============================] - 9s 136ms/step - loss: 3.9357 - accuracy: 0.9620 - val_loss: 2.4272 - val_accuracy: 0.9800\n",
            "Epoch 4/50\n",
            "63/63 [==============================] - 9s 141ms/step - loss: 3.7868 - accuracy: 0.9665 - val_loss: 2.9064 - val_accuracy: 0.9810\n",
            "Epoch 5/50\n",
            "63/63 [==============================] - 11s 174ms/step - loss: 4.6948 - accuracy: 0.9610 - val_loss: 5.9663 - val_accuracy: 0.9670\n",
            "Epoch 6/50\n",
            "63/63 [==============================] - 9s 145ms/step - loss: 2.8098 - accuracy: 0.9740 - val_loss: 3.1063 - val_accuracy: 0.9770\n",
            "Epoch 7/50\n",
            "63/63 [==============================] - 9s 137ms/step - loss: 1.9514 - accuracy: 0.9785 - val_loss: 4.1873 - val_accuracy: 0.9710\n",
            "Epoch 8/50\n",
            "63/63 [==============================] - 10s 148ms/step - loss: 3.4452 - accuracy: 0.9710 - val_loss: 8.0913 - val_accuracy: 0.9570\n",
            "Epoch 9/50\n",
            "63/63 [==============================] - 9s 139ms/step - loss: 3.4160 - accuracy: 0.9725 - val_loss: 3.8168 - val_accuracy: 0.9750\n",
            "Epoch 10/50\n",
            "63/63 [==============================] - 10s 147ms/step - loss: 2.5814 - accuracy: 0.9775 - val_loss: 3.5844 - val_accuracy: 0.9710\n",
            "Epoch 11/50\n",
            "63/63 [==============================] - 11s 174ms/step - loss: 2.3307 - accuracy: 0.9770 - val_loss: 3.0101 - val_accuracy: 0.9780\n",
            "Epoch 12/50\n",
            "63/63 [==============================] - 11s 176ms/step - loss: 2.3612 - accuracy: 0.9745 - val_loss: 4.1534 - val_accuracy: 0.9750\n",
            "Epoch 13/50\n",
            "63/63 [==============================] - 10s 151ms/step - loss: 1.9710 - accuracy: 0.9795 - val_loss: 2.9514 - val_accuracy: 0.9800\n",
            "Epoch 14/50\n",
            "63/63 [==============================] - 9s 145ms/step - loss: 2.5125 - accuracy: 0.9760 - val_loss: 2.6199 - val_accuracy: 0.9830\n",
            "Epoch 15/50\n",
            "63/63 [==============================] - 10s 156ms/step - loss: 1.6928 - accuracy: 0.9810 - val_loss: 3.7053 - val_accuracy: 0.9730\n",
            "Epoch 16/50\n",
            "63/63 [==============================] - 12s 181ms/step - loss: 1.4978 - accuracy: 0.9845 - val_loss: 2.7385 - val_accuracy: 0.9800\n",
            "Epoch 17/50\n",
            "63/63 [==============================] - 12s 182ms/step - loss: 1.2981 - accuracy: 0.9810 - val_loss: 3.2444 - val_accuracy: 0.9740\n",
            "Epoch 18/50\n",
            "63/63 [==============================] - 10s 154ms/step - loss: 1.3584 - accuracy: 0.9860 - val_loss: 3.4802 - val_accuracy: 0.9790\n",
            "Epoch 19/50\n",
            "63/63 [==============================] - 11s 170ms/step - loss: 1.5056 - accuracy: 0.9800 - val_loss: 2.9144 - val_accuracy: 0.9790\n",
            "Epoch 20/50\n",
            "63/63 [==============================] - 12s 185ms/step - loss: 1.7309 - accuracy: 0.9780 - val_loss: 2.2938 - val_accuracy: 0.9790\n",
            "Epoch 21/50\n",
            "63/63 [==============================] - 10s 153ms/step - loss: 0.9377 - accuracy: 0.9850 - val_loss: 2.2756 - val_accuracy: 0.9810\n",
            "Epoch 22/50\n",
            "63/63 [==============================] - 10s 154ms/step - loss: 0.9749 - accuracy: 0.9830 - val_loss: 2.9430 - val_accuracy: 0.9770\n",
            "Epoch 23/50\n",
            "63/63 [==============================] - 11s 179ms/step - loss: 0.9408 - accuracy: 0.9865 - val_loss: 2.5404 - val_accuracy: 0.9800\n",
            "Epoch 24/50\n",
            "63/63 [==============================] - 11s 179ms/step - loss: 1.3438 - accuracy: 0.9830 - val_loss: 2.6045 - val_accuracy: 0.9790\n",
            "Epoch 25/50\n",
            "63/63 [==============================] - 10s 154ms/step - loss: 0.9307 - accuracy: 0.9815 - val_loss: 2.6491 - val_accuracy: 0.9770\n",
            "Epoch 26/50\n",
            "63/63 [==============================] - 11s 165ms/step - loss: 1.0089 - accuracy: 0.9840 - val_loss: 2.7441 - val_accuracy: 0.9780\n",
            "Epoch 27/50\n",
            "63/63 [==============================] - 12s 188ms/step - loss: 1.4015 - accuracy: 0.9790 - val_loss: 1.8257 - val_accuracy: 0.9850\n",
            "Epoch 28/50\n",
            "63/63 [==============================] - 10s 153ms/step - loss: 0.8383 - accuracy: 0.9820 - val_loss: 2.1840 - val_accuracy: 0.9800\n",
            "Epoch 29/50\n",
            "63/63 [==============================] - 10s 154ms/step - loss: 0.5548 - accuracy: 0.9875 - val_loss: 2.4589 - val_accuracy: 0.9810\n",
            "Epoch 30/50\n",
            "63/63 [==============================] - 10s 149ms/step - loss: 0.9173 - accuracy: 0.9835 - val_loss: 2.5396 - val_accuracy: 0.9730\n",
            "Epoch 31/50\n",
            "63/63 [==============================] - 10s 156ms/step - loss: 0.3924 - accuracy: 0.9900 - val_loss: 2.3313 - val_accuracy: 0.9790\n",
            "Epoch 32/50\n",
            "63/63 [==============================] - 11s 180ms/step - loss: 0.7914 - accuracy: 0.9865 - val_loss: 2.2297 - val_accuracy: 0.9780\n",
            "Epoch 33/50\n",
            "63/63 [==============================] - 12s 180ms/step - loss: 0.4055 - accuracy: 0.9920 - val_loss: 1.9272 - val_accuracy: 0.9800\n",
            "Epoch 34/50\n",
            "63/63 [==============================] - 11s 164ms/step - loss: 0.5069 - accuracy: 0.9875 - val_loss: 1.7093 - val_accuracy: 0.9830\n",
            "Epoch 35/50\n",
            "63/63 [==============================] - 12s 185ms/step - loss: 0.3651 - accuracy: 0.9900 - val_loss: 2.3198 - val_accuracy: 0.9820\n",
            "Epoch 36/50\n",
            "63/63 [==============================] - 12s 181ms/step - loss: 1.0662 - accuracy: 0.9870 - val_loss: 3.6616 - val_accuracy: 0.9740\n",
            "Epoch 37/50\n",
            "63/63 [==============================] - 10s 150ms/step - loss: 0.8234 - accuracy: 0.9885 - val_loss: 2.4167 - val_accuracy: 0.9800\n",
            "Epoch 38/50\n",
            "63/63 [==============================] - 10s 158ms/step - loss: 0.3623 - accuracy: 0.9895 - val_loss: 2.6829 - val_accuracy: 0.9800\n",
            "Epoch 39/50\n",
            "63/63 [==============================] - 10s 151ms/step - loss: 0.5370 - accuracy: 0.9910 - val_loss: 1.9655 - val_accuracy: 0.9760\n",
            "Epoch 40/50\n",
            "63/63 [==============================] - 10s 155ms/step - loss: 0.4973 - accuracy: 0.9875 - val_loss: 1.8686 - val_accuracy: 0.9760\n",
            "Epoch 41/50\n",
            "63/63 [==============================] - 10s 154ms/step - loss: 0.6120 - accuracy: 0.9855 - val_loss: 3.0070 - val_accuracy: 0.9770\n",
            "Epoch 42/50\n",
            "63/63 [==============================] - 10s 153ms/step - loss: 0.4897 - accuracy: 0.9910 - val_loss: 2.3926 - val_accuracy: 0.9750\n",
            "Epoch 43/50\n",
            "63/63 [==============================] - 10s 157ms/step - loss: 0.6282 - accuracy: 0.9900 - val_loss: 2.0482 - val_accuracy: 0.9790\n",
            "Epoch 44/50\n",
            "63/63 [==============================] - 10s 151ms/step - loss: 0.5995 - accuracy: 0.9870 - val_loss: 2.9399 - val_accuracy: 0.9690\n",
            "Epoch 45/50\n",
            "63/63 [==============================] - 10s 162ms/step - loss: 0.7658 - accuracy: 0.9855 - val_loss: 1.5641 - val_accuracy: 0.9810\n",
            "Epoch 46/50\n",
            "63/63 [==============================] - 10s 157ms/step - loss: 0.6722 - accuracy: 0.9860 - val_loss: 2.2076 - val_accuracy: 0.9790\n",
            "Epoch 47/50\n",
            "63/63 [==============================] - 12s 181ms/step - loss: 0.3016 - accuracy: 0.9895 - val_loss: 1.5986 - val_accuracy: 0.9820\n",
            "Epoch 48/50\n",
            "63/63 [==============================] - 11s 161ms/step - loss: 0.6044 - accuracy: 0.9865 - val_loss: 1.2749 - val_accuracy: 0.9810\n",
            "Epoch 49/50\n",
            "63/63 [==============================] - 10s 149ms/step - loss: 0.6633 - accuracy: 0.9885 - val_loss: 1.7321 - val_accuracy: 0.9830\n",
            "Epoch 50/50\n",
            "63/63 [==============================] - 10s 154ms/step - loss: 0.4564 - accuracy: 0.9910 - val_loss: 1.6570 - val_accuracy: 0.9770\n"
          ]
        }
      ]
    },
    {
      "cell_type": "code",
      "source": [
        "import matplotlib.pyplot as plt\n",
        "\n",
        "\n",
        "def show_history(history):\n",
        "    loss = history.history['loss']\n",
        "    val_loss = history.history['val_loss']\n",
        "    epochs = range(1, len(loss) + 1)\n",
        "    plt.figure(figsize=(12, 4))\n",
        "    plt.subplot(1, 2, 1)\n",
        "    plt.plot(epochs, loss, 'bo', label='Training loss')\n",
        "    plt.plot(epochs, val_loss, 'b', label='Validation loss')\n",
        "    plt.title('Training and validation loss')\n",
        "    plt.xlabel('Epochs')\n",
        "    plt.ylabel('Loss')\n",
        "    plt.legend()\n",
        "    acc = history.history['accuracy']\n",
        "    val_acc = history.history['val_accuracy']\n",
        "    plt.subplot(1, 2, 2)\n",
        "    plt.plot(epochs, acc, 'bo', label='Training acc')\n",
        "    plt.plot(epochs, val_acc, 'b', label='Validation acc')\n",
        "    plt.title('Training and validation accuracy')\n",
        "    plt.xlabel('Epochs')\n",
        "    plt.ylabel('Accuracy')\n",
        "    plt.legend()\n",
        "    plt.show()"
      ],
      "metadata": {
        "id": "wZ0ftfmInFj9"
      },
      "execution_count": 30,
      "outputs": []
    },
    {
      "cell_type": "code",
      "source": [
        "show_history(history)"
      ],
      "metadata": {
        "colab": {
          "base_uri": "https://localhost:8080/",
          "height": 410
        },
        "id": "_RK-i441tB6o",
        "outputId": "4f6dccfe-2b09-405e-de6d-82f42cb197c5"
      },
      "execution_count": 31,
      "outputs": [
        {
          "output_type": "display_data",
          "data": {
            "text/plain": [
              "<Figure size 1200x400 with 2 Axes>"
            ],
            "image/png": "[encoded data removed]"
          },
          "metadata": {}
        }
      ]
    },
    {
      "cell_type": "code",
      "source": [
        "test_model = keras.models.load_model(\n",
        "    \"/content/features_extraction_with_data_augmentation.h5\")\n",
        "test_loss, test_acc = test_model.evaluate(test_dataset)\n",
        "print(f\"Test accuracy: {test_acc:.3f}\")"
      ],
      "metadata": {
        "colab": {
          "base_uri": "https://localhost:8080/"
        },
        "id": "u4F7UzgrtDha",
        "outputId": "61c875be-4b2e-4dde-c7cf-c6157059f038"
      },
      "execution_count": 33,
      "outputs": [
        {
          "output_type": "stream",
          "name": "stdout",
          "text": [
            "63/63 [==============================] - 7s 96ms/step - loss: 2.1917 - accuracy: 0.9760\n",
            "Test accuracy: 0.976\n"
          ]
        }
      ]
    },
    {
      "cell_type": "code",
      "source": [
        "conv_base.summary()"
      ],
      "metadata": {
        "colab": {
          "base_uri": "https://localhost:8080/"
        },
        "id": "kav2QosZtRPU",
        "outputId": "70a337e6-7632-4c87-aed6-b6672e39b57b"
      },
      "execution_count": 35,
      "outputs": [
        {
          "output_type": "stream",
          "name": "stdout",
          "text": [
            "Model: \"vgg16\"\n",
            "_________________________________________________________________\n",
            " Layer (type)                Output Shape              Param #   \n",
            "=================================================================\n",
            " input_1 (InputLayer)        [(None, None, None, 3)]   0         \n",
            "                                                                 \n",
            " block1_conv1 (Conv2D)       (None, None, None, 64)    1792      \n",
            "                                                                 \n",
            " block1_conv2 (Conv2D)       (None, None, None, 64)    36928     \n",
            "                                                                 \n",
            " block1_pool (MaxPooling2D)  (None, None, None, 64)    0         \n",
            "                                                                 \n",
            " block2_conv1 (Conv2D)       (None, None, None, 128)   73856     \n",
            "                                                                 \n",
            " block2_conv2 (Conv2D)       (None, None, None, 128)   147584    \n",
            "                                                                 \n",
            " block2_pool (MaxPooling2D)  (None, None, None, 128)   0         \n",
            "                                                                 \n",
            " block3_conv1 (Conv2D)       (None, None, None, 256)   295168    \n",
            "                                                                 \n",
            " block3_conv2 (Conv2D)       (None, None, None, 256)   590080    \n",
            "                                                                 \n",
            " block3_conv3 (Conv2D)       (None, None, None, 256)   590080    \n",
            "                                                                 \n",
            " block3_pool (MaxPooling2D)  (None, None, None, 256)   0         \n",
            "                                                                 \n",
            " block4_conv1 (Conv2D)       (None, None, None, 512)   1180160   \n",
            "                                                                 \n",
            " block4_conv2 (Conv2D)       (None, None, None, 512)   2359808   \n",
            "                                                                 \n",
            " block4_conv3 (Conv2D)       (None, None, None, 512)   2359808   \n",
            "                                                                 \n",
            " block4_pool (MaxPooling2D)  (None, None, None, 512)   0         \n",
            "                                                                 \n",
            " block5_conv1 (Conv2D)       (None, None, None, 512)   2359808   \n",
            "                                                                 \n",
            " block5_conv2 (Conv2D)       (None, None, None, 512)   2359808   \n",
            "                                                                 \n",
            " block5_conv3 (Conv2D)       (None, None, None, 512)   2359808   \n",
            "                                                                 \n",
            " block5_pool (MaxPooling2D)  (None, None, None, 512)   0         \n",
            "                                                                 \n",
            "=================================================================\n",
            "Total params: 14714688 (56.13 MB)\n",
            "Trainable params: 0 (0.00 Byte)\n",
            "Non-trainable params: 14714688 (56.13 MB)\n",
            "_________________________________________________________________\n"
          ]
        }
      ]
    },
    {
      "cell_type": "markdown",
      "source": [
        "**Fine tuning**\n",
        "\n",
        "**Freezing all layers until the fourth from the last**"
      ],
      "metadata": {
        "id": "6cOeSC_YwWjo"
      }
    },
    {
      "cell_type": "code",
      "source": [
        "conv_base.layers"
      ],
      "metadata": {
        "colab": {
          "base_uri": "https://localhost:8080/"
        },
        "id": "a8O9jHSvtgnK",
        "outputId": "67e04a1e-013d-4c21-fd29-5ec2b748c899"
      },
      "execution_count": 36,
      "outputs": [
        {
          "output_type": "execute_result",
          "data": {
            "text/plain": [
              "[<keras.src.engine.input_layer.InputLayer at 0x7e5b2fbce650>,\n",
              " <keras.src.layers.convolutional.conv2d.Conv2D at 0x7e5b04450c40>,\n",
              " <keras.src.layers.convolutional.conv2d.Conv2D at 0x7e5b04451360>,\n",
              " <keras.src.layers.pooling.max_pooling2d.MaxPooling2D at 0x7e5b04452080>,\n",
              " <keras.src.layers.convolutional.conv2d.Conv2D at 0x7e5b04452800>,\n",
              " <keras.src.layers.convolutional.conv2d.Conv2D at 0x7e5b04452f50>,\n",
              " <keras.src.layers.pooling.max_pooling2d.MaxPooling2D at 0x7e5b044532b0>,\n",
              " <keras.src.layers.convolutional.conv2d.Conv2D at 0x7e5b04453a90>,\n",
              " <keras.src.layers.convolutional.conv2d.Conv2D at 0x7e5b04452410>,\n",
              " <keras.src.layers.convolutional.conv2d.Conv2D at 0x7e5b045016f0>,\n",
              " <keras.src.layers.pooling.max_pooling2d.MaxPooling2D at 0x7e5b045028f0>,\n",
              " <keras.src.layers.convolutional.conv2d.Conv2D at 0x7e5b04503160>,\n",
              " <keras.src.layers.convolutional.conv2d.Conv2D at 0x7e5b04503880>,\n",
              " <keras.src.layers.convolutional.conv2d.Conv2D at 0x7e5b04502530>,\n",
              " <keras.src.layers.pooling.max_pooling2d.MaxPooling2D at 0x7e5b04519630>,\n",
              " <keras.src.layers.convolutional.conv2d.Conv2D at 0x7e5b04502e00>,\n",
              " <keras.src.layers.convolutional.conv2d.Conv2D at 0x7e5b04519ea0>,\n",
              " <keras.src.layers.convolutional.conv2d.Conv2D at 0x7e5b0451a5c0>,\n",
              " <keras.src.layers.pooling.max_pooling2d.MaxPooling2D at 0x7e5b0451bdf0>]"
            ]
          },
          "metadata": {},
          "execution_count": 36
        }
      ]
    },
    {
      "cell_type": "code",
      "source": [
        "conv_base.trainable = True\n",
        "for layer in conv_base.layers[:-4]:\n",
        "    layer.trainable = False"
      ],
      "metadata": {
        "id": "CzG5b1UGwsn_"
      },
      "execution_count": 46,
      "outputs": []
    },
    {
      "cell_type": "code",
      "source": [
        "model.summary()"
      ],
      "metadata": {
        "colab": {
          "base_uri": "https://localhost:8080/"
        },
        "id": "RM0jDW_7wxmW",
        "outputId": "19af9be7-cb50-4149-c50e-2b1cd0e61234"
      },
      "execution_count": 38,
      "outputs": [
        {
          "output_type": "stream",
          "name": "stdout",
          "text": [
            "Model: \"model\"\n",
            "_________________________________________________________________\n",
            " Layer (type)                Output Shape              Param #   \n",
            "=================================================================\n",
            " input_2 (InputLayer)        [(None, 180, 180, 3)]     0         \n",
            "                                                                 \n",
            " sequential (Sequential)     (None, 180, 180, 3)       0         \n",
            "                                                                 \n",
            " tf.__operators__.getitem (  (None, 180, 180, 3)       0         \n",
            " SlicingOpLambda)                                                \n",
            "                                                                 \n",
            " tf.nn.bias_add (TFOpLambda  (None, 180, 180, 3)       0         \n",
            " )                                                               \n",
            "                                                                 \n",
            " vgg16 (Functional)          (None, None, None, 512)   14714688  \n",
            "                                                                 \n",
            " flatten (Flatten)           (None, 12800)             0         \n",
            "                                                                 \n",
            " dense (Dense)               (None, 256)               3277056   \n",
            "                                                                 \n",
            " dropout (Dropout)           (None, 256)               0         \n",
            "                                                                 \n",
            " dense_1 (Dense)             (None, 1)                 257       \n",
            "                                                                 \n",
            "=================================================================\n",
            "Total params: 17992001 (68.63 MB)\n",
            "Trainable params: 10356737 (39.51 MB)\n",
            "Non-trainable params: 7635264 (29.13 MB)\n",
            "_________________________________________________________________\n"
          ]
        }
      ]
    },
    {
      "cell_type": "code",
      "source": [
        "model.layers"
      ],
      "metadata": {
        "colab": {
          "base_uri": "https://localhost:8080/"
        },
        "id": "pG45BLKuyV6X",
        "outputId": "6c9cc80b-badd-4a7a-8f6d-1e50d907e0a8"
      },
      "execution_count": 39,
      "outputs": [
        {
          "output_type": "execute_result",
          "data": {
            "text/plain": [
              "[<keras.src.engine.input_layer.InputLayer at 0x7e5b044516f0>,\n",
              " <keras.src.engine.sequential.Sequential at 0x7e5b0451b6a0>,\n",
              " <keras.src.layers.core.tf_op_layer.SlicingOpLambda at 0x7e5b04531d80>,\n",
              " <keras.src.layers.core.tf_op_layer.TFOpLambda at 0x7e5b0439b730>,\n",
              " <keras.src.engine.functional.Functional at 0x7e5b045300d0>,\n",
              " <keras.src.layers.reshaping.flatten.Flatten at 0x7e5b04532560>,\n",
              " <keras.src.layers.core.dense.Dense at 0x7e5b04453d60>,\n",
              " <keras.src.layers.regularization.dropout.Dropout at 0x7e5b0444a3b0>,\n",
              " <keras.src.layers.core.dense.Dense at 0x7e5b0444aad0>]"
            ]
          },
          "metadata": {},
          "execution_count": 39
        }
      ]
    },
    {
      "cell_type": "code",
      "source": [
        "model.compile(loss=\"binary_crossentropy\",\n",
        "              optimizer=keras.optimizers.RMSprop(learning_rate=1e-5),\n",
        "              metrics=[\"accuracy\"])"
      ],
      "metadata": {
        "id": "bebT7082yqjR"
      },
      "execution_count": 47,
      "outputs": []
    },
    {
      "cell_type": "code",
      "source": [
        "callbacks = [\n",
        "    keras.callbacks.ModelCheckpoint(\n",
        "        filepath=\"fine_tuning.h5\",\n",
        "        save_best_only=True,\n",
        "        monitor=\"val_loss\")\n",
        "]"
      ],
      "metadata": {
        "id": "Rm_x9_1Sy1Xp"
      },
      "execution_count": 48,
      "outputs": []
    },
    {
      "cell_type": "code",
      "source": [
        "# 共同训练解冻的这些层和新添加的部分\n",
        "history = model.fit(\n",
        "    train_dataset,\n",
        "    epochs=30,\n",
        "    validation_data=validation_dataset,\n",
        "    callbacks=callbacks)"
      ],
      "metadata": {
        "colab": {
          "base_uri": "https://localhost:8080/"
        },
        "id": "G2K37MPmzqDe",
        "outputId": "0a447513-b509-454a-e891-03a6c548302d"
      },
      "execution_count": 49,
      "outputs": [
        {
          "output_type": "stream",
          "name": "stdout",
          "text": [
            "Epoch 1/30\n",
            "63/63 [==============================] - ETA: 0s - loss: 0.5792 - accuracy: 0.9885"
          ]
        },
        {
          "output_type": "stream",
          "name": "stderr",
          "text": [
            "/usr/local/lib/python3.10/dist-packages/keras/src/engine/training.py:3103: UserWarning: You are saving your model as an HDF5 file via `model.save()`. This file format is considered legacy. We recommend using instead the native Keras format, e.g. `model.save('my_model.keras')`.\n",
            "  saving_api.save_model(\n"
          ]
        },
        {
          "output_type": "stream",
          "name": "stdout",
          "text": [
            "\b\b\b\b\b\b\b\b\b\b\b\b\b\b\b\b\b\b\b\b\b\b\b\b\b\b\b\b\b\b\b\b\b\b\b\b\b\b\b\b\b\b\b\b\b\b\b\b\b\b\b\b\b\b\b\b\b\b\b\b\b\b\b\b\b\b\b\b\b\b\b\b\b\b\b\b\b\b\b\b\b\b\r63/63 [==============================] - 14s 177ms/step - loss: 0.5792 - accuracy: 0.9885 - val_loss: 1.6992 - val_accuracy: 0.9800\n",
            "Epoch 2/30\n",
            "63/63 [==============================] - 10s 156ms/step - loss: 0.2839 - accuracy: 0.9915 - val_loss: 1.9475 - val_accuracy: 0.9770\n",
            "Epoch 3/30\n",
            "63/63 [==============================] - 13s 201ms/step - loss: 0.3550 - accuracy: 0.9880 - val_loss: 1.5819 - val_accuracy: 0.9790\n",
            "Epoch 4/30\n",
            "63/63 [==============================] - 11s 168ms/step - loss: 0.2805 - accuracy: 0.9925 - val_loss: 1.2863 - val_accuracy: 0.9770\n",
            "Epoch 5/30\n",
            "63/63 [==============================] - 12s 183ms/step - loss: 0.3578 - accuracy: 0.9895 - val_loss: 1.2501 - val_accuracy: 0.9800\n",
            "Epoch 6/30\n",
            "63/63 [==============================] - 11s 171ms/step - loss: 0.4127 - accuracy: 0.9900 - val_loss: 1.3738 - val_accuracy: 0.9770\n",
            "Epoch 7/30\n",
            "63/63 [==============================] - 12s 182ms/step - loss: 0.2514 - accuracy: 0.9940 - val_loss: 1.3495 - val_accuracy: 0.9770\n",
            "Epoch 8/30\n",
            "63/63 [==============================] - 13s 198ms/step - loss: 0.3094 - accuracy: 0.9910 - val_loss: 1.3036 - val_accuracy: 0.9780\n",
            "Epoch 9/30\n",
            "63/63 [==============================] - 11s 168ms/step - loss: 0.1950 - accuracy: 0.9935 - val_loss: 1.3008 - val_accuracy: 0.9820\n",
            "Epoch 10/30\n",
            "63/63 [==============================] - 11s 174ms/step - loss: 0.2167 - accuracy: 0.9945 - val_loss: 1.5364 - val_accuracy: 0.9800\n",
            "Epoch 11/30\n",
            "63/63 [==============================] - 11s 169ms/step - loss: 0.1904 - accuracy: 0.9945 - val_loss: 1.7071 - val_accuracy: 0.9750\n",
            "Epoch 12/30\n",
            "63/63 [==============================] - 13s 203ms/step - loss: 0.0830 - accuracy: 0.9950 - val_loss: 1.3137 - val_accuracy: 0.9780\n",
            "Epoch 13/30\n",
            "63/63 [==============================] - 13s 194ms/step - loss: 0.1398 - accuracy: 0.9950 - val_loss: 1.2615 - val_accuracy: 0.9810\n",
            "Epoch 14/30\n",
            "63/63 [==============================] - 13s 197ms/step - loss: 0.2118 - accuracy: 0.9950 - val_loss: 1.3247 - val_accuracy: 0.9760\n",
            "Epoch 15/30\n",
            "63/63 [==============================] - 13s 205ms/step - loss: 0.1639 - accuracy: 0.9950 - val_loss: 1.0637 - val_accuracy: 0.9830\n",
            "Epoch 16/30\n",
            "63/63 [==============================] - 11s 171ms/step - loss: 0.2397 - accuracy: 0.9945 - val_loss: 2.9312 - val_accuracy: 0.9670\n",
            "Epoch 17/30\n",
            "63/63 [==============================] - 11s 176ms/step - loss: 0.1872 - accuracy: 0.9945 - val_loss: 1.6185 - val_accuracy: 0.9740\n",
            "Epoch 18/30\n",
            "63/63 [==============================] - 13s 198ms/step - loss: 0.2042 - accuracy: 0.9935 - val_loss: 1.3860 - val_accuracy: 0.9790\n",
            "Epoch 19/30\n",
            "63/63 [==============================] - 13s 198ms/step - loss: 0.1199 - accuracy: 0.9945 - val_loss: 1.4739 - val_accuracy: 0.9800\n",
            "Epoch 20/30\n",
            "63/63 [==============================] - 13s 196ms/step - loss: 0.1130 - accuracy: 0.9960 - val_loss: 1.3655 - val_accuracy: 0.9780\n",
            "Epoch 21/30\n",
            "63/63 [==============================] - 11s 170ms/step - loss: 0.1848 - accuracy: 0.9925 - val_loss: 1.5041 - val_accuracy: 0.9790\n",
            "Epoch 22/30\n",
            "63/63 [==============================] - 11s 175ms/step - loss: 0.0366 - accuracy: 0.9975 - val_loss: 1.8665 - val_accuracy: 0.9780\n",
            "Epoch 23/30\n",
            "63/63 [==============================] - 10s 164ms/step - loss: 0.1053 - accuracy: 0.9970 - val_loss: 1.1009 - val_accuracy: 0.9790\n",
            "Epoch 24/30\n",
            "63/63 [==============================] - 11s 170ms/step - loss: 0.2763 - accuracy: 0.9935 - val_loss: 1.4783 - val_accuracy: 0.9770\n",
            "Epoch 25/30\n",
            "63/63 [==============================] - 11s 163ms/step - loss: 0.0022 - accuracy: 0.9995 - val_loss: 1.4900 - val_accuracy: 0.9820\n",
            "Epoch 26/30\n",
            "63/63 [==============================] - 11s 176ms/step - loss: 0.0436 - accuracy: 0.9970 - val_loss: 1.9574 - val_accuracy: 0.9760\n",
            "Epoch 27/30\n",
            "63/63 [==============================] - 11s 172ms/step - loss: 0.1290 - accuracy: 0.9960 - val_loss: 1.8722 - val_accuracy: 0.9740\n",
            "Epoch 28/30\n",
            "63/63 [==============================] - 13s 201ms/step - loss: 0.1290 - accuracy: 0.9960 - val_loss: 1.6021 - val_accuracy: 0.9770\n",
            "Epoch 29/30\n",
            "63/63 [==============================] - 11s 174ms/step - loss: 0.0190 - accuracy: 0.9990 - val_loss: 1.6015 - val_accuracy: 0.9780\n",
            "Epoch 30/30\n",
            "63/63 [==============================] - 11s 171ms/step - loss: 0.0956 - accuracy: 0.9955 - val_loss: 1.4014 - val_accuracy: 0.9800\n"
          ]
        }
      ]
    },
    {
      "cell_type": "code",
      "source": [
        "show_history(history)"
      ],
      "metadata": {
        "colab": {
          "base_uri": "https://localhost:8080/",
          "height": 410
        },
        "id": "9SfUqBLvz4FR",
        "outputId": "4dc064e7-bafb-47ac-ade0-c16027b8a1ff"
      },
      "execution_count": 50,
      "outputs": [
        {
          "output_type": "display_data",
          "data": {
            "text/plain": [
              "<Figure size 1200x400 with 2 Axes>"
            ],
            "image/png": "[encoded data removed]"
          },
          "metadata": {}
        }
      ]
    },
    {
      "cell_type": "code",
      "source": [
        "model = keras.models.load_model(\"/content/fine_tuning.h5\")\n",
        "test_loss, test_acc = model.evaluate(test_dataset)\n",
        "print(f\"Test accuracy: {test_acc:.3f}\")"
      ],
      "metadata": {
        "colab": {
          "base_uri": "https://localhost:8080/"
        },
        "id": "SvDIVqwu1sDx",
        "outputId": "c68b2f99-efa8-47d9-b410-e7d85adee831"
      },
      "execution_count": 51,
      "outputs": [
        {
          "output_type": "stream",
          "name": "stdout",
          "text": [
            "63/63 [==============================] - 6s 95ms/step - loss: 1.8714 - accuracy: 0.9745\n",
            "Test accuracy: 0.975\n"
          ]
        }
      ]
    },
    {
      "cell_type": "code",
      "source": [],
      "metadata": {
        "id": "-egE601814IM"
      },
      "execution_count": null,
      "outputs": []
    }
  ]
}